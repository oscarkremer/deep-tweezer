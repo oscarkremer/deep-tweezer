{
 "cells": [
  {
   "cell_type": "code",
   "execution_count": 1,
   "id": "cb15279f",
   "metadata": {},
   "outputs": [
    {
     "name": "stderr",
     "output_type": "stream",
     "text": [
      "/home/oscar.kremer/miniconda3/envs/deep-tweezer/lib/python3.6/site-packages/gym/core.py:26: UserWarning: \u001b[33mWARN: Gym minimally supports python 3.6 as the python foundation not longer supports the version, please update your version to 3.7+\u001b[0m\n",
      "  \"Gym minimally supports python 3.6 as the python foundation not longer supports the version, please update your version to 3.7+\"\n"
     ]
    }
   ],
   "source": [
    "from os import path\n",
    "import numpy as np\n",
    "import gym\n",
    "from gym import spaces\n",
    "from gym.error import DependencyNotInstalled\n",
    "from gym.utils.renderer import Renderer\n",
    "from typing import Optional"
   ]
  },
  {
   "cell_type": "code",
   "execution_count": 2,
   "id": "07e2a1ce",
   "metadata": {},
   "outputs": [],
   "source": [
    "from os import path\n",
    "import numpy as np\n",
    "import gym\n",
    "from gym import spaces\n",
    "from gym.error import DependencyNotInstalled\n",
    "from gym.utils.renderer import Renderer\n",
    "\n",
    "\n",
    "class Tweezer(gym.Env):\n",
    "    \"\"\"\n",
    "       ### Description\n",
    "    The inverted pendulum swingup problem is based on the classic problem in control theory.\n",
    "    The system consists of a pendulum attached at one end to a fixed point, and the other end being free.\n",
    "    The pendulum starts in a random position and the goal is to apply torque on the free end to swing it\n",
    "    into an upright position, with its center of gravity right above the fixed point.\n",
    "    The diagram below specifies the coordinate system used for the implementation of the pendulum's\n",
    "    dynamic equations.\n",
    "    ![Pendulum Coordinate System](./diagrams/pendulum.png)\n",
    "    -  `x-y`: cartesian coordinates of the pendulum's end in meters.\n",
    "    - `theta` : angle in radians.\n",
    "    - `tau`: torque in `N m`. Defined as positive _counter-clockwise_.\n",
    "    ### Action Space\n",
    "    The action is a `ndarray` with shape `(1,)` representing the torque applied to free end of the pendulum.\n",
    "    | Num | Action | Min  | Max |\n",
    "    |-----|--------|------|-----|\n",
    "    | 0   | Torque | -2.0 | 2.0 |\n",
    "    ### Observation Space\n",
    "    The observation is a `ndarray` with shape `(3,)` representing the x-y coordinates of the pendulum's free\n",
    "    end and its angular velocity.\n",
    "    | Num | Observation      | Min  | Max |\n",
    "    |-----|------------------|------|-----|\n",
    "    | 0   | x = cos(theta)   | -1.0 | 1.0 |\n",
    "    | 1   | y = sin(angle)   | -1.0 | 1.0 |\n",
    "    | 2   | Angular Velocity | -8.0 | 8.0 |\n",
    "    ### Rewards\n",
    "    The reward function is defined as:\n",
    "    *r = -(theta<sup>2</sup> + 0.1 * theta_dt<sup>2</sup> + 0.001 * torque<sup>2</sup>)*\n",
    "    where `$\\theta$` is the pendulum's angle normalized between *[-pi, pi]* (with 0 being in the upright position).\n",
    "    Based on the above equation, the minimum reward that can be obtained is\n",
    "    *-(pi<sup>2</sup> + 0.1 * 8<sup>2</sup> + 0.001 * 2<sup>2</sup>) = -16.2736044*,\n",
    "    while the maximum reward is zero (pendulum is upright with zero velocity and no torque applied).\n",
    "    ### Starting State\n",
    "    The starting state is a random angle in *[-pi, pi]* and a random angular velocity in *[-1,1]*.\n",
    "    ### Episode Termination\n",
    "    The episode terminates at 200 time steps.\n",
    "    ### Arguments\n",
    "    - `g`: acceleration of gravity measured in *(m s<sup>-2</sup>)* used to calculate the pendulum dynamics.\n",
    "      The default value is g = 10.0 .\n",
    "    ```\n",
    "    gym.make('Pendulum-v1', g=9.81)\n",
    "    ```\n",
    "    ### Version History\n",
    "    * v1: Simplify the math equations, no difference in behavior.\n",
    "    * v0: Initial versions release (1.0.0)\n",
    "    \"\"\"\n",
    "\n",
    "    metadata = {\n",
    "        \"render_modes\": [\"human\", \"rgb_array\", \"single_rgb_array\"],\n",
    "        \"render_fps\": 30,\n",
    "    }\n",
    "\n",
    "    def __init__(self, render_mode: Optional[str] = None):\n",
    "        avogrado = 6.02*(10**23) # 1/mol\n",
    "        kB = 1.380649*(10**-23) # m^2 kg /(s^2 K)\n",
    "        c = 3*(10**8) # m/s\n",
    "        self.m_gas_molecule = 0.02897/avogrado  # kg\n",
    "        self.max_voltage = 10.0 # V\n",
    "        self.m = 1.14*(10**-18) # kg\n",
    "        self.d = 11*(10**-3) # m\n",
    "        self.R = 50*(10**-9) # m\n",
    "        self.T = 273.5 + 25 # K\n",
    "        self.pressure = 10**3 # Pa\n",
    "        self.Q = 2*(10**4)*(1.6*(10**-19))*np.power(self.R/(2.5*10**-6), 3) # Coulomb\n",
    "        self.gas_velocity = np.sqrt((3*kB*self.T/self.m_gas_molecule)) # m/s\n",
    "        self.omega_0 = 2*np.pi*150*(10**3) # rad/s\n",
    "        self.gamma = 15.8*(np.power(self.R, 2)*self.pressure)/self.gas_velocity # kg/s\n",
    "        self.dt = 5*10**-7 # s\n",
    "        self.noise_amplitude = np.sqrt(2*kB*self.T*self.gamma) # N\n",
    "        self.std_noise = 1 # adimensional\n",
    "        self.render_mode = render_mode\n",
    "        self.renderer = Renderer(self.render_mode, self._render)\n",
    "        self.screen_dim = 500\n",
    "        self.screen = None\n",
    "        self.clock = None\n",
    "        self.isopen = True\n",
    "\n",
    "        high = np.array([10**-3, 1000], dtype=np.float32)\n",
    "        # This will throw a warning in tests/envs/test_envs in utils/env_checker.py as the space is not symmetric\n",
    "        #   or normalised as max_torque == 2 by default. Ignoring the issue here as the default settings are too old\n",
    "        #   to update to follow the openai gym api\n",
    "        self.action_space = spaces.Box(\n",
    "            low=-self.max_voltage, high=self.max_voltage, shape=(1,), dtype=np.float32\n",
    "        )\n",
    "        self.observation_space = spaces.Box(shape=(2,), \n",
    "                                            low=-high, \n",
    "                                            high=high, \n",
    "                                            dtype=np.float32)\n",
    "\n",
    "    def white_noise(self):\n",
    "        return self.noise_amplitude*np.random.normal(0, self.std_noise)\n",
    "\n",
    "    def step(self, u):\n",
    "        y, ydot = self.state  # th := theta\n",
    "        gamma = self.gamma\n",
    "        omega_0 = self.omega_0\n",
    "        m = self.m\n",
    "        Q = self.Q \n",
    "        d = self.d \n",
    "        u = np.clip(u, -self.max_voltage, self.max_voltage)[0]\n",
    "        eletric_F = Q*u/d\n",
    "        self.last_u = u  # for rendering\n",
    "        costs = -100*ydot**2 -u**2\n",
    "        random_force = self.white_noise()\n",
    "        a_i = (1/m)*(u + self.white_noise()) - np.power(self.omega_0, 2)*y - gamma*ydot\n",
    "        v_i_half = ydot + a_i*self.dt\n",
    "        x_i_plus = y + v_i_half*self.dt\n",
    "        a_i_plus = (1/m)*(u + self.white_noise()) - np.power(self.omega_0, 2)*x_i_plus - gamma*v_i_half\n",
    "        v_i_three_half = v_i_half + a_i_plus*self.dt\n",
    "        self.state = np.array([x_i_plus, v_i_three_half])\n",
    "#        self.renderer.render_step()\n",
    "        return self._get_obs(), costs, False, {}\n",
    "\n",
    "    def reset(\n",
    "        self,\n",
    "        *,\n",
    "        seed: Optional[int] = None,\n",
    "        return_info: bool = False,\n",
    "        options: Optional[dict] = None\n",
    "    ):\n",
    "        super().reset(seed=seed)\n",
    "        high = np.array([20*10**-9, 0.01])\n",
    "        self.state = self.np_random.uniform(low=-high, high=high)\n",
    "        self.last_u = None\n",
    "        self.renderer.reset()\n",
    "        self.renderer.render_step()\n",
    "        if not return_info:\n",
    "            return self._get_obs()\n",
    "        else:\n",
    "            return self._get_obs(), {}\n",
    "\n",
    "    def _get_obs(self):\n",
    "        y, ydot = self.state\n",
    "        return np.array([y, ydot], dtype=np.float32)\n",
    "\n",
    "    def render(self, mode=\"human\"):\n",
    "        if self.render_mode is not None:\n",
    "            return self.renderer.get_renders()\n",
    "        else:\n",
    "            return self._render(mode)\n",
    "\n",
    "    def _render(self, mode=\"human\"):\n",
    "        assert mode in self.metadata[\"render_modes\"]\n",
    "        try:\n",
    "            import pygame\n",
    "            from pygame import gfxdraw\n",
    "        except ImportError:\n",
    "            raise DependencyNotInstalled(\n",
    "                \"pygame is not installed, run `pip install gym[classic_control]`\"\n",
    "            )\n",
    "\n",
    "        if self.screen is None:\n",
    "            pygame.init()\n",
    "            if mode == \"human\":\n",
    "                pygame.display.init()\n",
    "                self.screen = pygame.display.set_mode(\n",
    "                    (self.screen_dim, self.screen_dim)\n",
    "                )\n",
    "            else:  # mode in {\"rgb_array\", \"single_rgb_array\"}\n",
    "                self.screen = pygame.Surface((self.screen_dim, self.screen_dim))\n",
    "        if self.clock is None:\n",
    "            self.clock = pygame.time.Clock()\n",
    "\n",
    "        self.surf = pygame.Surface((self.screen_dim, self.screen_dim))\n",
    "        self.surf.fill((255, 255, 255))\n",
    "\n",
    "        bound = 2.2\n",
    "        scale = self.screen_dim / (bound * 2)\n",
    "        offset = self.screen_dim // 2\n",
    "\n",
    "        rod_length = 1 * scale\n",
    "        rod_width = 0.2 * scale\n",
    "        l, r, t, b = 0, rod_length, rod_width / 2, -rod_width / 2\n",
    "        coords = [(l, b), (l, t), (r, t), (r, b)]\n",
    "        transformed_coords = []\n",
    "        for c in coords:\n",
    "            c = pygame.math.Vector2(c).rotate_rad(self.state[0] + np.pi / 2)\n",
    "            c = (c[0] + offset, c[1] + offset)\n",
    "            transformed_coords.append(c)\n",
    "        gfxdraw.aapolygon(self.surf, transformed_coords, (204, 77, 77))\n",
    "        gfxdraw.filled_polygon(self.surf, transformed_coords, (204, 77, 77))\n",
    "\n",
    "        gfxdraw.aacircle(self.surf, offset, offset, int(rod_width / 2), (204, 77, 77))\n",
    "        gfxdraw.filled_circle(\n",
    "            self.surf, offset, offset, int(rod_width / 2), (204, 77, 77)\n",
    "        )\n",
    "\n",
    "        rod_end = (rod_length, 0)\n",
    "        rod_end = pygame.math.Vector2(rod_end).rotate_rad(self.state[0] + np.pi / 2)\n",
    "        rod_end = (int(rod_end[0] + offset), int(rod_end[1] + offset))\n",
    "        gfxdraw.aacircle(\n",
    "            self.surf, rod_end[0], rod_end[1], int(rod_width / 2), (204, 77, 77)\n",
    "        )\n",
    "        gfxdraw.filled_circle(\n",
    "            self.surf, rod_end[0], rod_end[1], int(rod_width / 2), (204, 77, 77)\n",
    "        )\n",
    "\n",
    "        fname = path.join(path.dirname(__file__), \"assets/clockwise.png\")\n",
    "        img = pygame.image.load(fname)\n",
    "        if self.last_u is not None:\n",
    "            scale_img = pygame.transform.smoothscale(\n",
    "                img,\n",
    "                (scale * np.abs(self.last_u) / 2, scale * np.abs(self.last_u) / 2),\n",
    "            )\n",
    "            is_flip = bool(self.last_u > 0)\n",
    "            scale_img = pygame.transform.flip(scale_img, is_flip, True)\n",
    "            self.surf.blit(\n",
    "                scale_img,\n",
    "                (\n",
    "                    offset - scale_img.get_rect().centerx,\n",
    "                    offset - scale_img.get_rect().centery,\n",
    "                ),\n",
    "            )\n",
    "\n",
    "        # drawing axle\n",
    "        gfxdraw.aacircle(self.surf, offset, offset, int(0.05 * scale), (0, 0, 0))\n",
    "        gfxdraw.filled_circle(self.surf, offset, offset, int(0.05 * scale), (0, 0, 0))\n",
    "\n",
    "        self.surf = pygame.transform.flip(self.surf, False, True)\n",
    "        self.screen.blit(self.surf, (0, 0))\n",
    "        if mode == \"human\":\n",
    "            pygame.event.pump()\n",
    "            self.clock.tick(self.metadata[\"render_fps\"])\n",
    "            pygame.display.flip()\n",
    "\n",
    "        else:  # mode == \"rgb_array\":\n",
    "            return np.transpose(\n",
    "                np.array(pygame.surfarray.pixels3d(self.screen)), axes=(1, 0, 2)\n",
    "            )\n",
    "\n",
    "    def close(self):\n",
    "        if self.screen is not None:\n",
    "            import pygame\n",
    "\n",
    "            pygame.display.quit()\n",
    "            pygame.quit()\n",
    "            self.isopen = False"
   ]
  },
  {
   "cell_type": "code",
   "execution_count": 3,
   "id": "d49956a7",
   "metadata": {},
   "outputs": [],
   "source": [
    "env = Tweezer()"
   ]
  },
  {
   "cell_type": "code",
   "execution_count": 4,
   "id": "a3deeef7",
   "metadata": {},
   "outputs": [],
   "source": [
    "from tqdm import tqdm"
   ]
  },
  {
   "cell_type": "code",
   "execution_count": 88,
   "id": "f68ab88f",
   "metadata": {},
   "outputs": [
    {
     "name": "stderr",
     "output_type": "stream",
     "text": [
      "100%|██████████| 1000000/1000000 [00:27<00:00, 37005.68it/s]\n"
     ]
    }
   ],
   "source": [
    "\n",
    "states = []\n",
    "s = env.reset()\n",
    "for i in tqdm(range(10**6)):\n",
    "    sP, r, done, _ = env.step(np.array([0]))\n",
    "    states.append(sP)\n",
    "#    if i > 99000:\n",
    "#        print(sP)\n",
    "states = np.array(states)"
   ]
  },
  {
   "cell_type": "code",
   "execution_count": 89,
   "id": "16d9ff87",
   "metadata": {},
   "outputs": [
    {
     "data": {
      "text/plain": [
       "7.792892066031865e-14"
      ]
     },
     "execution_count": 89,
     "metadata": {},
     "output_type": "execute_result"
    }
   ],
   "source": [
    "env.gamma"
   ]
  },
  {
   "cell_type": "code",
   "execution_count": 90,
   "id": "cf1aaa26",
   "metadata": {},
   "outputs": [
    {
     "data": {
      "text/plain": [
       "array([ 0.0124015 ,  0.01615248,  0.01274005, ..., -0.02663928,\n",
       "       -0.01209167,  0.00783874], dtype=float32)"
      ]
     },
     "execution_count": 90,
     "metadata": {},
     "output_type": "execute_result"
    }
   ],
   "source": [
    "np.array(states[:,1])"
   ]
  },
  {
   "cell_type": "code",
   "execution_count": 91,
   "id": "033401b6",
   "metadata": {},
   "outputs": [
    {
     "data": {
      "image/png": "[encoded data removed]",
      "text/plain": [
       "<Figure size 432x288 with 1 Axes>"
      ]
     },
     "metadata": {
      "needs_background": "light"
     },
     "output_type": "display_data"
    }
   ],
   "source": [
    "plt.plot(states[:,0])\n",
    "plt.show()"
   ]
  },
  {
   "cell_type": "code",
   "execution_count": 92,
   "id": "d2d1edf4",
   "metadata": {},
   "outputs": [],
   "source": [
    "import matplotlib.pyplot as plt"
   ]
  },
  {
   "cell_type": "code",
   "execution_count": 93,
   "id": "d722f954",
   "metadata": {},
   "outputs": [
    {
     "data": {
      "image/png": "[encoded data removed]",
      "text/plain": [
       "<Figure size 432x288 with 1 Axes>"
      ]
     },
     "metadata": {
      "needs_background": "light"
     },
     "output_type": "display_data"
    }
   ],
   "source": [
    "plt.plot(states[:,1])\n",
    "plt.show()"
   ]
  },
  {
   "cell_type": "code",
   "execution_count": null,
   "id": "3c762109",
   "metadata": {},
   "outputs": [],
   "source": []
  },
  {
   "cell_type": "code",
   "execution_count": null,
   "id": "4c414176",
   "metadata": {},
   "outputs": [],
   "source": []
  }
 ],
 "metadata": {
  "kernelspec": {
   "display_name": "Python 3",
   "language": "python",
   "name": "python3"
  },
  "language_info": {
   "codemirror_mode": {
    "name": "ipython",
    "version": 3
   },
   "file_extension": ".py",
   "mimetype": "text/x-python",
   "name": "python",
   "nbconvert_exporter": "python",
   "pygments_lexer": "ipython3",
   "version": "3.6.15"
  }
 },
 "nbformat": 4,
 "nbformat_minor": 5
}
