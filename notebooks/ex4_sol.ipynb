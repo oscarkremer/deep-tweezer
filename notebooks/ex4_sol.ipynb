{
 "cells": [
  {
   "cell_type": "code",
   "execution_count": 3,
   "metadata": {},
   "outputs": [],
   "source": [
    "import numpy as np\n",
    "import matplotlib.pyplot as plt\n",
    "from src.environment import Tweezer, Pendulum\n",
    "from src.utils.memory import Memory\n",
    "from src.models import DDPG\n",
    "from src.models.RBF import rbfprojector\n",
    "from time import time\n",
    "from tqdm import tqdm"
   ]
  },
  {
   "cell_type": "code",
   "execution_count": 18,
   "metadata": {},
   "outputs": [],
   "source": [
    "def state_value_action_critic(env, \n",
    "                              sigma=1, \n",
    "                              gamma=0.99, \n",
    "                              alpha=0.2, \n",
    "                              beta=0.01, \n",
    "                              episodes=300, \n",
    "                              steps=2000, \n",
    "                              render_step=0, \n",
    "                              rate = 0.99,\n",
    "                              plot=True\n",
    "                             ):\n",
    "    s = env.reset()\n",
    "    feature = rbfprojector(21, 0.2)\n",
    "    w = np.zeros(len(feature([0, 0, 0])))\n",
    "    theta = np.random.rand(len(feature([0, 0, 0])))\n",
    "    start = time()\n",
    "    for e in tqdm(range(episodes)):\n",
    "        s = env.reset()\n",
    "        total_r = 0\n",
    "        rewards, actions, states = [], [], []\n",
    "        for t in range(steps):\n",
    "            # Compute phi_s and pi_s_theta\n",
    "            phi_s = feature(s)\n",
    "            pi_s_theta = np.dot(theta, phi_s)\n",
    "            # Take an action and apply to the system\n",
    "            a = np.random.normal(pi_s_theta, scale=sigma, size=None)\n",
    "            states.append(s)\n",
    "            sP, r, done, _ = env.step(a)\n",
    "            actions.append(a)\n",
    "            # Compute phi_sP\n",
    "            phi_sP = feature(sP)\n",
    "            # Compute delta and update w and theta\n",
    "            delta = r + gamma*np.dot(w, phi_sP) - np.dot(w, phi_s)\n",
    "            w = w + alpha*delta*phi_s\n",
    "            theta = theta + beta*(a-pi_s_theta)*phi_s*delta\n",
    "            total_r+=r\n",
    "            s = sP\n",
    "            if done:\n",
    "                break\n",
    "        print(total_r)\n",
    "        actions = np.array(actions)\n",
    "        states = np.array(states)\n",
    "        rewards.append(total_r) \n",
    "        sigma = sigma*rate\n",
    "    end = time()\n",
    "    env.close()\n",
    "#    return theta, w, np.array(rewards), end-start\n",
    "    return states, actions"
   ]
  },
  {
   "cell_type": "code",
   "execution_count": 19,
   "metadata": {},
   "outputs": [
    {
     "data": {
      "text/plain": [
       "100"
      ]
     },
     "execution_count": 19,
     "metadata": {},
     "output_type": "execute_result"
    }
   ],
   "source": [
    "env = Tweezer()\n",
    "env.max_voltage"
   ]
  },
  {
   "cell_type": "code",
   "execution_count": 20,
   "metadata": {},
   "outputs": [
    {
     "name": "stderr",
     "output_type": "stream",
     "text": [
      "  1%|          | 3/300 [00:00<00:12, 24.30it/s]"
     ]
    },
    {
     "name": "stdout",
     "output_type": "stream",
     "text": [
      "-985.9378589632304\n",
      "-1481.4178535281603\n",
      "-1303.9211249915538\n",
      "-1526.1717555015703\n",
      "-1502.5068976933967\n"
     ]
    },
    {
     "name": "stderr",
     "output_type": "stream",
     "text": [
      "  3%|▎         | 9/300 [00:00<00:11, 24.50it/s]"
     ]
    },
    {
     "name": "stdout",
     "output_type": "stream",
     "text": [
      "-1384.720053306825\n",
      "-1000.1649403450324\n",
      "-1052.3318857199542\n",
      "-1116.0393648038291\n",
      "-926.3203925513847\n"
     ]
    },
    {
     "name": "stderr",
     "output_type": "stream",
     "text": [
      "  5%|▌         | 15/300 [00:00<00:11, 24.59it/s]"
     ]
    },
    {
     "name": "stdout",
     "output_type": "stream",
     "text": [
      "-1516.0683962675948\n",
      "-709.427023524584\n",
      "-1289.650461526131\n",
      "-1045.2641095326528\n",
      "-1676.8477188562426\n"
     ]
    },
    {
     "name": "stderr",
     "output_type": "stream",
     "text": [
      "\r",
      "  6%|▌         | 18/300 [00:00<00:11, 24.47it/s]"
     ]
    },
    {
     "name": "stdout",
     "output_type": "stream",
     "text": [
      "-1429.907511496754\n",
      "-1443.6932815689147\n",
      "-1238.1650171898445\n",
      "-1059.5223982703012\n",
      "-951.5708364379091\n"
     ]
    },
    {
     "name": "stderr",
     "output_type": "stream",
     "text": [
      "  8%|▊         | 24/300 [00:00<00:11, 24.26it/s]"
     ]
    },
    {
     "name": "stdout",
     "output_type": "stream",
     "text": [
      "-1523.5253587911066\n",
      "-1440.6304105576444\n",
      "-752.7889664107669\n",
      "-1495.4752963081105\n",
      "-1024.1044862366211\n"
     ]
    },
    {
     "name": "stderr",
     "output_type": "stream",
     "text": [
      " 10%|█         | 30/300 [00:01<00:11, 24.27it/s]"
     ]
    },
    {
     "name": "stdout",
     "output_type": "stream",
     "text": [
      "-1326.3418199011226\n",
      "-1207.556178610424\n",
      "-1498.67254923089\n",
      "-901.3746336658487\n",
      "-1532.7297174592613\n"
     ]
    },
    {
     "name": "stderr",
     "output_type": "stream",
     "text": [
      "\r",
      " 11%|█         | 33/300 [00:01<00:11, 23.97it/s]"
     ]
    },
    {
     "name": "stdout",
     "output_type": "stream",
     "text": [
      "-1389.692532102562\n",
      "-1076.798817730523\n",
      "-1351.521057427747\n",
      "-1628.1167349310836\n",
      "-1468.7591870481579\n"
     ]
    },
    {
     "name": "stderr",
     "output_type": "stream",
     "text": [
      " 13%|█▎        | 39/300 [00:01<00:11, 23.56it/s]"
     ]
    },
    {
     "name": "stdout",
     "output_type": "stream",
     "text": [
      "-1491.219108217694\n",
      "-1533.887358626234\n",
      "-731.97655291118\n",
      "-1103.5319309083768\n",
      "-1129.2008571368222\n"
     ]
    },
    {
     "name": "stderr",
     "output_type": "stream",
     "text": [
      " 15%|█▌        | 45/300 [00:01<00:10, 23.58it/s]"
     ]
    },
    {
     "name": "stdout",
     "output_type": "stream",
     "text": [
      "-1434.2347990932603\n",
      "-895.0754092144882\n",
      "-1172.3087948507068\n",
      "-713.7061914146699\n",
      "-972.1195799507168\n"
     ]
    },
    {
     "name": "stderr",
     "output_type": "stream",
     "text": [
      "\r",
      " 16%|█▌        | 48/300 [00:02<00:10, 23.45it/s]"
     ]
    },
    {
     "name": "stdout",
     "output_type": "stream",
     "text": [
      "-1413.9366968339248\n",
      "-954.737869760857\n",
      "-1384.5463422023101\n",
      "-1504.0588149220946\n",
      "-992.623374962847\n"
     ]
    },
    {
     "name": "stderr",
     "output_type": "stream",
     "text": [
      " 18%|█▊        | 54/300 [00:02<00:10, 23.67it/s]"
     ]
    },
    {
     "name": "stdout",
     "output_type": "stream",
     "text": [
      "-1402.2755611390655\n",
      "-1465.5212675593034\n",
      "-1044.4456120152452\n",
      "-1564.2500550070201\n",
      "-1469.85621957468\n"
     ]
    },
    {
     "name": "stderr",
     "output_type": "stream",
     "text": [
      " 20%|██        | 60/300 [00:02<00:10, 23.76it/s]"
     ]
    },
    {
     "name": "stdout",
     "output_type": "stream",
     "text": [
      "-1407.2500391525348\n",
      "-1193.1916480521852\n",
      "-1067.43535089083\n",
      "-1504.9427138249634\n",
      "-1494.3394597282213\n"
     ]
    },
    {
     "name": "stderr",
     "output_type": "stream",
     "text": [
      "\r",
      " 21%|██        | 63/300 [00:02<00:09, 23.74it/s]"
     ]
    },
    {
     "name": "stdout",
     "output_type": "stream",
     "text": [
      "-958.3010557736023\n",
      "-966.3250036115996\n",
      "-1283.356700365268\n",
      "-1516.48283714311\n",
      "-1257.716725733024\n"
     ]
    },
    {
     "name": "stderr",
     "output_type": "stream",
     "text": [
      " 23%|██▎       | 69/300 [00:02<00:09, 23.84it/s]"
     ]
    },
    {
     "name": "stdout",
     "output_type": "stream",
     "text": [
      "-938.3966547577936\n",
      "-1121.7391830937363\n",
      "-1318.6111482974068\n",
      "-1522.413475285145\n",
      "-968.861752429207\n"
     ]
    },
    {
     "name": "stderr",
     "output_type": "stream",
     "text": [
      " 25%|██▌       | 75/300 [00:03<00:09, 23.41it/s]"
     ]
    },
    {
     "name": "stdout",
     "output_type": "stream",
     "text": [
      "-1491.861133537882\n",
      "-1351.9399852656047\n",
      "-859.9214631477774\n",
      "-861.5516473639552\n",
      "-1103.6977152609861\n"
     ]
    },
    {
     "name": "stderr",
     "output_type": "stream",
     "text": [
      "\r",
      " 26%|██▌       | 78/300 [00:03<00:09, 23.32it/s]"
     ]
    },
    {
     "name": "stdout",
     "output_type": "stream",
     "text": [
      "-1070.0020323728427\n",
      "-966.8680714631394\n",
      "-1494.0852032516088\n",
      "-1508.138394895236\n",
      "-1209.8021736811265\n"
     ]
    },
    {
     "name": "stderr",
     "output_type": "stream",
     "text": [
      " 28%|██▊       | 84/300 [00:03<00:09, 23.30it/s]"
     ]
    },
    {
     "name": "stdout",
     "output_type": "stream",
     "text": [
      "-886.1062283849457\n",
      "-1348.6545196969857\n",
      "-769.139263055447\n",
      "-1509.8002197841586\n",
      "-1492.5210965919957\n"
     ]
    },
    {
     "name": "stderr",
     "output_type": "stream",
     "text": [
      " 30%|███       | 90/300 [00:03<00:08, 23.66it/s]"
     ]
    },
    {
     "name": "stdout",
     "output_type": "stream",
     "text": [
      "-1108.625032729913\n",
      "-1496.9202114892114\n",
      "-1492.1503799461775\n",
      "-793.6962615848528\n",
      "-1155.130734898561\n"
     ]
    },
    {
     "name": "stderr",
     "output_type": "stream",
     "text": [
      "\r",
      " 31%|███       | 93/300 [00:03<00:08, 23.68it/s]"
     ]
    },
    {
     "name": "stdout",
     "output_type": "stream",
     "text": [
      "-1409.3257822794287\n",
      "-1356.8376331010231\n",
      "-872.345732047521\n",
      "-1298.9672896689276\n",
      "-1495.3249626320867\n"
     ]
    },
    {
     "name": "stderr",
     "output_type": "stream",
     "text": [
      " 33%|███▎      | 99/300 [00:04<00:08, 23.43it/s]"
     ]
    },
    {
     "name": "stdout",
     "output_type": "stream",
     "text": [
      "-1189.3647909519898\n",
      "-1496.4516492265461\n",
      "-931.5626980158855\n",
      "-1097.130059414804\n",
      "-952.4315786845605\n"
     ]
    },
    {
     "name": "stderr",
     "output_type": "stream",
     "text": [
      " 35%|███▌      | 105/300 [00:04<00:08, 23.35it/s]"
     ]
    },
    {
     "name": "stdout",
     "output_type": "stream",
     "text": [
      "-1378.4578611013224\n",
      "-1251.3618409864077\n",
      "-1492.7935342268495\n",
      "-1308.2650852283875\n",
      "-889.281448289437\n"
     ]
    },
    {
     "name": "stderr",
     "output_type": "stream",
     "text": [
      "\r",
      " 36%|███▌      | 108/300 [00:04<00:08, 23.03it/s]"
     ]
    },
    {
     "name": "stdout",
     "output_type": "stream",
     "text": [
      "-1207.5523906391797\n",
      "-1243.4327566464488\n",
      "-1456.824236789652\n",
      "-1121.9581011099467\n",
      "-1087.0954626809068\n"
     ]
    },
    {
     "name": "stderr",
     "output_type": "stream",
     "text": [
      " 38%|███▊      | 114/300 [00:04<00:08, 23.24it/s]"
     ]
    },
    {
     "name": "stdout",
     "output_type": "stream",
     "text": [
      "-802.9189230140759\n",
      "-961.4327725763981\n",
      "-1486.1634185888784\n",
      "-968.8144433972343\n",
      "-1059.0048360738633\n"
     ]
    },
    {
     "name": "stderr",
     "output_type": "stream",
     "text": [
      " 40%|████      | 120/300 [00:05<00:07, 23.42it/s]"
     ]
    },
    {
     "name": "stdout",
     "output_type": "stream",
     "text": [
      "-1359.8253448645341\n",
      "-945.0373791257725\n",
      "-1492.1578654645095\n",
      "-1513.506830132187\n",
      "-1389.5267918265954\n"
     ]
    },
    {
     "name": "stderr",
     "output_type": "stream",
     "text": [
      "\r",
      " 41%|████      | 123/300 [00:05<00:07, 23.28it/s]"
     ]
    },
    {
     "name": "stdout",
     "output_type": "stream",
     "text": [
      "-838.4170553805884\n",
      "-1495.914981749753\n",
      "-1493.6713519635575\n",
      "-1492.1164460585778\n",
      "-1472.0350589805767\n"
     ]
    },
    {
     "name": "stderr",
     "output_type": "stream",
     "text": [
      " 43%|████▎     | 129/300 [00:05<00:07, 23.37it/s]"
     ]
    },
    {
     "name": "stdout",
     "output_type": "stream",
     "text": [
      "-938.103698893087\n",
      "-1283.049145111399\n",
      "-1369.0741096962913\n",
      "-845.2787266750152\n",
      "-1519.4003630497282\n"
     ]
    },
    {
     "name": "stderr",
     "output_type": "stream",
     "text": [
      " 45%|████▌     | 135/300 [00:05<00:07, 23.50it/s]"
     ]
    },
    {
     "name": "stdout",
     "output_type": "stream",
     "text": [
      "-1389.888991020854\n",
      "-934.7458436777225\n",
      "-1242.7963067776534\n",
      "-1502.8471323651738\n",
      "-1431.9827947775964\n"
     ]
    },
    {
     "name": "stderr",
     "output_type": "stream",
     "text": [
      "\r",
      " 46%|████▌     | 138/300 [00:05<00:06, 23.46it/s]"
     ]
    },
    {
     "name": "stdout",
     "output_type": "stream",
     "text": [
      "-1212.3426078511093\n",
      "-1071.5329631613452\n",
      "-741.7566550200377\n",
      "-1232.6627501939645\n",
      "-1503.0005164199547\n"
     ]
    },
    {
     "name": "stderr",
     "output_type": "stream",
     "text": [
      " 48%|████▊     | 144/300 [00:06<00:06, 23.72it/s]"
     ]
    },
    {
     "name": "stdout",
     "output_type": "stream",
     "text": [
      "-1519.7758142633763\n",
      "-1492.1860023193285\n",
      "-1476.265458297632\n",
      "-1214.321187531305\n",
      "-1006.9932315949566\n"
     ]
    },
    {
     "name": "stderr",
     "output_type": "stream",
     "text": [
      " 50%|█████     | 150/300 [00:06<00:06, 23.60it/s]"
     ]
    },
    {
     "name": "stdout",
     "output_type": "stream",
     "text": [
      "-760.6697042976517\n",
      "-1498.8902890476315\n",
      "-1339.2692104076982\n",
      "-1240.302934863277\n",
      "-1495.733850007898\n"
     ]
    },
    {
     "name": "stderr",
     "output_type": "stream",
     "text": [
      "\r",
      " 51%|█████     | 153/300 [00:06<00:06, 23.76it/s]"
     ]
    },
    {
     "name": "stdout",
     "output_type": "stream",
     "text": [
      "-1073.014535810786\n",
      "-813.2002847377648\n",
      "-1210.8999009400495\n",
      "-1497.9000388437557\n",
      "-739.9963814794608\n"
     ]
    },
    {
     "name": "stderr",
     "output_type": "stream",
     "text": [
      " 53%|█████▎    | 159/300 [00:06<00:05, 23.52it/s]"
     ]
    },
    {
     "name": "stdout",
     "output_type": "stream",
     "text": [
      "-1053.3454008195815\n",
      "-1087.2606866450656\n",
      "-1183.9946931629395\n",
      "-651.9342443525501\n",
      "-640.2665928143875\n"
     ]
    },
    {
     "name": "stderr",
     "output_type": "stream",
     "text": [
      " 55%|█████▌    | 165/300 [00:06<00:05, 23.94it/s]"
     ]
    },
    {
     "name": "stdout",
     "output_type": "stream",
     "text": [
      "-903.0474542801626\n",
      "-898.8543816231357\n",
      "-761.2017497310483\n",
      "-1030.1379371059238\n",
      "-1486.9583761618126\n"
     ]
    },
    {
     "name": "stderr",
     "output_type": "stream",
     "text": [
      "\r",
      " 56%|█████▌    | 168/300 [00:07<00:05, 23.98it/s]"
     ]
    },
    {
     "name": "stdout",
     "output_type": "stream",
     "text": [
      "-931.0561179793824\n",
      "-1417.5508928161455\n",
      "-1522.1768750259212\n",
      "-1251.8863732446723\n",
      "-1219.2938087328691\n"
     ]
    },
    {
     "name": "stderr",
     "output_type": "stream",
     "text": [
      " 58%|█████▊    | 174/300 [00:07<00:05, 23.71it/s]"
     ]
    },
    {
     "name": "stdout",
     "output_type": "stream",
     "text": [
      "-1185.4419579538971\n",
      "-1198.2901806698114\n",
      "-1576.120956029448\n",
      "-1148.7564390692473\n",
      "-1196.0264531795647\n"
     ]
    },
    {
     "name": "stderr",
     "output_type": "stream",
     "text": [
      " 60%|██████    | 180/300 [00:07<00:05, 23.91it/s]"
     ]
    },
    {
     "name": "stdout",
     "output_type": "stream",
     "text": [
      "-1543.0621488280399\n",
      "-1496.9531270826571\n",
      "-791.8756900271339\n",
      "-1504.6447835126185\n",
      "-1551.0389534685637\n"
     ]
    },
    {
     "name": "stderr",
     "output_type": "stream",
     "text": [
      "\r",
      " 61%|██████    | 183/300 [00:07<00:04, 24.00it/s]"
     ]
    },
    {
     "name": "stdout",
     "output_type": "stream",
     "text": [
      "-875.0509394497363\n",
      "-1305.7450355476362\n",
      "-1498.2551754315941\n",
      "-1335.563727876052\n",
      "-1493.5478710857712\n"
     ]
    },
    {
     "name": "stderr",
     "output_type": "stream",
     "text": [
      " 63%|██████▎   | 189/300 [00:07<00:04, 23.91it/s]"
     ]
    },
    {
     "name": "stdout",
     "output_type": "stream",
     "text": [
      "-1024.0865821253017\n",
      "-870.0798556754205\n",
      "-1150.1994718890783\n",
      "-1218.4931390187603\n",
      "-774.936994092195\n"
     ]
    },
    {
     "name": "stderr",
     "output_type": "stream",
     "text": [
      " 65%|██████▌   | 195/300 [00:08<00:04, 23.92it/s]"
     ]
    },
    {
     "name": "stdout",
     "output_type": "stream",
     "text": [
      "-839.8231475466462\n",
      "-1494.1108952040654\n",
      "-877.7636921061603\n",
      "-776.5616348669873\n",
      "-1493.3975190045824\n"
     ]
    },
    {
     "name": "stderr",
     "output_type": "stream",
     "text": [
      "\r",
      " 66%|██████▌   | 198/300 [00:08<00:04, 23.77it/s]"
     ]
    },
    {
     "name": "stdout",
     "output_type": "stream",
     "text": [
      "-1529.0718186601025\n",
      "-894.252704354762\n",
      "-896.8776569172109\n",
      "-833.6664288355609\n",
      "-1080.4564574989342\n"
     ]
    },
    {
     "name": "stderr",
     "output_type": "stream",
     "text": [
      " 68%|██████▊   | 204/300 [00:08<00:04, 23.88it/s]"
     ]
    },
    {
     "name": "stdout",
     "output_type": "stream",
     "text": [
      "-1199.5865060979274\n",
      "-807.5999949880891\n",
      "-1100.917809167413\n",
      "-1173.8725691470022\n",
      "-883.4330114478714\n"
     ]
    },
    {
     "name": "stderr",
     "output_type": "stream",
     "text": [
      " 70%|███████   | 210/300 [00:08<00:03, 23.88it/s]"
     ]
    },
    {
     "name": "stdout",
     "output_type": "stream",
     "text": [
      "-895.5150018499692\n",
      "-727.0641796338552\n",
      "-1507.3350408593153\n",
      "-1519.8071986237962\n",
      "-1409.8820786836586\n"
     ]
    },
    {
     "name": "stderr",
     "output_type": "stream",
     "text": [
      "\r",
      " 71%|███████   | 213/300 [00:08<00:03, 23.86it/s]"
     ]
    },
    {
     "name": "stdout",
     "output_type": "stream",
     "text": [
      "-1177.464133131959\n",
      "-1112.4755921051585\n",
      "-1498.2408989914766\n",
      "-789.1108345277407\n",
      "-1493.351205629864\n"
     ]
    },
    {
     "name": "stderr",
     "output_type": "stream",
     "text": [
      " 73%|███████▎  | 219/300 [00:09<00:03, 23.85it/s]"
     ]
    },
    {
     "name": "stdout",
     "output_type": "stream",
     "text": [
      "-1459.1607012154846\n",
      "-1148.913568632482\n",
      "-778.7232521656432\n",
      "-890.0746155373221\n",
      "-665.9241046967052\n"
     ]
    },
    {
     "name": "stderr",
     "output_type": "stream",
     "text": [
      " 75%|███████▌  | 225/300 [00:09<00:03, 23.31it/s]"
     ]
    },
    {
     "name": "stdout",
     "output_type": "stream",
     "text": [
      "-859.0478321891715\n",
      "-1371.578008022453\n",
      "-945.6762598539229\n",
      "-788.8859593236431\n",
      "-937.8623964487184\n"
     ]
    },
    {
     "name": "stderr",
     "output_type": "stream",
     "text": [
      "\r",
      " 76%|███████▌  | 228/300 [00:09<00:03, 23.47it/s]"
     ]
    },
    {
     "name": "stdout",
     "output_type": "stream",
     "text": [
      "-1111.053135314907\n",
      "-975.300849458559\n",
      "-1499.721949471874\n",
      "-999.9811321325891\n",
      "-1481.3356049994989\n"
     ]
    },
    {
     "name": "stderr",
     "output_type": "stream",
     "text": [
      " 78%|███████▊  | 234/300 [00:09<00:02, 23.68it/s]"
     ]
    },
    {
     "name": "stdout",
     "output_type": "stream",
     "text": [
      "-887.9410451743499\n",
      "-1235.0499950608014\n",
      "-1203.5483358403835\n",
      "-1362.6518296419276\n",
      "-1211.239152210906\n"
     ]
    },
    {
     "name": "stderr",
     "output_type": "stream",
     "text": [
      " 80%|████████  | 240/300 [00:10<00:02, 23.38it/s]"
     ]
    },
    {
     "name": "stdout",
     "output_type": "stream",
     "text": [
      "-1510.7785838130037\n",
      "-985.7107186502897\n",
      "-1494.1099774998895\n",
      "-968.6077569656281\n",
      "-1192.7864581109247\n"
     ]
    },
    {
     "name": "stderr",
     "output_type": "stream",
     "text": [
      "\r",
      " 81%|████████  | 243/300 [00:10<00:02, 23.31it/s]"
     ]
    },
    {
     "name": "stdout",
     "output_type": "stream",
     "text": [
      "-1420.3303393167082\n",
      "-1180.8736889205215\n",
      "-1506.8446183561182\n",
      "-958.3651162057034\n",
      "-1502.629468681492\n"
     ]
    },
    {
     "name": "stderr",
     "output_type": "stream",
     "text": [
      " 83%|████████▎ | 249/300 [00:10<00:02, 23.16it/s]"
     ]
    },
    {
     "name": "stdout",
     "output_type": "stream",
     "text": [
      "-890.8361788995121\n",
      "-1147.0422850750679\n",
      "-962.3208713029826\n",
      "-1293.4260370885468\n",
      "-968.4541790558025\n"
     ]
    },
    {
     "name": "stderr",
     "output_type": "stream",
     "text": [
      " 85%|████████▌ | 255/300 [00:10<00:01, 23.00it/s]"
     ]
    },
    {
     "name": "stdout",
     "output_type": "stream",
     "text": [
      "-1413.4787330758447\n",
      "-1495.8385749564093\n",
      "-887.5528007101849\n",
      "-1491.3309029809025\n",
      "-1353.247261681304\n"
     ]
    },
    {
     "name": "stderr",
     "output_type": "stream",
     "text": [
      "\r",
      " 86%|████████▌ | 258/300 [00:10<00:01, 22.98it/s]"
     ]
    },
    {
     "name": "stdout",
     "output_type": "stream",
     "text": [
      "-893.0155920284562\n",
      "-1137.954737139327\n",
      "-1269.5072357774068\n",
      "-1507.6731013637364\n",
      "-1120.5764962443423\n"
     ]
    },
    {
     "name": "stderr",
     "output_type": "stream",
     "text": [
      " 88%|████████▊ | 264/300 [00:11<00:01, 23.77it/s]"
     ]
    },
    {
     "name": "stdout",
     "output_type": "stream",
     "text": [
      "-1503.8563057607967\n",
      "-1199.9345874325247\n",
      "-1210.9823673204864\n",
      "-1492.0566350733402\n",
      "-887.3207405968121\n"
     ]
    },
    {
     "name": "stderr",
     "output_type": "stream",
     "text": [
      " 90%|█████████ | 270/300 [00:11<00:01, 23.67it/s]"
     ]
    },
    {
     "name": "stdout",
     "output_type": "stream",
     "text": [
      "-1206.8940420651297\n",
      "-1097.7777159142531\n",
      "-967.8161811663197\n",
      "-1095.2006106312149\n",
      "-1476.2143098940276\n"
     ]
    },
    {
     "name": "stderr",
     "output_type": "stream",
     "text": [
      "\r",
      " 91%|█████████ | 273/300 [00:11<00:01, 23.57it/s]"
     ]
    },
    {
     "name": "stdout",
     "output_type": "stream",
     "text": [
      "-1133.094933598685\n",
      "-1371.5143232340936\n",
      "-921.6047959550714\n",
      "-1053.1749668107\n",
      "-1588.8125112683929\n"
     ]
    },
    {
     "name": "stderr",
     "output_type": "stream",
     "text": [
      " 93%|█████████▎| 279/300 [00:11<00:00, 23.76it/s]"
     ]
    },
    {
     "name": "stdout",
     "output_type": "stream",
     "text": [
      "-1418.0458073687423\n",
      "-1147.3216705320565\n",
      "-939.9153608526117\n",
      "-973.6042826349361\n",
      "-1411.7819597808225\n"
     ]
    },
    {
     "name": "stderr",
     "output_type": "stream",
     "text": [
      " 95%|█████████▌| 285/300 [00:12<00:00, 23.93it/s]"
     ]
    },
    {
     "name": "stdout",
     "output_type": "stream",
     "text": [
      "-1493.4853320483744\n",
      "-774.2171597719442\n",
      "-1518.235988685171\n",
      "-1495.9142281554832\n",
      "-1386.9917374054965\n"
     ]
    },
    {
     "name": "stderr",
     "output_type": "stream",
     "text": [
      "\r",
      " 96%|█████████▌| 288/300 [00:12<00:00, 23.76it/s]"
     ]
    },
    {
     "name": "stdout",
     "output_type": "stream",
     "text": [
      "-1511.384712329045\n",
      "-1491.3854222335613\n",
      "-1243.6006317703518\n",
      "-1335.9997584809043\n",
      "-1232.4939326500757\n"
     ]
    },
    {
     "name": "stderr",
     "output_type": "stream",
     "text": [
      " 98%|█████████▊| 294/300 [00:12<00:00, 23.57it/s]"
     ]
    },
    {
     "name": "stdout",
     "output_type": "stream",
     "text": [
      "-1419.3693404944638\n",
      "-1312.0857018825707\n",
      "-898.8529070297096\n",
      "-959.3936942803246\n",
      "-1506.1583588717044\n"
     ]
    },
    {
     "name": "stderr",
     "output_type": "stream",
     "text": [
      "100%|██████████| 300/300 [00:12<00:00, 23.64it/s]"
     ]
    },
    {
     "name": "stdout",
     "output_type": "stream",
     "text": [
      "-891.9838487162453\n",
      "-968.7923143736481\n",
      "-1105.3615113173892\n",
      "-670.9816155527727\n",
      "-1495.9460000252182\n"
     ]
    },
    {
     "name": "stderr",
     "output_type": "stream",
     "text": [
      "\n"
     ]
    }
   ],
   "source": [
    "states, actions  = state_value_action_critic(Pendulum())"
   ]
  },
  {
   "cell_type": "code",
   "execution_count": 38,
   "metadata": {},
   "outputs": [
    {
     "data": {
      "text/plain": [
       "(10, 0.1)"
      ]
     },
     "execution_count": 38,
     "metadata": {},
     "output_type": "execute_result"
    }
   ],
   "source": [
    "10, np.clip(10, -0.1, 0.1)"
   ]
  },
  {
   "cell_type": "code",
   "execution_count": 39,
   "metadata": {},
   "outputs": [
    {
     "data": {
      "text/plain": [
       "2.041467304625201"
      ]
     },
     "execution_count": 39,
     "metadata": {},
     "output_type": "execute_result"
    }
   ],
   "source": [
    "env.Q*1/env.d/env.m"
   ]
  },
  {
   "cell_type": "code",
   "execution_count": 60,
   "metadata": {},
   "outputs": [
    {
     "data": {
      "text/plain": [
       "-8.293633048026862"
      ]
     },
     "execution_count": 60,
     "metadata": {},
     "output_type": "execute_result"
    }
   ],
   "source": [
    "env.white_noise()/env.m"
   ]
  },
  {
   "cell_type": "code",
   "execution_count": 21,
   "metadata": {},
   "outputs": [
    {
     "data": {
      "image/png": "[encoded data removed]",
      "text/plain": [
       "<Figure size 432x288 with 1 Axes>"
      ]
     },
     "metadata": {
      "needs_background": "light"
     },
     "output_type": "display_data"
    }
   ],
   "source": [
    "plt.plot(states[:,1])\n",
    "plt.show()"
   ]
  },
  {
   "cell_type": "code",
   "execution_count": 22,
   "metadata": {},
   "outputs": [
    {
     "data": {
      "image/png": "[encoded data removed]",
      "text/plain": [
       "<Figure size 432x288 with 1 Axes>"
      ]
     },
     "metadata": {
      "needs_background": "light"
     },
     "output_type": "display_data"
    }
   ],
   "source": [
    "plt.plot(states[:,0])\n",
    "plt.show()"
   ]
  },
  {
   "cell_type": "code",
   "execution_count": null,
   "metadata": {},
   "outputs": [],
   "source": []
  },
  {
   "cell_type": "code",
   "execution_count": 43,
   "metadata": {},
   "outputs": [
    {
     "ename": "NameError",
     "evalue": "name 'rewards' is not defined",
     "output_type": "error",
     "traceback": [
      "\u001b[0;31m---------------------------------------------------------------------------\u001b[0m",
      "\u001b[0;31mNameError\u001b[0m                                 Traceback (most recent call last)",
      "\u001b[0;32m<ipython-input-43-b976234eb196>\u001b[0m in \u001b[0;36m<module>\u001b[0;34m\u001b[0m\n\u001b[1;32m      2\u001b[0m \u001b[0mplt\u001b[0m\u001b[0;34m.\u001b[0m\u001b[0mfigure\u001b[0m\u001b[0;34m(\u001b[0m\u001b[0mfigsize\u001b[0m\u001b[0;34m=\u001b[0m\u001b[0;34m(\u001b[0m\u001b[0;36m15\u001b[0m\u001b[0;34m,\u001b[0m\u001b[0;36m4\u001b[0m\u001b[0;34m)\u001b[0m\u001b[0;34m)\u001b[0m\u001b[0;34m\u001b[0m\u001b[0;34m\u001b[0m\u001b[0m\n\u001b[1;32m      3\u001b[0m \u001b[0;31m#Picking only the first 100 points to have a similar graphic to the one on ex4.pdf\u001b[0m\u001b[0;34m\u001b[0m\u001b[0;34m\u001b[0m\u001b[0;34m\u001b[0m\u001b[0m\n\u001b[0;32m----> 4\u001b[0;31m \u001b[0mplt\u001b[0m\u001b[0;34m.\u001b[0m\u001b[0mplot\u001b[0m\u001b[0;34m(\u001b[0m\u001b[0mrewards\u001b[0m\u001b[0;34m[\u001b[0m\u001b[0;34m:\u001b[0m\u001b[0;36m100\u001b[0m\u001b[0;34m]\u001b[0m\u001b[0;34m,\u001b[0m \u001b[0mlinewidth\u001b[0m\u001b[0;34m=\u001b[0m\u001b[0;36m2.5\u001b[0m\u001b[0;34m)\u001b[0m\u001b[0;34m\u001b[0m\u001b[0;34m\u001b[0m\u001b[0m\n\u001b[0m\u001b[1;32m      5\u001b[0m \u001b[0mplt\u001b[0m\u001b[0;34m.\u001b[0m\u001b[0mtitle\u001b[0m\u001b[0;34m(\u001b[0m\u001b[0;34m\"Reward during simulation State Value Action Critic\"\u001b[0m\u001b[0;34m)\u001b[0m\u001b[0;34m\u001b[0m\u001b[0;34m\u001b[0m\u001b[0m\n\u001b[1;32m      6\u001b[0m \u001b[0mplt\u001b[0m\u001b[0;34m.\u001b[0m\u001b[0mxlabel\u001b[0m\u001b[0;34m(\u001b[0m\u001b[0;34m\"Episode\"\u001b[0m\u001b[0;34m)\u001b[0m\u001b[0;34m\u001b[0m\u001b[0;34m\u001b[0m\u001b[0m\n",
      "\u001b[0;31mNameError\u001b[0m: name 'rewards' is not defined"
     ]
    },
    {
     "data": {
      "text/plain": [
       "<Figure size 1080x288 with 0 Axes>"
      ]
     },
     "metadata": {},
     "output_type": "display_data"
    }
   ],
   "source": [
    "import matplotlib.pyplot as plt\n",
    "plt.figure(figsize=(15,4))\n",
    "#Picking only the first 100 points to have a similar graphic to the one on ex4.pdf\n",
    "plt.plot(rewards[:100], linewidth=2.5)\n",
    "plt.title(\"Reward during simulation State Value Action Critic\")\n",
    "plt.xlabel(\"Episode\")\n",
    "plt.ylabel(\"Reward\")\n",
    "plt.show()"
   ]
  },
  {
   "cell_type": "markdown",
   "metadata": {},
   "source": [
    "### Exercise 2.4 \n",
    "\n",
    "Measure the performance in three ways:\n",
    "\n",
    "* rise time: how many episodes does it take for the learning to converge? Use the point at which the episode reward is consistently above -500.\n",
    "* end performance: the reward obtained after training. Use a separate run of 100 episodes where exploration and learning is disabled, and average the episode rewards.\n",
    "* computation time: how long it took to train 100 episodes. Use time.time().\n",
    "\n",
    "Run the training a few times and average the results to get statistically meaninful information.\n",
    "\n",
    "#### Answer\n",
    "\n",
    "Implementation in the cells bellow"
   ]
  },
  {
   "cell_type": "code",
   "execution_count": 50,
   "metadata": {},
   "outputs": [],
   "source": [
    "# Creating function to act on the system with no learning and exploration.\n",
    "\n",
    "def end_perf_state_value_action_critic(env, \n",
    "                                       theta,\n",
    "                                       episodes=200, \n",
    "                                       steps=1000, \n",
    "                                       render_step=0):\n",
    "    s = env.reset()\n",
    "    # Create feature as a rbfprojector\n",
    "    feature = rbfprojector(21, 0.25)\n",
    "    rewards = []\n",
    "    for e in tqdm(range(episodes)):\n",
    "        s = env.reset()\n",
    "        total_r = 0\n",
    "        for t in range(steps):\n",
    "            # Compute phi_s and pi_s_theta\n",
    "            phi_s = feature(s)\n",
    "            pi_s_theta = np.dot(theta, phi_s)\n",
    "            # Take an action and apply to the system\n",
    "            a = pi_s_theta\n",
    "            sP, r, done, _ = env.step(a)\n",
    "            total_r+=r\n",
    "            if render_step and not t%render_step:\n",
    "                env.render()\n",
    "            if done:\n",
    "                break\n",
    "            s = sP\n",
    "        rewards.append(total_r) \n",
    "    return np.array(rewards) "
   ]
  },
  {
   "cell_type": "code",
   "execution_count": 62,
   "metadata": {},
   "outputs": [
    {
     "name": "stderr",
     "output_type": "stream",
     "text": [
      "100%|██████████| 200/200 [00:10<00:00, 19.98it/s]\n"
     ]
    }
   ],
   "source": [
    "rewards = end_perf_state_value_action_critic(Pendulum(), theta)"
   ]
  },
  {
   "cell_type": "code",
   "execution_count": 131,
   "metadata": {},
   "outputs": [
    {
     "name": "stderr",
     "output_type": "stream",
     "text": [
      "100%|██████████| 100/100 [00:08<00:00, 11.51it/s]\n",
      "100%|██████████| 100/100 [00:04<00:00, 21.13it/s]\n",
      "100%|██████████| 100/100 [00:08<00:00, 12.39it/s]\n",
      "100%|██████████| 100/100 [00:05<00:00, 19.47it/s]\n",
      "100%|██████████| 100/100 [00:08<00:00, 11.33it/s]\n",
      "100%|██████████| 100/100 [00:04<00:00, 20.63it/s]\n",
      "100%|██████████| 100/100 [00:08<00:00, 12.00it/s]\n",
      "100%|██████████| 100/100 [00:04<00:00, 21.89it/s]\n",
      "100%|██████████| 100/100 [00:07<00:00, 12.59it/s]\n",
      "100%|██████████| 100/100 [00:04<00:00, 22.10it/s]\n"
     ]
    }
   ],
   "source": [
    "# Running 5 different tests on the algorithm to evaluate the metrics\n",
    "\n",
    "num_tests = 5\n",
    "environment = Pendulum()\n",
    "perfs, trains, training_time = [], [], []\n",
    "for i in range(num_tests):\n",
    "    theta, w, train_reward, time_consumption = state_value_action_critic(environment, plot=False)\n",
    "    perf_reward = end_perf_state_value_action_critic(environment, theta )\n",
    "    trains.append(train_reward)\n",
    "    perfs.append(perf_reward)\n",
    "    training_time.append(time_consumption)"
   ]
  },
  {
   "cell_type": "code",
   "execution_count": 133,
   "metadata": {},
   "outputs": [
    {
     "data": {
      "text/plain": [
       "(16.666666666666668, 12.0, 8.055363982396383)"
      ]
     },
     "execution_count": 133,
     "metadata": {},
     "output_type": "execute_result"
    }
   ],
   "source": [
    "number_episodes = np.array(list(map(lambda x: np.argwhere(x>-500)[3,0], trains)))\n",
    "number_episodes.mean(), np.median(number_episodes), number_episodes.std()"
   ]
  },
  {
   "cell_type": "code",
   "execution_count": 134,
   "metadata": {},
   "outputs": [
    {
     "data": {
      "text/plain": [
       "(-210.6968780089007, -226.98652554165182, 146.8189717158916)"
      ]
     },
     "execution_count": 134,
     "metadata": {},
     "output_type": "execute_result"
    }
   ],
   "source": [
    "end_performances = np.array(list(map(lambda x: x.mean(), perf_reward)))\n",
    "end_performances.mean(), np.median(end_performances), end_performances.std()"
   ]
  },
  {
   "cell_type": "code",
   "execution_count": 135,
   "metadata": {},
   "outputs": [
    {
     "data": {
      "text/plain": [
       "(8.37503080368042, 8.336115837097168, 0.3397824343631149)"
      ]
     },
     "execution_count": 135,
     "metadata": {},
     "output_type": "execute_result"
    }
   ],
   "source": [
    "training_time = np.array(training_time)\n",
    "training_time.mean(), np.median(training_time), training_time.std()"
   ]
  },
  {
   "cell_type": "markdown",
   "metadata": {},
   "source": [
    "#### Results\n",
    "\n",
    "  | Metric | Mean Value | Median Value | Standard Deviation |\n",
    "   |---|---|---|---|\n",
    "   | Rise Time |  16.666| 12| 8.055|\n",
    "   | End Performance| -210.6968 | -266.986 | 146.818 | \n",
    "   | Computation Time (s)| 8.3750 | 8.336 | 0.3397|"
   ]
  },
  {
   "cell_type": "markdown",
   "metadata": {},
   "source": [
    "## 3. Deep Deterministic Policy Gradient\n",
    "\n",
    "Now we move to a nonlinear representation, with the required stabilization mechanisms (replay memory, target network). The Deep Deterministic Policy Gradient algorithm estimates the value function (critic) in the same way as Deep Q learning you implemented in Exercise 3, but additionally trains a policy (actor) using the gradient\n",
    "\n",
    "$∇\\theta J_r(\\theta)= E_{\\pi \\theta} \\{\\nabla_\\theta Q^{\\pi\\theta} (s,\\pi(s;\\theta))\\}$\n",
    "\n",
    "that is, moving the policy parameters such that they maximize the $Q$ function."
   ]
  },
  {
   "cell_type": "markdown",
   "metadata": {},
   "source": [
    "### Exercise 3.1.\n",
    "\n",
    "Implement DDPG. Use `DDPG.critic` to read the value function and `DDPG.actor` to read the policy. Note that the DDPG.train function already handles the training of the actor using the gradient in Equation 1. Update the target network every $200$ steps. \n",
    "\n",
    "Note that the actor network’s output is limited to $[−1, 1]$, while the pen- dulum’s actions are in the range [−2,2]. To make sure the results are comparable, multiply the actor’s value by $2$ before passing it to `env.step`, and halve the noise.\n",
    "\n",
    "After training, plot the learning curve and approximators. For the latter, use `env.plotnetwork(ddpg)`. The results should be similar to Figure 3.\n",
    "\n",
    "#### Answer:\n",
    "\n",
    "Implementation in the cells below."
   ]
  },
  {
   "cell_type": "code",
   "execution_count": 52,
   "metadata": {},
   "outputs": [],
   "source": [
    "def ddpg_loop(env, \n",
    "              sigma=1, \n",
    "              gamma=0.99,\n",
    "              episodes=200, \n",
    "              steps=1000, \n",
    "              render_step=0,\n",
    "              memory_len_min=1000,\n",
    "              batch_size=256,\n",
    "              train_step_amount=200,\n",
    "              rate=0.99,\n",
    "              plot=True):\n",
    "    # Reset enviroment to get a state\n",
    "    s = env.reset()\n",
    "    # Use the state to instatiate DDPG for base and target networks, and also for memory\n",
    "    ddpg = DDPG(s.shape[0])\n",
    "    target_net = DDPG(s.shape[0])\n",
    "    memory = Memory(s.shape[0], 1)\n",
    "    rewards = []\n",
    "    train_steps = 0\n",
    "    start = time()\n",
    "    for e in tqdm(range(episodes)):\n",
    "        s = env.reset()\n",
    "        total_r = 0\n",
    "        for t in range(steps):\n",
    "            # Add to train_step incremetor for target_network to get weights from ddpg\n",
    "            train_steps+=1\n",
    "            # Take action using ddpg.actor as mean and use half sigma for noise \n",
    "            a = np.random.normal(ddpg.actor(s), 0.5*sigma)\n",
    "            # Multiply action by 2 since output of the network is limited\n",
    "            sP, r, done, _, info = env.step(2*a)\n",
    "            # Add info to memory\n",
    "            memory.add(s, a, r, sP.reshape((sP.shape[0])), done)\n",
    "            total_r+=r\n",
    "            # If at least 1000 transitions in memory, sample the memory\n",
    "            if memory.__len__() > memory_len_min:\n",
    "                s_mem, a_mem, r_mem, sP_mem, done_mem = memory.sample(batch_size)\n",
    "                # Compute target using target network\n",
    "                y = r_mem + gamma*target_net.critic(sP_mem, a_mem) * abs(done_mem - 1)\n",
    "                ddpg.train(s_mem, a_mem, y)\n",
    "                # After a certain number of timesteps, copy weights to target network\n",
    "                if (train_steps >= train_step_amount):\n",
    "                    target_net <<= ddpg\n",
    "                    train_steps = 0\n",
    "            if done:\n",
    "                break\n",
    "            s = sP\n",
    "        rewards.append(total_r) \n",
    "        sigma = sigma*rate\n",
    "    end = time()\n",
    "    env.close()\n",
    "    return ddpg, rewards, end-start"
   ]
  },
  {
   "cell_type": "code",
   "execution_count": 53,
   "metadata": {},
   "outputs": [
    {
     "name": "stderr",
     "output_type": "stream",
     "text": [
      "  0%|          | 0/200 [00:00<?, ?it/s]\n"
     ]
    },
    {
     "ename": "ValueError",
     "evalue": "in user code:\n\n    /home/oscar.kremer/miniconda3/envs/deep-tweezer/lib/python3.6/site-packages/keras/engine/training.py:1586 predict_function  *\n        return step_function(self, iterator)\n    /home/oscar.kremer/miniconda3/envs/deep-tweezer/lib/python3.6/site-packages/keras/engine/training.py:1576 step_function  **\n        outputs = model.distribute_strategy.run(run_step, args=(data,))\n    /home/oscar.kremer/miniconda3/envs/deep-tweezer/lib/python3.6/site-packages/tensorflow/python/distribute/distribute_lib.py:1286 run\n        return self._extended.call_for_each_replica(fn, args=args, kwargs=kwargs)\n    /home/oscar.kremer/miniconda3/envs/deep-tweezer/lib/python3.6/site-packages/tensorflow/python/distribute/distribute_lib.py:2849 call_for_each_replica\n        return self._call_for_each_replica(fn, args, kwargs)\n    /home/oscar.kremer/miniconda3/envs/deep-tweezer/lib/python3.6/site-packages/tensorflow/python/distribute/distribute_lib.py:3632 _call_for_each_replica\n        return fn(*args, **kwargs)\n    /home/oscar.kremer/miniconda3/envs/deep-tweezer/lib/python3.6/site-packages/keras/engine/training.py:1569 run_step  **\n        outputs = model.predict_step(data)\n    /home/oscar.kremer/miniconda3/envs/deep-tweezer/lib/python3.6/site-packages/keras/engine/training.py:1537 predict_step\n        return self(x, training=False)\n    /home/oscar.kremer/miniconda3/envs/deep-tweezer/lib/python3.6/site-packages/keras/engine/base_layer.py:1037 __call__\n        outputs = call_fn(inputs, *args, **kwargs)\n    /home/oscar.kremer/miniconda3/envs/deep-tweezer/lib/python3.6/site-packages/keras/engine/functional.py:415 call\n        inputs, training=training, mask=mask)\n    /home/oscar.kremer/miniconda3/envs/deep-tweezer/lib/python3.6/site-packages/keras/engine/functional.py:550 _run_internal_graph\n        outputs = node.layer(*args, **kwargs)\n    /home/oscar.kremer/miniconda3/envs/deep-tweezer/lib/python3.6/site-packages/keras/engine/base_layer.py:1020 __call__\n        input_spec.assert_input_compatibility(self.input_spec, inputs, self.name)\n    /home/oscar.kremer/miniconda3/envs/deep-tweezer/lib/python3.6/site-packages/keras/engine/input_spec.py:254 assert_input_compatibility\n        ' but received input with shape ' + display_shape(x.shape))\n\n    ValueError: Input 0 of layer dense_48 is incompatible with the layer: expected axis -1 of input shape to have value 2 but received input with shape (2, 1)\n",
     "output_type": "error",
     "traceback": [
      "\u001b[0;31m---------------------------------------------------------------------------\u001b[0m",
      "\u001b[0;31mValueError\u001b[0m                                Traceback (most recent call last)",
      "\u001b[0;32m<ipython-input-53-4a723402d63e>\u001b[0m in \u001b[0;36m<module>\u001b[0;34m\u001b[0m\n\u001b[0;32m----> 1\u001b[0;31m \u001b[0mrewards\u001b[0m\u001b[0;34m,\u001b[0m \u001b[0mddpg\u001b[0m\u001b[0;34m,\u001b[0m \u001b[0m_\u001b[0m \u001b[0;34m=\u001b[0m \u001b[0mddpg_loop\u001b[0m\u001b[0;34m(\u001b[0m\u001b[0mTweezer\u001b[0m\u001b[0;34m(\u001b[0m\u001b[0;34m)\u001b[0m\u001b[0;34m)\u001b[0m\u001b[0;34m\u001b[0m\u001b[0;34m\u001b[0m\u001b[0m\n\u001b[0m",
      "\u001b[0;32m<ipython-input-52-3e351641e4f4>\u001b[0m in \u001b[0;36mddpg_loop\u001b[0;34m(env, sigma, gamma, episodes, steps, render_step, memory_len_min, batch_size, train_step_amount, rate, plot)\u001b[0m\n\u001b[1;32m     26\u001b[0m             \u001b[0mtrain_steps\u001b[0m\u001b[0;34m+=\u001b[0m\u001b[0;36m1\u001b[0m\u001b[0;34m\u001b[0m\u001b[0;34m\u001b[0m\u001b[0m\n\u001b[1;32m     27\u001b[0m             \u001b[0;31m# Take action using ddpg.actor as mean and use half sigma for noise\u001b[0m\u001b[0;34m\u001b[0m\u001b[0;34m\u001b[0m\u001b[0;34m\u001b[0m\u001b[0m\n\u001b[0;32m---> 28\u001b[0;31m             \u001b[0ma\u001b[0m \u001b[0;34m=\u001b[0m \u001b[0mnp\u001b[0m\u001b[0;34m.\u001b[0m\u001b[0mrandom\u001b[0m\u001b[0;34m.\u001b[0m\u001b[0mnormal\u001b[0m\u001b[0;34m(\u001b[0m\u001b[0mddpg\u001b[0m\u001b[0;34m.\u001b[0m\u001b[0mactor\u001b[0m\u001b[0;34m(\u001b[0m\u001b[0ms\u001b[0m\u001b[0;34m)\u001b[0m\u001b[0;34m,\u001b[0m \u001b[0;36m0.5\u001b[0m\u001b[0;34m*\u001b[0m\u001b[0msigma\u001b[0m\u001b[0;34m)\u001b[0m\u001b[0;34m\u001b[0m\u001b[0;34m\u001b[0m\u001b[0m\n\u001b[0m\u001b[1;32m     29\u001b[0m             \u001b[0;31m# Multiply action by 2 since output of the network is limited\u001b[0m\u001b[0;34m\u001b[0m\u001b[0;34m\u001b[0m\u001b[0;34m\u001b[0m\u001b[0m\n\u001b[1;32m     30\u001b[0m             \u001b[0msP\u001b[0m\u001b[0;34m,\u001b[0m \u001b[0mr\u001b[0m\u001b[0;34m,\u001b[0m \u001b[0mdone\u001b[0m\u001b[0;34m,\u001b[0m \u001b[0m_\u001b[0m\u001b[0;34m,\u001b[0m \u001b[0minfo\u001b[0m \u001b[0;34m=\u001b[0m \u001b[0menv\u001b[0m\u001b[0;34m.\u001b[0m\u001b[0mstep\u001b[0m\u001b[0;34m(\u001b[0m\u001b[0;36m2\u001b[0m\u001b[0;34m*\u001b[0m\u001b[0ma\u001b[0m\u001b[0;34m)\u001b[0m\u001b[0;34m\u001b[0m\u001b[0;34m\u001b[0m\u001b[0m\n",
      "\u001b[0;32m~/deep-tweezer/src/models/DDPG.py\u001b[0m in \u001b[0;36mactor\u001b[0;34m(self, s)\u001b[0m\n\u001b[1;32m    200\u001b[0m \u001b[0;34m\u001b[0m\u001b[0m\n\u001b[1;32m    201\u001b[0m         \u001b[0ms\u001b[0m \u001b[0;34m=\u001b[0m \u001b[0mtf\u001b[0m\u001b[0;34m.\u001b[0m\u001b[0mconvert_to_tensor\u001b[0m\u001b[0;34m(\u001b[0m\u001b[0mnp\u001b[0m\u001b[0;34m.\u001b[0m\u001b[0matleast_2d\u001b[0m\u001b[0;34m(\u001b[0m\u001b[0ms\u001b[0m\u001b[0;34m)\u001b[0m\u001b[0;34m,\u001b[0m \u001b[0mdtype\u001b[0m\u001b[0;34m=\u001b[0m\u001b[0mtf\u001b[0m\u001b[0;34m.\u001b[0m\u001b[0mfloat32\u001b[0m\u001b[0;34m)\u001b[0m\u001b[0;34m\u001b[0m\u001b[0;34m\u001b[0m\u001b[0m\n\u001b[0;32m--> 202\u001b[0;31m         \u001b[0mout\u001b[0m \u001b[0;34m=\u001b[0m \u001b[0mself\u001b[0m\u001b[0;34m.\u001b[0m\u001b[0m__actor\u001b[0m\u001b[0;34m.\u001b[0m\u001b[0mpredict_on_batch\u001b[0m\u001b[0;34m(\u001b[0m\u001b[0ms\u001b[0m\u001b[0;34m)\u001b[0m\u001b[0;34m\u001b[0m\u001b[0;34m\u001b[0m\u001b[0m\n\u001b[0m\u001b[1;32m    203\u001b[0m \u001b[0;34m\u001b[0m\u001b[0m\n\u001b[1;32m    204\u001b[0m         \u001b[0;32mif\u001b[0m \u001b[0msqueeze\u001b[0m\u001b[0;34m:\u001b[0m\u001b[0;34m\u001b[0m\u001b[0;34m\u001b[0m\u001b[0m\n",
      "\u001b[0;32m~/miniconda3/envs/deep-tweezer/lib/python3.6/site-packages/keras/engine/training.py\u001b[0m in \u001b[0;36mpredict_on_batch\u001b[0;34m(self, x)\u001b[0m\n\u001b[1;32m   1945\u001b[0m       \u001b[0miterator\u001b[0m \u001b[0;34m=\u001b[0m \u001b[0mdata_adapter\u001b[0m\u001b[0;34m.\u001b[0m\u001b[0msingle_batch_iterator\u001b[0m\u001b[0;34m(\u001b[0m\u001b[0mself\u001b[0m\u001b[0;34m.\u001b[0m\u001b[0mdistribute_strategy\u001b[0m\u001b[0;34m,\u001b[0m \u001b[0mx\u001b[0m\u001b[0;34m)\u001b[0m\u001b[0;34m\u001b[0m\u001b[0;34m\u001b[0m\u001b[0m\n\u001b[1;32m   1946\u001b[0m       \u001b[0mself\u001b[0m\u001b[0;34m.\u001b[0m\u001b[0mpredict_function\u001b[0m \u001b[0;34m=\u001b[0m \u001b[0mself\u001b[0m\u001b[0;34m.\u001b[0m\u001b[0mmake_predict_function\u001b[0m\u001b[0;34m(\u001b[0m\u001b[0;34m)\u001b[0m\u001b[0;34m\u001b[0m\u001b[0;34m\u001b[0m\u001b[0m\n\u001b[0;32m-> 1947\u001b[0;31m       \u001b[0moutputs\u001b[0m \u001b[0;34m=\u001b[0m \u001b[0mself\u001b[0m\u001b[0;34m.\u001b[0m\u001b[0mpredict_function\u001b[0m\u001b[0;34m(\u001b[0m\u001b[0miterator\u001b[0m\u001b[0;34m)\u001b[0m\u001b[0;34m\u001b[0m\u001b[0;34m\u001b[0m\u001b[0m\n\u001b[0m\u001b[1;32m   1948\u001b[0m     \u001b[0;32mreturn\u001b[0m \u001b[0mtf_utils\u001b[0m\u001b[0;34m.\u001b[0m\u001b[0msync_to_numpy_or_python_type\u001b[0m\u001b[0;34m(\u001b[0m\u001b[0moutputs\u001b[0m\u001b[0;34m)\u001b[0m\u001b[0;34m\u001b[0m\u001b[0;34m\u001b[0m\u001b[0m\n\u001b[1;32m   1949\u001b[0m \u001b[0;34m\u001b[0m\u001b[0m\n",
      "\u001b[0;32m~/miniconda3/envs/deep-tweezer/lib/python3.6/site-packages/tensorflow/python/eager/def_function.py\u001b[0m in \u001b[0;36m__call__\u001b[0;34m(self, *args, **kwds)\u001b[0m\n\u001b[1;32m    883\u001b[0m \u001b[0;34m\u001b[0m\u001b[0m\n\u001b[1;32m    884\u001b[0m       \u001b[0;32mwith\u001b[0m \u001b[0mOptionalXlaContext\u001b[0m\u001b[0;34m(\u001b[0m\u001b[0mself\u001b[0m\u001b[0;34m.\u001b[0m\u001b[0m_jit_compile\u001b[0m\u001b[0;34m)\u001b[0m\u001b[0;34m:\u001b[0m\u001b[0;34m\u001b[0m\u001b[0;34m\u001b[0m\u001b[0m\n\u001b[0;32m--> 885\u001b[0;31m         \u001b[0mresult\u001b[0m \u001b[0;34m=\u001b[0m \u001b[0mself\u001b[0m\u001b[0;34m.\u001b[0m\u001b[0m_call\u001b[0m\u001b[0;34m(\u001b[0m\u001b[0;34m*\u001b[0m\u001b[0margs\u001b[0m\u001b[0;34m,\u001b[0m \u001b[0;34m**\u001b[0m\u001b[0mkwds\u001b[0m\u001b[0;34m)\u001b[0m\u001b[0;34m\u001b[0m\u001b[0;34m\u001b[0m\u001b[0m\n\u001b[0m\u001b[1;32m    886\u001b[0m \u001b[0;34m\u001b[0m\u001b[0m\n\u001b[1;32m    887\u001b[0m       \u001b[0mnew_tracing_count\u001b[0m \u001b[0;34m=\u001b[0m \u001b[0mself\u001b[0m\u001b[0;34m.\u001b[0m\u001b[0mexperimental_get_tracing_count\u001b[0m\u001b[0;34m(\u001b[0m\u001b[0;34m)\u001b[0m\u001b[0;34m\u001b[0m\u001b[0;34m\u001b[0m\u001b[0m\n",
      "\u001b[0;32m~/miniconda3/envs/deep-tweezer/lib/python3.6/site-packages/tensorflow/python/eager/def_function.py\u001b[0m in \u001b[0;36m_call\u001b[0;34m(self, *args, **kwds)\u001b[0m\n\u001b[1;32m    922\u001b[0m       \u001b[0;31m# In this case we have not created variables on the first call. So we can\u001b[0m\u001b[0;34m\u001b[0m\u001b[0;34m\u001b[0m\u001b[0;34m\u001b[0m\u001b[0m\n\u001b[1;32m    923\u001b[0m       \u001b[0;31m# run the first trace but we should fail if variables are created.\u001b[0m\u001b[0;34m\u001b[0m\u001b[0;34m\u001b[0m\u001b[0;34m\u001b[0m\u001b[0m\n\u001b[0;32m--> 924\u001b[0;31m       \u001b[0mresults\u001b[0m \u001b[0;34m=\u001b[0m \u001b[0mself\u001b[0m\u001b[0;34m.\u001b[0m\u001b[0m_stateful_fn\u001b[0m\u001b[0;34m(\u001b[0m\u001b[0;34m*\u001b[0m\u001b[0margs\u001b[0m\u001b[0;34m,\u001b[0m \u001b[0;34m**\u001b[0m\u001b[0mkwds\u001b[0m\u001b[0;34m)\u001b[0m\u001b[0;34m\u001b[0m\u001b[0;34m\u001b[0m\u001b[0m\n\u001b[0m\u001b[1;32m    925\u001b[0m       \u001b[0;32mif\u001b[0m \u001b[0mself\u001b[0m\u001b[0;34m.\u001b[0m\u001b[0m_created_variables\u001b[0m \u001b[0;32mand\u001b[0m \u001b[0;32mnot\u001b[0m \u001b[0mALLOW_DYNAMIC_VARIABLE_CREATION\u001b[0m\u001b[0;34m:\u001b[0m\u001b[0;34m\u001b[0m\u001b[0;34m\u001b[0m\u001b[0m\n\u001b[1;32m    926\u001b[0m         raise ValueError(\"Creating variables on a non-first call to a function\"\n",
      "\u001b[0;32m~/miniconda3/envs/deep-tweezer/lib/python3.6/site-packages/tensorflow/python/eager/function.py\u001b[0m in \u001b[0;36m__call__\u001b[0;34m(self, *args, **kwargs)\u001b[0m\n\u001b[1;32m   3036\u001b[0m     \u001b[0;32mwith\u001b[0m \u001b[0mself\u001b[0m\u001b[0;34m.\u001b[0m\u001b[0m_lock\u001b[0m\u001b[0;34m:\u001b[0m\u001b[0;34m\u001b[0m\u001b[0;34m\u001b[0m\u001b[0m\n\u001b[1;32m   3037\u001b[0m       (graph_function,\n\u001b[0;32m-> 3038\u001b[0;31m        filtered_flat_args) = self._maybe_define_function(args, kwargs)\n\u001b[0m\u001b[1;32m   3039\u001b[0m     return graph_function._call_flat(\n\u001b[1;32m   3040\u001b[0m         filtered_flat_args, captured_inputs=graph_function.captured_inputs)  # pylint: disable=protected-access\n",
      "\u001b[0;32m~/miniconda3/envs/deep-tweezer/lib/python3.6/site-packages/tensorflow/python/eager/function.py\u001b[0m in \u001b[0;36m_maybe_define_function\u001b[0;34m(self, args, kwargs)\u001b[0m\n\u001b[1;32m   3458\u001b[0m               call_context_key in self._function_cache.missed):\n\u001b[1;32m   3459\u001b[0m             return self._define_function_with_shape_relaxation(\n\u001b[0;32m-> 3460\u001b[0;31m                 args, kwargs, flat_args, filtered_flat_args, cache_key_context)\n\u001b[0m\u001b[1;32m   3461\u001b[0m \u001b[0;34m\u001b[0m\u001b[0m\n\u001b[1;32m   3462\u001b[0m           \u001b[0mself\u001b[0m\u001b[0;34m.\u001b[0m\u001b[0m_function_cache\u001b[0m\u001b[0;34m.\u001b[0m\u001b[0mmissed\u001b[0m\u001b[0;34m.\u001b[0m\u001b[0madd\u001b[0m\u001b[0;34m(\u001b[0m\u001b[0mcall_context_key\u001b[0m\u001b[0;34m)\u001b[0m\u001b[0;34m\u001b[0m\u001b[0;34m\u001b[0m\u001b[0m\n",
      "\u001b[0;32m~/miniconda3/envs/deep-tweezer/lib/python3.6/site-packages/tensorflow/python/eager/function.py\u001b[0m in \u001b[0;36m_define_function_with_shape_relaxation\u001b[0;34m(self, args, kwargs, flat_args, filtered_flat_args, cache_key_context)\u001b[0m\n\u001b[1;32m   3380\u001b[0m \u001b[0;34m\u001b[0m\u001b[0m\n\u001b[1;32m   3381\u001b[0m     graph_function = self._create_graph_function(\n\u001b[0;32m-> 3382\u001b[0;31m         args, kwargs, override_flat_arg_shapes=relaxed_arg_shapes)\n\u001b[0m\u001b[1;32m   3383\u001b[0m     \u001b[0mself\u001b[0m\u001b[0;34m.\u001b[0m\u001b[0m_function_cache\u001b[0m\u001b[0;34m.\u001b[0m\u001b[0marg_relaxed\u001b[0m\u001b[0;34m[\u001b[0m\u001b[0mrank_only_cache_key\u001b[0m\u001b[0;34m]\u001b[0m \u001b[0;34m=\u001b[0m \u001b[0mgraph_function\u001b[0m\u001b[0;34m\u001b[0m\u001b[0;34m\u001b[0m\u001b[0m\n\u001b[1;32m   3384\u001b[0m \u001b[0;34m\u001b[0m\u001b[0m\n",
      "\u001b[0;32m~/miniconda3/envs/deep-tweezer/lib/python3.6/site-packages/tensorflow/python/eager/function.py\u001b[0m in \u001b[0;36m_create_graph_function\u001b[0;34m(self, args, kwargs, override_flat_arg_shapes)\u001b[0m\n\u001b[1;32m   3306\u001b[0m             \u001b[0marg_names\u001b[0m\u001b[0;34m=\u001b[0m\u001b[0marg_names\u001b[0m\u001b[0;34m,\u001b[0m\u001b[0;34m\u001b[0m\u001b[0;34m\u001b[0m\u001b[0m\n\u001b[1;32m   3307\u001b[0m             \u001b[0moverride_flat_arg_shapes\u001b[0m\u001b[0;34m=\u001b[0m\u001b[0moverride_flat_arg_shapes\u001b[0m\u001b[0;34m,\u001b[0m\u001b[0;34m\u001b[0m\u001b[0;34m\u001b[0m\u001b[0m\n\u001b[0;32m-> 3308\u001b[0;31m             capture_by_value=self._capture_by_value),\n\u001b[0m\u001b[1;32m   3309\u001b[0m         \u001b[0mself\u001b[0m\u001b[0;34m.\u001b[0m\u001b[0m_function_attributes\u001b[0m\u001b[0;34m,\u001b[0m\u001b[0;34m\u001b[0m\u001b[0;34m\u001b[0m\u001b[0m\n\u001b[1;32m   3310\u001b[0m         \u001b[0mfunction_spec\u001b[0m\u001b[0;34m=\u001b[0m\u001b[0mself\u001b[0m\u001b[0;34m.\u001b[0m\u001b[0mfunction_spec\u001b[0m\u001b[0;34m,\u001b[0m\u001b[0;34m\u001b[0m\u001b[0;34m\u001b[0m\u001b[0m\n",
      "\u001b[0;32m~/miniconda3/envs/deep-tweezer/lib/python3.6/site-packages/tensorflow/python/framework/func_graph.py\u001b[0m in \u001b[0;36mfunc_graph_from_py_func\u001b[0;34m(name, python_func, args, kwargs, signature, func_graph, autograph, autograph_options, add_control_dependencies, arg_names, op_return_value, collections, capture_by_value, override_flat_arg_shapes, acd_record_initial_resource_uses)\u001b[0m\n\u001b[1;32m   1005\u001b[0m         \u001b[0m_\u001b[0m\u001b[0;34m,\u001b[0m \u001b[0moriginal_func\u001b[0m \u001b[0;34m=\u001b[0m \u001b[0mtf_decorator\u001b[0m\u001b[0;34m.\u001b[0m\u001b[0munwrap\u001b[0m\u001b[0;34m(\u001b[0m\u001b[0mpython_func\u001b[0m\u001b[0;34m)\u001b[0m\u001b[0;34m\u001b[0m\u001b[0;34m\u001b[0m\u001b[0m\n\u001b[1;32m   1006\u001b[0m \u001b[0;34m\u001b[0m\u001b[0m\n\u001b[0;32m-> 1007\u001b[0;31m       \u001b[0mfunc_outputs\u001b[0m \u001b[0;34m=\u001b[0m \u001b[0mpython_func\u001b[0m\u001b[0;34m(\u001b[0m\u001b[0;34m*\u001b[0m\u001b[0mfunc_args\u001b[0m\u001b[0;34m,\u001b[0m \u001b[0;34m**\u001b[0m\u001b[0mfunc_kwargs\u001b[0m\u001b[0;34m)\u001b[0m\u001b[0;34m\u001b[0m\u001b[0;34m\u001b[0m\u001b[0m\n\u001b[0m\u001b[1;32m   1008\u001b[0m \u001b[0;34m\u001b[0m\u001b[0m\n\u001b[1;32m   1009\u001b[0m       \u001b[0;31m# invariant: `func_outputs` contains only Tensors, CompositeTensors,\u001b[0m\u001b[0;34m\u001b[0m\u001b[0;34m\u001b[0m\u001b[0;34m\u001b[0m\u001b[0m\n",
      "\u001b[0;32m~/miniconda3/envs/deep-tweezer/lib/python3.6/site-packages/tensorflow/python/eager/def_function.py\u001b[0m in \u001b[0;36mwrapped_fn\u001b[0;34m(*args, **kwds)\u001b[0m\n\u001b[1;32m    666\u001b[0m         \u001b[0;31m# the function a weak reference to itself to avoid a reference cycle.\u001b[0m\u001b[0;34m\u001b[0m\u001b[0;34m\u001b[0m\u001b[0;34m\u001b[0m\u001b[0m\n\u001b[1;32m    667\u001b[0m         \u001b[0;32mwith\u001b[0m \u001b[0mOptionalXlaContext\u001b[0m\u001b[0;34m(\u001b[0m\u001b[0mcompile_with_xla\u001b[0m\u001b[0;34m)\u001b[0m\u001b[0;34m:\u001b[0m\u001b[0;34m\u001b[0m\u001b[0;34m\u001b[0m\u001b[0m\n\u001b[0;32m--> 668\u001b[0;31m           \u001b[0mout\u001b[0m \u001b[0;34m=\u001b[0m \u001b[0mweak_wrapped_fn\u001b[0m\u001b[0;34m(\u001b[0m\u001b[0;34m)\u001b[0m\u001b[0;34m.\u001b[0m\u001b[0m__wrapped__\u001b[0m\u001b[0;34m(\u001b[0m\u001b[0;34m*\u001b[0m\u001b[0margs\u001b[0m\u001b[0;34m,\u001b[0m \u001b[0;34m**\u001b[0m\u001b[0mkwds\u001b[0m\u001b[0;34m)\u001b[0m\u001b[0;34m\u001b[0m\u001b[0;34m\u001b[0m\u001b[0m\n\u001b[0m\u001b[1;32m    669\u001b[0m         \u001b[0;32mreturn\u001b[0m \u001b[0mout\u001b[0m\u001b[0;34m\u001b[0m\u001b[0;34m\u001b[0m\u001b[0m\n\u001b[1;32m    670\u001b[0m \u001b[0;34m\u001b[0m\u001b[0m\n",
      "\u001b[0;32m~/miniconda3/envs/deep-tweezer/lib/python3.6/site-packages/tensorflow/python/framework/func_graph.py\u001b[0m in \u001b[0;36mwrapper\u001b[0;34m(*args, **kwargs)\u001b[0m\n\u001b[1;32m    992\u001b[0m           \u001b[0;32mexcept\u001b[0m \u001b[0mException\u001b[0m \u001b[0;32mas\u001b[0m \u001b[0me\u001b[0m\u001b[0;34m:\u001b[0m  \u001b[0;31m# pylint:disable=broad-except\u001b[0m\u001b[0;34m\u001b[0m\u001b[0;34m\u001b[0m\u001b[0m\n\u001b[1;32m    993\u001b[0m             \u001b[0;32mif\u001b[0m \u001b[0mhasattr\u001b[0m\u001b[0;34m(\u001b[0m\u001b[0me\u001b[0m\u001b[0;34m,\u001b[0m \u001b[0;34m\"ag_error_metadata\"\u001b[0m\u001b[0;34m)\u001b[0m\u001b[0;34m:\u001b[0m\u001b[0;34m\u001b[0m\u001b[0;34m\u001b[0m\u001b[0m\n\u001b[0;32m--> 994\u001b[0;31m               \u001b[0;32mraise\u001b[0m \u001b[0me\u001b[0m\u001b[0;34m.\u001b[0m\u001b[0mag_error_metadata\u001b[0m\u001b[0;34m.\u001b[0m\u001b[0mto_exception\u001b[0m\u001b[0;34m(\u001b[0m\u001b[0me\u001b[0m\u001b[0;34m)\u001b[0m\u001b[0;34m\u001b[0m\u001b[0;34m\u001b[0m\u001b[0m\n\u001b[0m\u001b[1;32m    995\u001b[0m             \u001b[0;32melse\u001b[0m\u001b[0;34m:\u001b[0m\u001b[0;34m\u001b[0m\u001b[0;34m\u001b[0m\u001b[0m\n\u001b[1;32m    996\u001b[0m               \u001b[0;32mraise\u001b[0m\u001b[0;34m\u001b[0m\u001b[0;34m\u001b[0m\u001b[0m\n",
      "\u001b[0;31mValueError\u001b[0m: in user code:\n\n    /home/oscar.kremer/miniconda3/envs/deep-tweezer/lib/python3.6/site-packages/keras/engine/training.py:1586 predict_function  *\n        return step_function(self, iterator)\n    /home/oscar.kremer/miniconda3/envs/deep-tweezer/lib/python3.6/site-packages/keras/engine/training.py:1576 step_function  **\n        outputs = model.distribute_strategy.run(run_step, args=(data,))\n    /home/oscar.kremer/miniconda3/envs/deep-tweezer/lib/python3.6/site-packages/tensorflow/python/distribute/distribute_lib.py:1286 run\n        return self._extended.call_for_each_replica(fn, args=args, kwargs=kwargs)\n    /home/oscar.kremer/miniconda3/envs/deep-tweezer/lib/python3.6/site-packages/tensorflow/python/distribute/distribute_lib.py:2849 call_for_each_replica\n        return self._call_for_each_replica(fn, args, kwargs)\n    /home/oscar.kremer/miniconda3/envs/deep-tweezer/lib/python3.6/site-packages/tensorflow/python/distribute/distribute_lib.py:3632 _call_for_each_replica\n        return fn(*args, **kwargs)\n    /home/oscar.kremer/miniconda3/envs/deep-tweezer/lib/python3.6/site-packages/keras/engine/training.py:1569 run_step  **\n        outputs = model.predict_step(data)\n    /home/oscar.kremer/miniconda3/envs/deep-tweezer/lib/python3.6/site-packages/keras/engine/training.py:1537 predict_step\n        return self(x, training=False)\n    /home/oscar.kremer/miniconda3/envs/deep-tweezer/lib/python3.6/site-packages/keras/engine/base_layer.py:1037 __call__\n        outputs = call_fn(inputs, *args, **kwargs)\n    /home/oscar.kremer/miniconda3/envs/deep-tweezer/lib/python3.6/site-packages/keras/engine/functional.py:415 call\n        inputs, training=training, mask=mask)\n    /home/oscar.kremer/miniconda3/envs/deep-tweezer/lib/python3.6/site-packages/keras/engine/functional.py:550 _run_internal_graph\n        outputs = node.layer(*args, **kwargs)\n    /home/oscar.kremer/miniconda3/envs/deep-tweezer/lib/python3.6/site-packages/keras/engine/base_layer.py:1020 __call__\n        input_spec.assert_input_compatibility(self.input_spec, inputs, self.name)\n    /home/oscar.kremer/miniconda3/envs/deep-tweezer/lib/python3.6/site-packages/keras/engine/input_spec.py:254 assert_input_compatibility\n        ' but received input with shape ' + display_shape(x.shape))\n\n    ValueError: Input 0 of layer dense_48 is incompatible with the layer: expected axis -1 of input shape to have value 2 but received input with shape (2, 1)\n"
     ]
    }
   ],
   "source": [
    "rewards, ddpg, _ = ddpg_loop(Tweezer())"
   ]
  },
  {
   "cell_type": "code",
   "execution_count": 102,
   "metadata": {},
   "outputs": [
    {
     "data": {
      "image/png": "[encoded data removed]",
      "text/plain": [
       "<Figure size 1080x288 with 1 Axes>"
      ]
     },
     "metadata": {
      "needs_background": "light"
     },
     "output_type": "display_data"
    }
   ],
   "source": [
    "import matplotlib.pyplot as plt\n",
    "plt.figure(figsize=(15,4))\n",
    "#Picking only the first 100 points to have a similar graphic to the one on ex4.pdf\n",
    "plt.plot(rewards[:100], linewidth=2.5)\n",
    "plt.title(\"Reward during simulation DDPG\")\n",
    "plt.xlabel(\"Episode\")\n",
    "plt.ylabel(\"Reward\")\n",
    "plt.show()"
   ]
  },
  {
   "cell_type": "markdown",
   "metadata": {},
   "source": [
    "### Exercise 3.2.\n",
    "\n",
    "Measure the same statistics as for linear state-value actor-critic, and compare the results. Is it what you expected? Explain."
   ]
  },
  {
   "cell_type": "code",
   "execution_count": 99,
   "metadata": {},
   "outputs": [],
   "source": [
    "# Creating function to act on the system with no learning and exploration.\n",
    "\n",
    "def end_perf_ddpg(env, \n",
    "                  ddpg,\n",
    "                  episodes=200, \n",
    "                  steps=1000, \n",
    "                  render_step=0):\n",
    "    s = env.reset()\n",
    "    rewards = []\n",
    "    for e in tqdm(range(episodes)):\n",
    "        s = env.reset()\n",
    "        total_r = 0\n",
    "        for t in range(steps):\n",
    "            # Take an action and apply to the system\n",
    "            a = ddpg.actor(s)\n",
    "            sP, r, done, _ = env.step(a)\n",
    "            total_r+=r\n",
    "            if render_step and not t%render_step:\n",
    "                env.render()\n",
    "            if done:\n",
    "                break\n",
    "            s = sP\n",
    "        rewards.append(total_r) \n",
    "    return np.array(rewards) "
   ]
  },
  {
   "cell_type": "code",
   "execution_count": 101,
   "metadata": {},
   "outputs": [
    {
     "name": "stderr",
     "output_type": "stream",
     "text": [
      "100%|██████████| 200/200 [01:38<00:00,  2.03it/s]\n"
     ]
    }
   ],
   "source": [
    "# Testing function\n",
    "reward = end_perf_ddpg(environment, ddpg)"
   ]
  },
  {
   "cell_type": "code",
   "execution_count": 106,
   "metadata": {},
   "outputs": [
    {
     "name": "stderr",
     "output_type": "stream",
     "text": [
      "100%|██████████| 100/100 [07:59<00:00,  4.79s/it]\n",
      "100%|██████████| 100/100 [02:24<00:00,  1.45s/it]\n",
      "100%|██████████| 100/100 [11:04<00:00,  6.64s/it]\n",
      "100%|██████████| 100/100 [01:51<00:00,  1.12s/it]\n",
      "100%|██████████| 100/100 [11:15<00:00,  6.75s/it]\n",
      "100%|██████████| 100/100 [05:03<00:00,  3.03s/it]\n",
      "100%|██████████| 100/100 [07:20<00:00,  4.40s/it]\n",
      "100%|██████████| 100/100 [01:32<00:00,  1.09it/s]\n",
      "100%|██████████| 100/100 [06:31<00:00,  3.92s/it]\n",
      "100%|██████████| 100/100 [03:55<00:00,  2.36s/it]\n"
     ]
    }
   ],
   "source": [
    "# Running 5 different tests on the algorithm to evaluate the metrics with 100 episodes to consume less time\n",
    "\n",
    "num_tests = 5\n",
    "environment = Pendulum()\n",
    "perfs, trains, training_time = [], [], []\n",
    "for i in range(num_tests):\n",
    "    ddpg, train_reward, time_consumption = ddpg_loop(environment, episodes=100, plot=False)\n",
    "    perf_reward = end_perf_ddpg(environment, ddpg, episodes=100)\n",
    "    trains.append(train_reward)\n",
    "    perfs.append(perf_reward)\n",
    "    training_time.append(time_consumption)"
   ]
  },
  {
   "cell_type": "code",
   "execution_count": 126,
   "metadata": {},
   "outputs": [
    {
     "data": {
      "text/plain": [
       "(36.333333333333336, 30.0, 12.657891697365017)"
      ]
     },
     "execution_count": 126,
     "metadata": {},
     "output_type": "execute_result"
    }
   ],
   "source": [
    "number_episodes = np.array(list(map(lambda x: np.argwhere(np.array(x)>-500)[3][0], trains)))\n",
    "number_episodes.mean(), np.median(number_episodes), number_episodes.std()"
   ]
  },
  {
   "cell_type": "code",
   "execution_count": 127,
   "metadata": {},
   "outputs": [
    {
     "data": {
      "text/plain": [
       "(-1014.7041650936073, -977.6824290654102, 354.4362118926296)"
      ]
     },
     "execution_count": 127,
     "metadata": {},
     "output_type": "execute_result"
    }
   ],
   "source": [
    "end_performances = np.array(list(map(lambda x: x.mean(), perf_reward)))\n",
    "end_performances.mean(), np.median(end_performances), end_performances.std()"
   ]
  },
  {
   "cell_type": "code",
   "execution_count": 128,
   "metadata": {},
   "outputs": [
    {
     "data": {
      "text/plain": [
       "(530.2096154212952, 479.3325080871582, 117.30870358139215)"
      ]
     },
     "execution_count": 128,
     "metadata": {},
     "output_type": "execute_result"
    }
   ],
   "source": [
    "training_time = np.array(training_time)\n",
    "training_time.mean(), np.median(training_time), training_time.std()"
   ]
  },
  {
   "cell_type": "markdown",
   "metadata": {},
   "source": [
    "#### Results\n",
    "\n",
    "The results in table also include the ones encountered in the exercise 2.4.\n",
    "\n",
    "  | Model | Metric | Mean Value | Median Value | Standard Deviation |\n",
    "   |---|---|---|---|---|\n",
    "   |SVAC| Rise Time |  16.666| 12| 8.055|\n",
    "   |SVAC| End Performance| -210.6968 | -266.986 | 146.818 | \n",
    "   |SVAC| Computation Time (s)| 8.3750 | 8.336 | 0.3397|\n",
    "   |DDPG| Rise Time |  36.34| 30.00| 12.657|\n",
    "   |DDPG| End Performance| -1014.734 | -977.6824 | 354.436 | \n",
    "   |DDPG| Computation Time (s)| 530.209 | 479.3324 | 117.308|\n",
    "   \n",
    "As expected, the computation time of DDPG is much higher than SVAC, since the neural networks are much more complex and have a bigger of parameters to adjust in its training. It would be expected that the DDPG would be better since its a more complex model, however for the number of trials in all the parameters SVAC achieved better results. With this is possible to conclude that for inverse pendulum problem, the RBF estimator with SVAC is a better option than using DDPG.\n",
    "   "
   ]
  }
 ],
 "metadata": {
  "kernelspec": {
   "display_name": "Python 3",
   "language": "python",
   "name": "python3"
  },
  "language_info": {
   "codemirror_mode": {
    "name": "ipython",
    "version": 3
   },
   "file_extension": ".py",
   "mimetype": "text/x-python",
   "name": "python",
   "nbconvert_exporter": "python",
   "pygments_lexer": "ipython3",
   "version": "3.6.15"
  }
 },
 "nbformat": 4,
 "nbformat_minor": 4
}
