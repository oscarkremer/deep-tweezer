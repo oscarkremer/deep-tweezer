{
 "cells": [
  {
   "cell_type": "code",
   "execution_count": 3,
   "metadata": {},
   "outputs": [],
   "source": [
    "import numpy as np\n",
    "import matplotlib.pyplot as plt\n",
    "from src.environment import Tweezer, Pendulum\n",
    "from src.utils.memory import Memory\n",
    "from src.models import DDPG\n",
    "from src.models.RBF import rbfprojector\n",
    "from time import time\n",
    "from tqdm import tqdm"
   ]
  },
  {
   "cell_type": "code",
   "execution_count": 14,
   "metadata": {},
   "outputs": [],
   "source": [
    "def state_value_action_critic(env, \n",
    "                              sigma=1, \n",
    "                              gamma=0.99, \n",
    "                              alpha=0.2, \n",
    "                              beta=0.01, \n",
    "                              episodes=300, \n",
    "                              steps=2000, \n",
    "                              render_step=0, \n",
    "                              rate = 0.99,\n",
    "                              plot=True\n",
    "                             ):\n",
    "    s = env.reset()\n",
    "    feature = rbfprojector(21, 0.2)\n",
    "    w = np.zeros(len(feature([0, 0, 0])))\n",
    "    theta = np.random.rand(len(feature([0, 0, 0])))\n",
    "    start = time()\n",
    "    for e in tqdm(range(episodes)):\n",
    "        s = env.reset()\n",
    "        total_r = 0\n",
    "        rewards, actions, states = [], [], []\n",
    "        for t in range(steps):\n",
    "            # Compute phi_s and pi_s_theta\n",
    "            phi_s = feature(s)\n",
    "            pi_s_theta = np.dot(theta, phi_s)\n",
    "            # Take an action and apply to the system\n",
    "            a = np.random.normal(pi_s_theta, scale=sigma, size=None)\n",
    "            states.append(s)\n",
    "            sP, r, done, _ = env.step(a)\n",
    "            actions.append(a)\n",
    "            # Compute phi_sP\n",
    "            phi_sP = feature(sP)\n",
    "            # Compute delta and update w and theta\n",
    "            delta = r + gamma*np.dot(w, phi_sP) - np.dot(w, phi_s)\n",
    "            w = w + alpha*delta*phi_s\n",
    "            theta = theta + beta*(a-pi_s_theta)*phi_s*delta\n",
    "            total_r+=r\n",
    "            s = sP\n",
    "            if done:\n",
    "                break\n",
    "        print(total_r)\n",
    "        actions = np.array(actions)\n",
    "        states = np.array(states)\n",
    "        rewards.append(total_r) \n",
    "        sigma = sigma*rate\n",
    "    end = time()\n",
    "    env.close()\n",
    "#    return theta, w, np.array(rewards), end-start\n",
    "    return states, actions"
   ]
  },
  {
   "cell_type": "code",
   "execution_count": 15,
   "metadata": {},
   "outputs": [
    {
     "data": {
      "text/plain": [
       "100"
      ]
     },
     "execution_count": 15,
     "metadata": {},
     "output_type": "execute_result"
    }
   ],
   "source": [
    "env = Tweezer()\n",
    "env.max_voltage"
   ]
  },
  {
   "cell_type": "code",
   "execution_count": 16,
   "metadata": {},
   "outputs": [
    {
     "name": "stderr",
     "output_type": "stream",
     "text": [
      "  2%|▏         | 6/300 [00:00<00:12, 24.34it/s]"
     ]
    },
    {
     "name": "stdout",
     "output_type": "stream",
     "text": [
      "-1583.912038175267\n",
      "-1465.5234833740528\n",
      "-1611.522242336472\n",
      "-1128.2406338321928\n",
      "-1182.1200963670135\n",
      "-1320.3602016692673\n"
     ]
    },
    {
     "name": "stderr",
     "output_type": "stream",
     "text": [
      "\r",
      "  3%|▎         | 9/300 [00:00<00:11, 24.41it/s]"
     ]
    },
    {
     "name": "stdout",
     "output_type": "stream",
     "text": [
      "-1491.9607369667494\n",
      "-1217.488517624029\n",
      "-1495.921681964994\n",
      "-1421.3464023985848\n",
      "-1656.7203965886602\n",
      "-1495.2098167473935\n"
     ]
    },
    {
     "name": "stderr",
     "output_type": "stream",
     "text": [
      "  5%|▌         | 15/300 [00:00<00:12, 23.65it/s]"
     ]
    },
    {
     "name": "stdout",
     "output_type": "stream",
     "text": [
      "-1499.827948630519\n",
      "-1569.013901137277\n",
      "-1209.972791300155\n",
      "-1417.747812761378\n",
      "-1380.931613328689\n"
     ]
    },
    {
     "name": "stderr",
     "output_type": "stream",
     "text": [
      "  7%|▋         | 21/300 [00:00<00:11, 24.20it/s]"
     ]
    },
    {
     "name": "stdout",
     "output_type": "stream",
     "text": [
      "-1453.7892012367556\n",
      "-1496.5388777573544\n",
      "-1502.017427395033\n",
      "-1494.9944862868356\n",
      "-1318.573492673955\n"
     ]
    },
    {
     "name": "stderr",
     "output_type": "stream",
     "text": [
      "  9%|▉         | 27/300 [00:01<00:11, 24.31it/s]"
     ]
    },
    {
     "name": "stdout",
     "output_type": "stream",
     "text": [
      "-1222.4151015921398\n",
      "-1500.7141331560244\n",
      "-1269.1970671903998\n",
      "-1361.2106310124373\n",
      "-1208.7031283411757\n"
     ]
    },
    {
     "name": "stderr",
     "output_type": "stream",
     "text": [
      " 11%|█         | 33/300 [00:01<00:10, 24.66it/s]"
     ]
    },
    {
     "name": "stdout",
     "output_type": "stream",
     "text": [
      "-1472.2436060026575\n",
      "-1346.759155192919\n",
      "-1111.6341282249525\n",
      "-1353.0479602354908\n",
      "-1285.4952478322582\n",
      "-1491.090274885687\n"
     ]
    },
    {
     "name": "stderr",
     "output_type": "stream",
     "text": [
      "\r",
      " 12%|█▏        | 36/300 [00:01<00:10, 24.68it/s]"
     ]
    },
    {
     "name": "stdout",
     "output_type": "stream",
     "text": [
      "-1373.5500526504093\n",
      "-1376.0993386883588\n",
      "-1499.7436310127307\n",
      "-1436.4536311311965\n",
      "-1379.756409822314\n",
      "-1350.9030799762445\n"
     ]
    },
    {
     "name": "stderr",
     "output_type": "stream",
     "text": [
      " 15%|█▌        | 45/300 [00:01<00:10, 24.89it/s]"
     ]
    },
    {
     "name": "stdout",
     "output_type": "stream",
     "text": [
      "-1503.718503445056\n",
      "-1499.4579860972206\n",
      "-1371.8478327650926\n",
      "-1368.071356887657\n",
      "-1289.6916590820638\n",
      "-1239.9139217645074\n"
     ]
    },
    {
     "name": "stderr",
     "output_type": "stream",
     "text": [
      "\r",
      " 16%|█▌        | 48/300 [00:01<00:10, 24.91it/s]"
     ]
    },
    {
     "name": "stdout",
     "output_type": "stream",
     "text": [
      "-1306.6670046814652\n",
      "-1322.1674925434625\n",
      "-1270.0172638905606\n",
      "-1368.8982779290209\n",
      "-1457.0019263141419\n",
      "-1394.1763783887714\n"
     ]
    },
    {
     "name": "stderr",
     "output_type": "stream",
     "text": [
      " 18%|█▊        | 54/300 [00:02<00:10, 24.32it/s]"
     ]
    },
    {
     "name": "stdout",
     "output_type": "stream",
     "text": [
      "-1369.2561918999672\n",
      "-1287.6185116051133\n",
      "-1507.159219265429\n",
      "-1318.5539225572572\n",
      "-1343.886694747241\n"
     ]
    },
    {
     "name": "stderr",
     "output_type": "stream",
     "text": [
      " 20%|██        | 60/300 [00:02<00:09, 24.25it/s]"
     ]
    },
    {
     "name": "stdout",
     "output_type": "stream",
     "text": [
      "-1332.2648819398578\n",
      "-1277.074855908864\n",
      "-1280.1935636415694\n",
      "-1235.9819103309903\n",
      "-1321.4709492860995\n"
     ]
    },
    {
     "name": "stderr",
     "output_type": "stream",
     "text": [
      " 22%|██▏       | 66/300 [00:02<00:09, 24.18it/s]"
     ]
    },
    {
     "name": "stdout",
     "output_type": "stream",
     "text": [
      "-1258.6528046019987\n",
      "-1384.862722694788\n",
      "-1370.0149829676745\n",
      "-1385.0470104886554\n",
      "-1378.3710771003257\n"
     ]
    },
    {
     "name": "stderr",
     "output_type": "stream",
     "text": [
      "\r",
      " 23%|██▎       | 69/300 [00:02<00:09, 24.17it/s]"
     ]
    },
    {
     "name": "stdout",
     "output_type": "stream",
     "text": [
      "-1515.1856206505918\n",
      "-1393.5808763661187\n",
      "-1210.9835563913566\n",
      "-1501.314819381881\n",
      "-1427.1163459095887\n"
     ]
    },
    {
     "name": "stderr",
     "output_type": "stream",
     "text": [
      " 25%|██▌       | 75/300 [00:03<00:09, 24.30it/s]"
     ]
    },
    {
     "name": "stdout",
     "output_type": "stream",
     "text": [
      "-1241.4366426459424\n",
      "-1454.453235143949\n",
      "-1279.765993882675\n",
      "-1426.7718239259082\n",
      "-1486.1774675497084\n"
     ]
    },
    {
     "name": "stderr",
     "output_type": "stream",
     "text": [
      " 27%|██▋       | 81/300 [00:03<00:08, 24.51it/s]"
     ]
    },
    {
     "name": "stdout",
     "output_type": "stream",
     "text": [
      "-1499.214221009575\n",
      "-1495.3515991171878\n",
      "-1224.6791802292964\n",
      "-1299.3432061136386\n",
      "-1492.9010904238398\n"
     ]
    },
    {
     "name": "stderr",
     "output_type": "stream",
     "text": [
      "\r",
      " 28%|██▊       | 84/300 [00:03<00:08, 24.20it/s]"
     ]
    },
    {
     "name": "stdout",
     "output_type": "stream",
     "text": [
      "-1250.456099963255\n",
      "-1373.5178292275687\n",
      "-1504.4642939758696\n",
      "-1372.10127858488\n",
      "-1501.1747766982642\n"
     ]
    },
    {
     "name": "stderr",
     "output_type": "stream",
     "text": [
      " 30%|███       | 90/300 [00:03<00:08, 24.05it/s]"
     ]
    },
    {
     "name": "stdout",
     "output_type": "stream",
     "text": [
      "-1381.2956726974203\n",
      "-1516.4298600070144\n",
      "-1313.6146148025887\n",
      "-1337.4810686852268\n",
      "-1495.5934729695934\n"
     ]
    },
    {
     "name": "stderr",
     "output_type": "stream",
     "text": [
      " 32%|███▏      | 96/300 [00:03<00:08, 24.02it/s]"
     ]
    },
    {
     "name": "stdout",
     "output_type": "stream",
     "text": [
      "-1497.4285471687972\n",
      "-1339.130064180333\n",
      "-1298.6582234797534\n",
      "-1310.8472174447961\n",
      "-1042.4888210275178\n"
     ]
    },
    {
     "name": "stderr",
     "output_type": "stream",
     "text": [
      "\r",
      " 33%|███▎      | 99/300 [00:04<00:08, 24.09it/s]"
     ]
    },
    {
     "name": "stdout",
     "output_type": "stream",
     "text": [
      "-1491.5641880173562\n",
      "-1322.9032890438439\n",
      "-1373.8694648003404\n",
      "-1498.9841844352247\n",
      "-1458.0357734179124\n"
     ]
    },
    {
     "name": "stderr",
     "output_type": "stream",
     "text": [
      " 35%|███▌      | 105/300 [00:04<00:08, 22.87it/s]"
     ]
    },
    {
     "name": "stdout",
     "output_type": "stream",
     "text": [
      "-1233.923066076734\n",
      "-1474.4502211422441\n",
      "-1349.380355757394\n",
      "-1351.4606627108883\n",
      "-1326.7033726498\n"
     ]
    },
    {
     "name": "stderr",
     "output_type": "stream",
     "text": [
      " 37%|███▋      | 111/300 [00:04<00:08, 23.53it/s]"
     ]
    },
    {
     "name": "stdout",
     "output_type": "stream",
     "text": [
      "-1291.2284742784525\n",
      "-1510.6303006961678\n",
      "-1329.3605500639567\n",
      "-1277.1714075060881\n",
      "-1379.9809045331162\n"
     ]
    },
    {
     "name": "stderr",
     "output_type": "stream",
     "text": [
      "\r",
      " 38%|███▊      | 114/300 [00:04<00:07, 23.73it/s]"
     ]
    },
    {
     "name": "stdout",
     "output_type": "stream",
     "text": [
      "-1134.1134177340214\n",
      "-1350.4272981475392\n",
      "-1281.9818810907325\n",
      "-1234.0054770885556\n",
      "-1403.2869621374589\n"
     ]
    },
    {
     "name": "stderr",
     "output_type": "stream",
     "text": [
      " 40%|████      | 120/300 [00:04<00:07, 23.47it/s]"
     ]
    },
    {
     "name": "stdout",
     "output_type": "stream",
     "text": [
      "-1513.2708964061233\n",
      "-1461.1050630455009\n",
      "-1503.7819028345848\n",
      "-1375.794772655166\n",
      "-1369.3997336461855\n"
     ]
    },
    {
     "name": "stderr",
     "output_type": "stream",
     "text": [
      " 42%|████▏     | 126/300 [00:05<00:07, 23.20it/s]"
     ]
    },
    {
     "name": "stdout",
     "output_type": "stream",
     "text": [
      "-1515.8943499633658\n",
      "-1250.9840572487685\n",
      "-1393.4248496188973\n",
      "-1407.3235782732684\n",
      "-1396.3415313431508\n"
     ]
    },
    {
     "name": "stderr",
     "output_type": "stream",
     "text": [
      "\r",
      " 43%|████▎     | 129/300 [00:05<00:07, 23.48it/s]"
     ]
    },
    {
     "name": "stdout",
     "output_type": "stream",
     "text": [
      "-1471.5255139477667\n",
      "-1294.4841587532226\n",
      "-1230.9190439036374\n",
      "-1493.6279772120608\n",
      "-1237.0458370165234\n"
     ]
    },
    {
     "name": "stderr",
     "output_type": "stream",
     "text": [
      " 45%|████▌     | 135/300 [00:05<00:06, 23.57it/s]"
     ]
    },
    {
     "name": "stdout",
     "output_type": "stream",
     "text": [
      "-1259.4912258300324\n",
      "-1260.6866587719098\n",
      "-1393.2711097998554\n",
      "-1496.1389022974906\n",
      "-1388.3957287998935\n"
     ]
    },
    {
     "name": "stderr",
     "output_type": "stream",
     "text": [
      " 47%|████▋     | 141/300 [00:05<00:06, 23.70it/s]"
     ]
    },
    {
     "name": "stdout",
     "output_type": "stream",
     "text": [
      "-1221.3375233832467\n",
      "-1437.4824632212708\n",
      "-1252.801664077154\n",
      "-1330.1915388021862\n",
      "-1484.9981644510754\n"
     ]
    },
    {
     "name": "stderr",
     "output_type": "stream",
     "text": [
      "\r",
      " 48%|████▊     | 144/300 [00:06<00:06, 23.11it/s]"
     ]
    },
    {
     "name": "stdout",
     "output_type": "stream",
     "text": [
      "-1523.7975879872006\n",
      "-1494.0362759256755\n",
      "-1395.394650557238\n",
      "-1228.729301443844\n",
      "-1359.4973942588774\n"
     ]
    },
    {
     "name": "stderr",
     "output_type": "stream",
     "text": [
      " 50%|█████     | 150/300 [00:06<00:06, 23.66it/s]"
     ]
    },
    {
     "name": "stdout",
     "output_type": "stream",
     "text": [
      "-1377.0376497842574\n",
      "-1321.8105567064674\n",
      "-1161.7888007704578\n",
      "-1297.4305010715852\n",
      "-1406.1113978968804\n"
     ]
    },
    {
     "name": "stderr",
     "output_type": "stream",
     "text": [
      " 52%|█████▏    | 156/300 [00:06<00:06, 23.61it/s]"
     ]
    },
    {
     "name": "stdout",
     "output_type": "stream",
     "text": [
      "-1409.9911422543562\n",
      "-1505.0568439167978\n",
      "-1430.4842615771017\n",
      "-1405.8028780102773\n",
      "-1397.4177791499794\n"
     ]
    },
    {
     "name": "stderr",
     "output_type": "stream",
     "text": [
      "\r",
      " 53%|█████▎    | 159/300 [00:06<00:06, 23.09it/s]"
     ]
    },
    {
     "name": "stdout",
     "output_type": "stream",
     "text": [
      "-1391.5266220427357\n",
      "-1295.1559798722778\n",
      "-1393.906073443467\n",
      "-1346.921751698881\n",
      "-1508.371584568088\n"
     ]
    },
    {
     "name": "stderr",
     "output_type": "stream",
     "text": [
      " 55%|█████▌    | 165/300 [00:06<00:06, 22.12it/s]"
     ]
    },
    {
     "name": "stdout",
     "output_type": "stream",
     "text": [
      "-1386.7814236301087\n",
      "-1254.9571802817923\n",
      "-1406.5792294230616\n",
      "-1391.8367751503006\n",
      "-1379.1002931192183\n"
     ]
    },
    {
     "name": "stderr",
     "output_type": "stream",
     "text": [
      " 57%|█████▋    | 171/300 [00:07<00:05, 22.36it/s]"
     ]
    },
    {
     "name": "stdout",
     "output_type": "stream",
     "text": [
      "-1193.3528468115944\n",
      "-1274.6502919576265\n",
      "-1291.554322250501\n",
      "-1327.0038274338776\n",
      "-1391.5412580431034\n"
     ]
    },
    {
     "name": "stderr",
     "output_type": "stream",
     "text": [
      "\r",
      " 58%|█████▊    | 174/300 [00:07<00:05, 22.60it/s]"
     ]
    },
    {
     "name": "stdout",
     "output_type": "stream",
     "text": [
      "-1281.4206149931804\n",
      "-1318.086862210617\n",
      "-1345.1053240889214\n",
      "-1407.5400673343063\n",
      "-1375.52129893552\n"
     ]
    },
    {
     "name": "stderr",
     "output_type": "stream",
     "text": [
      " 60%|██████    | 180/300 [00:07<00:05, 23.03it/s]"
     ]
    },
    {
     "name": "stdout",
     "output_type": "stream",
     "text": [
      "-1372.5917159192984\n",
      "-1271.914491585346\n",
      "-1400.3466967632694\n",
      "-1279.891783534906\n",
      "-1394.400037731731\n"
     ]
    },
    {
     "name": "stderr",
     "output_type": "stream",
     "text": [
      " 62%|██████▏   | 186/300 [00:07<00:04, 23.51it/s]"
     ]
    },
    {
     "name": "stdout",
     "output_type": "stream",
     "text": [
      "-1240.8754249818803\n",
      "-1233.5104760339134\n",
      "-1508.589376921102\n",
      "-1278.2372137269629\n",
      "-1306.9442506005103\n"
     ]
    },
    {
     "name": "stderr",
     "output_type": "stream",
     "text": [
      "\r",
      " 63%|██████▎   | 189/300 [00:07<00:04, 23.67it/s]"
     ]
    },
    {
     "name": "stdout",
     "output_type": "stream",
     "text": [
      "-1396.0287908289793\n",
      "-1254.2153348532333\n",
      "-1440.58798467195\n",
      "-1285.447613727425\n",
      "-1278.448596704113\n"
     ]
    },
    {
     "name": "stderr",
     "output_type": "stream",
     "text": [
      " 65%|██████▌   | 195/300 [00:08<00:04, 24.09it/s]"
     ]
    },
    {
     "name": "stdout",
     "output_type": "stream",
     "text": [
      "-1520.3577470391351\n",
      "-1411.4206824655582\n",
      "-1393.7383748408733\n",
      "-1270.9898412649643\n",
      "-1306.4769894163273\n",
      "-1235.9935869581188\n"
     ]
    },
    {
     "name": "stderr",
     "output_type": "stream",
     "text": [
      " 67%|██████▋   | 201/300 [00:08<00:04, 24.40it/s]"
     ]
    },
    {
     "name": "stdout",
     "output_type": "stream",
     "text": [
      "-1283.7608851876746\n",
      "-1306.311001227474\n",
      "-1286.797523672463\n",
      "-1307.7698712986096\n",
      "-1351.4206196379423\n"
     ]
    },
    {
     "name": "stderr",
     "output_type": "stream",
     "text": [
      " 69%|██████▉   | 207/300 [00:08<00:03, 24.31it/s]"
     ]
    },
    {
     "name": "stdout",
     "output_type": "stream",
     "text": [
      "-1382.308871429073\n",
      "-1391.7728368748499\n",
      "-1366.8470155713835\n",
      "-1503.6181374096036\n",
      "-1391.7250453549009\n"
     ]
    },
    {
     "name": "stderr",
     "output_type": "stream",
     "text": [
      " 71%|███████   | 213/300 [00:08<00:03, 24.65it/s]"
     ]
    },
    {
     "name": "stdout",
     "output_type": "stream",
     "text": [
      "-1308.5071844431557\n",
      "-1408.4723146853783\n",
      "-1403.4721358111356\n",
      "-1508.0909646297205\n",
      "-1508.9595533503561\n",
      "-1087.0382018195269\n"
     ]
    },
    {
     "name": "stderr",
     "output_type": "stream",
     "text": [
      "\r",
      " 72%|███████▏  | 216/300 [00:09<00:03, 24.67it/s]"
     ]
    },
    {
     "name": "stdout",
     "output_type": "stream",
     "text": [
      "-1386.561854779099\n",
      "-1383.4011403812704\n",
      "-1383.2178238276153\n",
      "-1359.3888637008688\n",
      "-1169.3512857539097\n"
     ]
    },
    {
     "name": "stderr",
     "output_type": "stream",
     "text": [
      " 74%|███████▍  | 222/300 [00:09<00:03, 24.36it/s]"
     ]
    },
    {
     "name": "stdout",
     "output_type": "stream",
     "text": [
      "-1276.0696639283767\n",
      "-1272.429169985536\n",
      "-1414.9524497163486\n",
      "-1260.4126991734765\n",
      "-1304.3975374093939\n"
     ]
    },
    {
     "name": "stderr",
     "output_type": "stream",
     "text": [
      " 76%|███████▌  | 228/300 [00:09<00:02, 24.31it/s]"
     ]
    },
    {
     "name": "stdout",
     "output_type": "stream",
     "text": [
      "-1285.7450585684423\n",
      "-1320.5018095297335\n",
      "-1491.639241675458\n",
      "-1297.3394503486363\n",
      "-1395.0992954293401\n"
     ]
    },
    {
     "name": "stderr",
     "output_type": "stream",
     "text": [
      "\r",
      " 77%|███████▋  | 231/300 [00:09<00:02, 24.10it/s]"
     ]
    },
    {
     "name": "stdout",
     "output_type": "stream",
     "text": [
      "-1407.606432515115\n",
      "-1411.972670969911\n",
      "-1448.9487442853952\n",
      "-1381.0112146637698\n",
      "-1522.5054315539537\n"
     ]
    },
    {
     "name": "stderr",
     "output_type": "stream",
     "text": [
      " 79%|███████▉  | 237/300 [00:09<00:02, 24.10it/s]"
     ]
    },
    {
     "name": "stdout",
     "output_type": "stream",
     "text": [
      "-1288.377392030963\n",
      "-1395.121552041074\n",
      "-1499.1847243797295\n",
      "-1386.8772661668183\n",
      "-1239.1330845862149\n"
     ]
    },
    {
     "name": "stderr",
     "output_type": "stream",
     "text": [
      " 81%|████████  | 243/300 [00:10<00:02, 23.56it/s]"
     ]
    },
    {
     "name": "stdout",
     "output_type": "stream",
     "text": [
      "-1126.5411702209076\n",
      "-1406.408398835173\n",
      "-1416.3017749653488\n",
      "-1234.5119595653637\n",
      "-1235.8597927052517\n"
     ]
    },
    {
     "name": "stderr",
     "output_type": "stream",
     "text": [
      "\r",
      " 82%|████████▏ | 246/300 [00:10<00:02, 23.62it/s]"
     ]
    },
    {
     "name": "stdout",
     "output_type": "stream",
     "text": [
      "-1412.766551342327\n",
      "-1409.268373559157\n",
      "-1231.337258358287\n",
      "-1256.8497289486427\n",
      "-1477.282185373857\n"
     ]
    },
    {
     "name": "stderr",
     "output_type": "stream",
     "text": [
      " 84%|████████▍ | 252/300 [00:10<00:02, 23.69it/s]"
     ]
    },
    {
     "name": "stdout",
     "output_type": "stream",
     "text": [
      "-1402.6245908256842\n",
      "-1427.4272943704311\n",
      "-1291.3452086356656\n",
      "-1262.348787874133\n",
      "-1236.4822967888394\n"
     ]
    },
    {
     "name": "stderr",
     "output_type": "stream",
     "text": [
      " 86%|████████▌ | 258/300 [00:10<00:01, 23.68it/s]"
     ]
    },
    {
     "name": "stdout",
     "output_type": "stream",
     "text": [
      "-1325.9702243649065\n",
      "-1508.5195736233356\n",
      "-1394.6821791970801\n",
      "-1260.9556885492343\n",
      "-1249.9759134278427\n"
     ]
    },
    {
     "name": "stderr",
     "output_type": "stream",
     "text": [
      "\r",
      " 87%|████████▋ | 261/300 [00:10<00:01, 23.56it/s]"
     ]
    },
    {
     "name": "stdout",
     "output_type": "stream",
     "text": [
      "-1251.346752731145\n",
      "-1235.4171434803281\n",
      "-1271.6012163205764\n",
      "-1498.6350879376328\n",
      "-1236.2234657957185\n"
     ]
    },
    {
     "name": "stderr",
     "output_type": "stream",
     "text": [
      " 89%|████████▉ | 267/300 [00:11<00:01, 23.46it/s]"
     ]
    },
    {
     "name": "stdout",
     "output_type": "stream",
     "text": [
      "-1381.5536410543098\n",
      "-1496.1093891604908\n",
      "-1375.913897511282\n",
      "-1236.0269136696184\n",
      "-1397.700057696836\n"
     ]
    },
    {
     "name": "stderr",
     "output_type": "stream",
     "text": [
      " 91%|█████████ | 273/300 [00:11<00:01, 22.45it/s]"
     ]
    },
    {
     "name": "stdout",
     "output_type": "stream",
     "text": [
      "-1494.5439416121699\n",
      "-1402.750032209287\n",
      "-1398.2411480150927\n",
      "-1401.9869347981437\n",
      "-1411.9327585514661\n"
     ]
    },
    {
     "name": "stderr",
     "output_type": "stream",
     "text": [
      "\r",
      " 92%|█████████▏| 276/300 [00:11<00:01, 22.30it/s]"
     ]
    },
    {
     "name": "stdout",
     "output_type": "stream",
     "text": [
      "-1283.0443769274884\n",
      "-1406.2185060465908\n",
      "-1525.4447923535113\n",
      "-1474.9525616590404\n",
      "-1395.9750700217105\n"
     ]
    },
    {
     "name": "stderr",
     "output_type": "stream",
     "text": [
      " 94%|█████████▍| 282/300 [00:11<00:00, 22.71it/s]"
     ]
    },
    {
     "name": "stdout",
     "output_type": "stream",
     "text": [
      "-1360.4789891254716\n",
      "-1341.4273225904026\n",
      "-1386.6915358866\n",
      "-1389.6870075357285\n",
      "-1490.8566739882674\n"
     ]
    },
    {
     "name": "stderr",
     "output_type": "stream",
     "text": [
      " 96%|█████████▌| 288/300 [00:12<00:00, 22.71it/s]"
     ]
    },
    {
     "name": "stdout",
     "output_type": "stream",
     "text": [
      "-1356.9292463836327\n",
      "-1397.204943190907\n",
      "-1402.1088437513758\n",
      "-1248.9841834478439\n",
      "-1425.0976634230099\n"
     ]
    },
    {
     "name": "stderr",
     "output_type": "stream",
     "text": [
      "\r",
      " 97%|█████████▋| 291/300 [00:12<00:00, 22.86it/s]"
     ]
    },
    {
     "name": "stdout",
     "output_type": "stream",
     "text": [
      "-1243.4413809185717\n",
      "-1288.4814478152207\n",
      "-1273.1868680837497\n",
      "-1271.744170945908\n",
      "-1258.0671116987164\n"
     ]
    },
    {
     "name": "stderr",
     "output_type": "stream",
     "text": [
      " 99%|█████████▉| 297/300 [00:12<00:00, 23.07it/s]"
     ]
    },
    {
     "name": "stdout",
     "output_type": "stream",
     "text": [
      "-1439.8690074583278\n",
      "-1351.2061448388492\n",
      "-1296.7565101209457\n",
      "-1235.431691137142\n",
      "-1380.8940883026378\n"
     ]
    },
    {
     "name": "stderr",
     "output_type": "stream",
     "text": [
      "100%|██████████| 300/300 [00:12<00:00, 23.71it/s]"
     ]
    },
    {
     "name": "stdout",
     "output_type": "stream",
     "text": [
      "-1389.7221506106407\n",
      "-1498.3167327737078\n"
     ]
    },
    {
     "name": "stderr",
     "output_type": "stream",
     "text": [
      "\n"
     ]
    }
   ],
   "source": [
    "states, actions  = state_value_action_critic(Pendulum())"
   ]
  },
  {
   "cell_type": "code",
   "execution_count": 17,
   "metadata": {},
   "outputs": [
    {
     "data": {
      "text/plain": [
       "array([ 9.61930997,  8.90700498,  8.53497594,  8.8265316 ,  9.62325444,\n",
       "       10.76270554, 12.57361886, 15.07715198, 18.18403364, 22.16147163,\n",
       "       26.81181959, 31.75908355, 37.05764746, 42.07661554, 46.64124676,\n",
       "       50.6139055 , 53.44903054, 55.54397612, 56.82326096, 57.25621058,\n",
       "       56.87158206, 55.90060296, 54.07711167, 51.28171784, 47.64886365,\n",
       "       43.11959555, 38.17853559, 33.08916239, 27.99520565, 23.21700683,\n",
       "       19.18176521, 15.83363219, 13.16050709, 11.14365999,  9.87692594,\n",
       "        8.95851056,  8.71216572,  8.77129101,  9.40249208, 10.53319114,\n",
       "       12.26345809, 14.66142462, 17.69611412, 21.63520846, 26.09821512,\n",
       "       31.06227329, 36.33170268, 41.32474936, 46.06545351, 50.02452717,\n",
       "       53.15282073, 55.34180776, 56.6524795 , 57.24132819, 57.02741584,\n",
       "       56.10805541, 54.35866968, 51.67109289, 48.36190298, 43.84507408,\n",
       "       38.92013602, 33.65557989, 28.60090301, 23.78988488, 19.60161887,\n",
       "       16.08637564, 13.26730982, 11.25605134,  9.84840325,  9.07224231,\n",
       "        8.51937558,  8.68036499,  9.29905756, 10.28630466, 12.00732166,\n",
       "       14.2729918 , 17.24685149, 20.87413676, 25.41843488, 30.27171373,\n",
       "       35.50191945, 40.55443265, 45.30999121, 49.41728474, 52.69728126,\n",
       "       54.97466321, 56.46804134, 57.05971807, 57.07300004, 56.1888143 ,\n",
       "       54.47379954, 52.10881142, 48.67960231, 44.42918272, 39.52883615,\n",
       "       34.35148364, 29.10903853, 24.3824675 , 20.04847314, 16.57164217,\n",
       "       13.68300486, 11.53846152, 10.12012693,  9.04452984,  8.67320532,\n",
       "        8.68672437,  9.20346447, 10.1555138 , 11.70611056, 13.96089287,\n",
       "       16.84714474, 20.47725909, 24.79753481, 29.70348994, 34.90142754,\n",
       "       39.98681096, 44.81200499, 48.90438381, 52.26535985, 54.77525885,\n",
       "       56.41808782, 57.18840099, 57.18660561, 56.50268736, 54.85901236,\n",
       "       52.54836374, 49.14773991, 45.03895387, 40.42669704, 35.31148192,\n",
       "       30.05552311, 25.14594624, 20.78215053, 17.07174086, 14.09901208,\n",
       "       11.82345176, 10.2624396 ,  9.14913123,  8.60805375,  8.56121587,\n",
       "        8.93012967,  9.87100518, 11.4779676 , 13.34374198, 16.18564421,\n",
       "       19.81243517, 24.06693225, 28.83772989, 34.00619853, 39.18148976,\n",
       "       44.09997028, 48.3489666 , 51.87919589, 54.46561859, 56.0986512 ,\n",
       "       56.98217833, 57.16767018, 56.49381132, 55.16673075, 52.8588716 ,\n",
       "       49.7095356 , 45.69081101, 40.90887007, 35.76579134, 30.68607487,\n",
       "       25.67628226, 21.16325407, 17.42719212, 14.30520661, 12.05054069,\n",
       "       10.37460407,  9.24421112,  8.71724694,  8.60167946,  8.8441604 ,\n",
       "        9.76622862, 11.13588122, 13.25388439, 15.81776415, 19.25382602,\n",
       "       23.38745419, 28.12603619, 33.31544642, 38.46666492, 43.40293003,\n",
       "       47.810344  , 51.41763704, 54.20426097, 55.97119816, 56.92717007,\n",
       "       57.16683354, 56.65727918, 55.47670752, 53.21017687, 50.19340003,\n",
       "       46.28583761, 41.6830132 , 36.56898906, 31.382444  , 26.33858181])"
      ]
     },
     "execution_count": 17,
     "metadata": {},
     "output_type": "execute_result"
    }
   ],
   "source": [
    "actions"
   ]
  },
  {
   "cell_type": "code",
   "execution_count": 13,
   "metadata": {},
   "outputs": [
    {
     "data": {
      "image/png": "[encoded data removed]",
      "text/plain": [
       "<Figure size 432x288 with 1 Axes>"
      ]
     },
     "metadata": {
      "needs_background": "light"
     },
     "output_type": "display_data"
    }
   ],
   "source": [
    "plt.plot(actions)\n",
    "plt.show()"
   ]
  },
  {
   "cell_type": "code",
   "execution_count": 38,
   "metadata": {},
   "outputs": [
    {
     "data": {
      "text/plain": [
       "(10, 0.1)"
      ]
     },
     "execution_count": 38,
     "metadata": {},
     "output_type": "execute_result"
    }
   ],
   "source": [
    "10, np.clip(10, -0.1, 0.1)"
   ]
  },
  {
   "cell_type": "code",
   "execution_count": 39,
   "metadata": {},
   "outputs": [
    {
     "data": {
      "text/plain": [
       "2.041467304625201"
      ]
     },
     "execution_count": 39,
     "metadata": {},
     "output_type": "execute_result"
    }
   ],
   "source": [
    "env.Q*1/env.d/env.m"
   ]
  },
  {
   "cell_type": "code",
   "execution_count": 60,
   "metadata": {},
   "outputs": [
    {
     "data": {
      "text/plain": [
       "-8.293633048026862"
      ]
     },
     "execution_count": 60,
     "metadata": {},
     "output_type": "execute_result"
    }
   ],
   "source": [
    "env.white_noise()/env.m"
   ]
  },
  {
   "cell_type": "code",
   "execution_count": 61,
   "metadata": {},
   "outputs": [
    {
     "data": {
      "image/png": "[encoded data removed]",
      "text/plain": [
       "<Figure size 432x288 with 1 Axes>"
      ]
     },
     "metadata": {
      "needs_background": "light"
     },
     "output_type": "display_data"
    }
   ],
   "source": [
    "plt.plot(states[:,1])\n",
    "plt.show()"
   ]
  },
  {
   "cell_type": "code",
   "execution_count": 62,
   "metadata": {},
   "outputs": [
    {
     "data": {
      "image/png": "[encoded data removed]",
      "text/plain": [
       "<Figure size 432x288 with 1 Axes>"
      ]
     },
     "metadata": {
      "needs_background": "light"
     },
     "output_type": "display_data"
    }
   ],
   "source": [
    "plt.plot(states[:,0])\n",
    "plt.show()"
   ]
  },
  {
   "cell_type": "code",
   "execution_count": null,
   "metadata": {},
   "outputs": [],
   "source": []
  },
  {
   "cell_type": "code",
   "execution_count": 43,
   "metadata": {},
   "outputs": [
    {
     "ename": "NameError",
     "evalue": "name 'rewards' is not defined",
     "output_type": "error",
     "traceback": [
      "\u001b[0;31m---------------------------------------------------------------------------\u001b[0m",
      "\u001b[0;31mNameError\u001b[0m                                 Traceback (most recent call last)",
      "\u001b[0;32m<ipython-input-43-b976234eb196>\u001b[0m in \u001b[0;36m<module>\u001b[0;34m\u001b[0m\n\u001b[1;32m      2\u001b[0m \u001b[0mplt\u001b[0m\u001b[0;34m.\u001b[0m\u001b[0mfigure\u001b[0m\u001b[0;34m(\u001b[0m\u001b[0mfigsize\u001b[0m\u001b[0;34m=\u001b[0m\u001b[0;34m(\u001b[0m\u001b[0;36m15\u001b[0m\u001b[0;34m,\u001b[0m\u001b[0;36m4\u001b[0m\u001b[0;34m)\u001b[0m\u001b[0;34m)\u001b[0m\u001b[0;34m\u001b[0m\u001b[0;34m\u001b[0m\u001b[0m\n\u001b[1;32m      3\u001b[0m \u001b[0;31m#Picking only the first 100 points to have a similar graphic to the one on ex4.pdf\u001b[0m\u001b[0;34m\u001b[0m\u001b[0;34m\u001b[0m\u001b[0;34m\u001b[0m\u001b[0m\n\u001b[0;32m----> 4\u001b[0;31m \u001b[0mplt\u001b[0m\u001b[0;34m.\u001b[0m\u001b[0mplot\u001b[0m\u001b[0;34m(\u001b[0m\u001b[0mrewards\u001b[0m\u001b[0;34m[\u001b[0m\u001b[0;34m:\u001b[0m\u001b[0;36m100\u001b[0m\u001b[0;34m]\u001b[0m\u001b[0;34m,\u001b[0m \u001b[0mlinewidth\u001b[0m\u001b[0;34m=\u001b[0m\u001b[0;36m2.5\u001b[0m\u001b[0;34m)\u001b[0m\u001b[0;34m\u001b[0m\u001b[0;34m\u001b[0m\u001b[0m\n\u001b[0m\u001b[1;32m      5\u001b[0m \u001b[0mplt\u001b[0m\u001b[0;34m.\u001b[0m\u001b[0mtitle\u001b[0m\u001b[0;34m(\u001b[0m\u001b[0;34m\"Reward during simulation State Value Action Critic\"\u001b[0m\u001b[0;34m)\u001b[0m\u001b[0;34m\u001b[0m\u001b[0;34m\u001b[0m\u001b[0m\n\u001b[1;32m      6\u001b[0m \u001b[0mplt\u001b[0m\u001b[0;34m.\u001b[0m\u001b[0mxlabel\u001b[0m\u001b[0;34m(\u001b[0m\u001b[0;34m\"Episode\"\u001b[0m\u001b[0;34m)\u001b[0m\u001b[0;34m\u001b[0m\u001b[0;34m\u001b[0m\u001b[0m\n",
      "\u001b[0;31mNameError\u001b[0m: name 'rewards' is not defined"
     ]
    },
    {
     "data": {
      "text/plain": [
       "<Figure size 1080x288 with 0 Axes>"
      ]
     },
     "metadata": {},
     "output_type": "display_data"
    }
   ],
   "source": [
    "import matplotlib.pyplot as plt\n",
    "plt.figure(figsize=(15,4))\n",
    "#Picking only the first 100 points to have a similar graphic to the one on ex4.pdf\n",
    "plt.plot(rewards[:100], linewidth=2.5)\n",
    "plt.title(\"Reward during simulation State Value Action Critic\")\n",
    "plt.xlabel(\"Episode\")\n",
    "plt.ylabel(\"Reward\")\n",
    "plt.show()"
   ]
  },
  {
   "cell_type": "markdown",
   "metadata": {},
   "source": [
    "### Exercise 2.4 \n",
    "\n",
    "Measure the performance in three ways:\n",
    "\n",
    "* rise time: how many episodes does it take for the learning to converge? Use the point at which the episode reward is consistently above -500.\n",
    "* end performance: the reward obtained after training. Use a separate run of 100 episodes where exploration and learning is disabled, and average the episode rewards.\n",
    "* computation time: how long it took to train 100 episodes. Use time.time().\n",
    "\n",
    "Run the training a few times and average the results to get statistically meaninful information.\n",
    "\n",
    "#### Answer\n",
    "\n",
    "Implementation in the cells bellow"
   ]
  },
  {
   "cell_type": "code",
   "execution_count": 50,
   "metadata": {},
   "outputs": [],
   "source": [
    "# Creating function to act on the system with no learning and exploration.\n",
    "\n",
    "def end_perf_state_value_action_critic(env, \n",
    "                                       theta,\n",
    "                                       episodes=200, \n",
    "                                       steps=1000, \n",
    "                                       render_step=0):\n",
    "    s = env.reset()\n",
    "    # Create feature as a rbfprojector\n",
    "    feature = rbfprojector(21, 0.25)\n",
    "    rewards = []\n",
    "    for e in tqdm(range(episodes)):\n",
    "        s = env.reset()\n",
    "        total_r = 0\n",
    "        for t in range(steps):\n",
    "            # Compute phi_s and pi_s_theta\n",
    "            phi_s = feature(s)\n",
    "            pi_s_theta = np.dot(theta, phi_s)\n",
    "            # Take an action and apply to the system\n",
    "            a = pi_s_theta\n",
    "            sP, r, done, _ = env.step(a)\n",
    "            total_r+=r\n",
    "            if render_step and not t%render_step:\n",
    "                env.render()\n",
    "            if done:\n",
    "                break\n",
    "            s = sP\n",
    "        rewards.append(total_r) \n",
    "    return np.array(rewards) "
   ]
  },
  {
   "cell_type": "code",
   "execution_count": 62,
   "metadata": {},
   "outputs": [
    {
     "name": "stderr",
     "output_type": "stream",
     "text": [
      "100%|██████████| 200/200 [00:10<00:00, 19.98it/s]\n"
     ]
    }
   ],
   "source": [
    "rewards = end_perf_state_value_action_critic(Pendulum(), theta)"
   ]
  },
  {
   "cell_type": "code",
   "execution_count": 131,
   "metadata": {},
   "outputs": [
    {
     "name": "stderr",
     "output_type": "stream",
     "text": [
      "100%|██████████| 100/100 [00:08<00:00, 11.51it/s]\n",
      "100%|██████████| 100/100 [00:04<00:00, 21.13it/s]\n",
      "100%|██████████| 100/100 [00:08<00:00, 12.39it/s]\n",
      "100%|██████████| 100/100 [00:05<00:00, 19.47it/s]\n",
      "100%|██████████| 100/100 [00:08<00:00, 11.33it/s]\n",
      "100%|██████████| 100/100 [00:04<00:00, 20.63it/s]\n",
      "100%|██████████| 100/100 [00:08<00:00, 12.00it/s]\n",
      "100%|██████████| 100/100 [00:04<00:00, 21.89it/s]\n",
      "100%|██████████| 100/100 [00:07<00:00, 12.59it/s]\n",
      "100%|██████████| 100/100 [00:04<00:00, 22.10it/s]\n"
     ]
    }
   ],
   "source": [
    "# Running 5 different tests on the algorithm to evaluate the metrics\n",
    "\n",
    "num_tests = 5\n",
    "environment = Pendulum()\n",
    "perfs, trains, training_time = [], [], []\n",
    "for i in range(num_tests):\n",
    "    theta, w, train_reward, time_consumption = state_value_action_critic(environment, plot=False)\n",
    "    perf_reward = end_perf_state_value_action_critic(environment, theta )\n",
    "    trains.append(train_reward)\n",
    "    perfs.append(perf_reward)\n",
    "    training_time.append(time_consumption)"
   ]
  },
  {
   "cell_type": "code",
   "execution_count": 133,
   "metadata": {},
   "outputs": [
    {
     "data": {
      "text/plain": [
       "(16.666666666666668, 12.0, 8.055363982396383)"
      ]
     },
     "execution_count": 133,
     "metadata": {},
     "output_type": "execute_result"
    }
   ],
   "source": [
    "number_episodes = np.array(list(map(lambda x: np.argwhere(x>-500)[3,0], trains)))\n",
    "number_episodes.mean(), np.median(number_episodes), number_episodes.std()"
   ]
  },
  {
   "cell_type": "code",
   "execution_count": 134,
   "metadata": {},
   "outputs": [
    {
     "data": {
      "text/plain": [
       "(-210.6968780089007, -226.98652554165182, 146.8189717158916)"
      ]
     },
     "execution_count": 134,
     "metadata": {},
     "output_type": "execute_result"
    }
   ],
   "source": [
    "end_performances = np.array(list(map(lambda x: x.mean(), perf_reward)))\n",
    "end_performances.mean(), np.median(end_performances), end_performances.std()"
   ]
  },
  {
   "cell_type": "code",
   "execution_count": 135,
   "metadata": {},
   "outputs": [
    {
     "data": {
      "text/plain": [
       "(8.37503080368042, 8.336115837097168, 0.3397824343631149)"
      ]
     },
     "execution_count": 135,
     "metadata": {},
     "output_type": "execute_result"
    }
   ],
   "source": [
    "training_time = np.array(training_time)\n",
    "training_time.mean(), np.median(training_time), training_time.std()"
   ]
  },
  {
   "cell_type": "markdown",
   "metadata": {},
   "source": [
    "#### Results\n",
    "\n",
    "  | Metric | Mean Value | Median Value | Standard Deviation |\n",
    "   |---|---|---|---|\n",
    "   | Rise Time |  16.666| 12| 8.055|\n",
    "   | End Performance| -210.6968 | -266.986 | 146.818 | \n",
    "   | Computation Time (s)| 8.3750 | 8.336 | 0.3397|"
   ]
  },
  {
   "cell_type": "markdown",
   "metadata": {},
   "source": [
    "## 3. Deep Deterministic Policy Gradient\n",
    "\n",
    "Now we move to a nonlinear representation, with the required stabilization mechanisms (replay memory, target network). The Deep Deterministic Policy Gradient algorithm estimates the value function (critic) in the same way as Deep Q learning you implemented in Exercise 3, but additionally trains a policy (actor) using the gradient\n",
    "\n",
    "$∇\\theta J_r(\\theta)= E_{\\pi \\theta} \\{\\nabla_\\theta Q^{\\pi\\theta} (s,\\pi(s;\\theta))\\}$\n",
    "\n",
    "that is, moving the policy parameters such that they maximize the $Q$ function."
   ]
  },
  {
   "cell_type": "markdown",
   "metadata": {},
   "source": [
    "### Exercise 3.1.\n",
    "\n",
    "Implement DDPG. Use `DDPG.critic` to read the value function and `DDPG.actor` to read the policy. Note that the DDPG.train function already handles the training of the actor using the gradient in Equation 1. Update the target network every $200$ steps. \n",
    "\n",
    "Note that the actor network’s output is limited to $[−1, 1]$, while the pen- dulum’s actions are in the range [−2,2]. To make sure the results are comparable, multiply the actor’s value by $2$ before passing it to `env.step`, and halve the noise.\n",
    "\n",
    "After training, plot the learning curve and approximators. For the latter, use `env.plotnetwork(ddpg)`. The results should be similar to Figure 3.\n",
    "\n",
    "#### Answer:\n",
    "\n",
    "Implementation in the cells below."
   ]
  },
  {
   "cell_type": "code",
   "execution_count": 52,
   "metadata": {},
   "outputs": [],
   "source": [
    "def ddpg_loop(env, \n",
    "              sigma=1, \n",
    "              gamma=0.99,\n",
    "              episodes=200, \n",
    "              steps=1000, \n",
    "              render_step=0,\n",
    "              memory_len_min=1000,\n",
    "              batch_size=256,\n",
    "              train_step_amount=200,\n",
    "              rate=0.99,\n",
    "              plot=True):\n",
    "    # Reset enviroment to get a state\n",
    "    s = env.reset()\n",
    "    # Use the state to instatiate DDPG for base and target networks, and also for memory\n",
    "    ddpg = DDPG(s.shape[0])\n",
    "    target_net = DDPG(s.shape[0])\n",
    "    memory = Memory(s.shape[0], 1)\n",
    "    rewards = []\n",
    "    train_steps = 0\n",
    "    start = time()\n",
    "    for e in tqdm(range(episodes)):\n",
    "        s = env.reset()\n",
    "        total_r = 0\n",
    "        for t in range(steps):\n",
    "            # Add to train_step incremetor for target_network to get weights from ddpg\n",
    "            train_steps+=1\n",
    "            # Take action using ddpg.actor as mean and use half sigma for noise \n",
    "            a = np.random.normal(ddpg.actor(s), 0.5*sigma)\n",
    "            # Multiply action by 2 since output of the network is limited\n",
    "            sP, r, done, _, info = env.step(2*a)\n",
    "            # Add info to memory\n",
    "            memory.add(s, a, r, sP.reshape((sP.shape[0])), done)\n",
    "            total_r+=r\n",
    "            # If at least 1000 transitions in memory, sample the memory\n",
    "            if memory.__len__() > memory_len_min:\n",
    "                s_mem, a_mem, r_mem, sP_mem, done_mem = memory.sample(batch_size)\n",
    "                # Compute target using target network\n",
    "                y = r_mem + gamma*target_net.critic(sP_mem, a_mem) * abs(done_mem - 1)\n",
    "                ddpg.train(s_mem, a_mem, y)\n",
    "                # After a certain number of timesteps, copy weights to target network\n",
    "                if (train_steps >= train_step_amount):\n",
    "                    target_net <<= ddpg\n",
    "                    train_steps = 0\n",
    "            if done:\n",
    "                break\n",
    "            s = sP\n",
    "        rewards.append(total_r) \n",
    "        sigma = sigma*rate\n",
    "    end = time()\n",
    "    env.close()\n",
    "    return ddpg, rewards, end-start"
   ]
  },
  {
   "cell_type": "code",
   "execution_count": 53,
   "metadata": {},
   "outputs": [
    {
     "name": "stderr",
     "output_type": "stream",
     "text": [
      "  0%|          | 0/200 [00:00<?, ?it/s]\n"
     ]
    },
    {
     "ename": "ValueError",
     "evalue": "in user code:\n\n    /home/oscar.kremer/miniconda3/envs/deep-tweezer/lib/python3.6/site-packages/keras/engine/training.py:1586 predict_function  *\n        return step_function(self, iterator)\n    /home/oscar.kremer/miniconda3/envs/deep-tweezer/lib/python3.6/site-packages/keras/engine/training.py:1576 step_function  **\n        outputs = model.distribute_strategy.run(run_step, args=(data,))\n    /home/oscar.kremer/miniconda3/envs/deep-tweezer/lib/python3.6/site-packages/tensorflow/python/distribute/distribute_lib.py:1286 run\n        return self._extended.call_for_each_replica(fn, args=args, kwargs=kwargs)\n    /home/oscar.kremer/miniconda3/envs/deep-tweezer/lib/python3.6/site-packages/tensorflow/python/distribute/distribute_lib.py:2849 call_for_each_replica\n        return self._call_for_each_replica(fn, args, kwargs)\n    /home/oscar.kremer/miniconda3/envs/deep-tweezer/lib/python3.6/site-packages/tensorflow/python/distribute/distribute_lib.py:3632 _call_for_each_replica\n        return fn(*args, **kwargs)\n    /home/oscar.kremer/miniconda3/envs/deep-tweezer/lib/python3.6/site-packages/keras/engine/training.py:1569 run_step  **\n        outputs = model.predict_step(data)\n    /home/oscar.kremer/miniconda3/envs/deep-tweezer/lib/python3.6/site-packages/keras/engine/training.py:1537 predict_step\n        return self(x, training=False)\n    /home/oscar.kremer/miniconda3/envs/deep-tweezer/lib/python3.6/site-packages/keras/engine/base_layer.py:1037 __call__\n        outputs = call_fn(inputs, *args, **kwargs)\n    /home/oscar.kremer/miniconda3/envs/deep-tweezer/lib/python3.6/site-packages/keras/engine/functional.py:415 call\n        inputs, training=training, mask=mask)\n    /home/oscar.kremer/miniconda3/envs/deep-tweezer/lib/python3.6/site-packages/keras/engine/functional.py:550 _run_internal_graph\n        outputs = node.layer(*args, **kwargs)\n    /home/oscar.kremer/miniconda3/envs/deep-tweezer/lib/python3.6/site-packages/keras/engine/base_layer.py:1020 __call__\n        input_spec.assert_input_compatibility(self.input_spec, inputs, self.name)\n    /home/oscar.kremer/miniconda3/envs/deep-tweezer/lib/python3.6/site-packages/keras/engine/input_spec.py:254 assert_input_compatibility\n        ' but received input with shape ' + display_shape(x.shape))\n\n    ValueError: Input 0 of layer dense_48 is incompatible with the layer: expected axis -1 of input shape to have value 2 but received input with shape (2, 1)\n",
     "output_type": "error",
     "traceback": [
      "\u001b[0;31m---------------------------------------------------------------------------\u001b[0m",
      "\u001b[0;31mValueError\u001b[0m                                Traceback (most recent call last)",
      "\u001b[0;32m<ipython-input-53-4a723402d63e>\u001b[0m in \u001b[0;36m<module>\u001b[0;34m\u001b[0m\n\u001b[0;32m----> 1\u001b[0;31m \u001b[0mrewards\u001b[0m\u001b[0;34m,\u001b[0m \u001b[0mddpg\u001b[0m\u001b[0;34m,\u001b[0m \u001b[0m_\u001b[0m \u001b[0;34m=\u001b[0m \u001b[0mddpg_loop\u001b[0m\u001b[0;34m(\u001b[0m\u001b[0mTweezer\u001b[0m\u001b[0;34m(\u001b[0m\u001b[0;34m)\u001b[0m\u001b[0;34m)\u001b[0m\u001b[0;34m\u001b[0m\u001b[0;34m\u001b[0m\u001b[0m\n\u001b[0m",
      "\u001b[0;32m<ipython-input-52-3e351641e4f4>\u001b[0m in \u001b[0;36mddpg_loop\u001b[0;34m(env, sigma, gamma, episodes, steps, render_step, memory_len_min, batch_size, train_step_amount, rate, plot)\u001b[0m\n\u001b[1;32m     26\u001b[0m             \u001b[0mtrain_steps\u001b[0m\u001b[0;34m+=\u001b[0m\u001b[0;36m1\u001b[0m\u001b[0;34m\u001b[0m\u001b[0;34m\u001b[0m\u001b[0m\n\u001b[1;32m     27\u001b[0m             \u001b[0;31m# Take action using ddpg.actor as mean and use half sigma for noise\u001b[0m\u001b[0;34m\u001b[0m\u001b[0;34m\u001b[0m\u001b[0;34m\u001b[0m\u001b[0m\n\u001b[0;32m---> 28\u001b[0;31m             \u001b[0ma\u001b[0m \u001b[0;34m=\u001b[0m \u001b[0mnp\u001b[0m\u001b[0;34m.\u001b[0m\u001b[0mrandom\u001b[0m\u001b[0;34m.\u001b[0m\u001b[0mnormal\u001b[0m\u001b[0;34m(\u001b[0m\u001b[0mddpg\u001b[0m\u001b[0;34m.\u001b[0m\u001b[0mactor\u001b[0m\u001b[0;34m(\u001b[0m\u001b[0ms\u001b[0m\u001b[0;34m)\u001b[0m\u001b[0;34m,\u001b[0m \u001b[0;36m0.5\u001b[0m\u001b[0;34m*\u001b[0m\u001b[0msigma\u001b[0m\u001b[0;34m)\u001b[0m\u001b[0;34m\u001b[0m\u001b[0;34m\u001b[0m\u001b[0m\n\u001b[0m\u001b[1;32m     29\u001b[0m             \u001b[0;31m# Multiply action by 2 since output of the network is limited\u001b[0m\u001b[0;34m\u001b[0m\u001b[0;34m\u001b[0m\u001b[0;34m\u001b[0m\u001b[0m\n\u001b[1;32m     30\u001b[0m             \u001b[0msP\u001b[0m\u001b[0;34m,\u001b[0m \u001b[0mr\u001b[0m\u001b[0;34m,\u001b[0m \u001b[0mdone\u001b[0m\u001b[0;34m,\u001b[0m \u001b[0m_\u001b[0m\u001b[0;34m,\u001b[0m \u001b[0minfo\u001b[0m \u001b[0;34m=\u001b[0m \u001b[0menv\u001b[0m\u001b[0;34m.\u001b[0m\u001b[0mstep\u001b[0m\u001b[0;34m(\u001b[0m\u001b[0;36m2\u001b[0m\u001b[0;34m*\u001b[0m\u001b[0ma\u001b[0m\u001b[0;34m)\u001b[0m\u001b[0;34m\u001b[0m\u001b[0;34m\u001b[0m\u001b[0m\n",
      "\u001b[0;32m~/deep-tweezer/src/models/DDPG.py\u001b[0m in \u001b[0;36mactor\u001b[0;34m(self, s)\u001b[0m\n\u001b[1;32m    200\u001b[0m \u001b[0;34m\u001b[0m\u001b[0m\n\u001b[1;32m    201\u001b[0m         \u001b[0ms\u001b[0m \u001b[0;34m=\u001b[0m \u001b[0mtf\u001b[0m\u001b[0;34m.\u001b[0m\u001b[0mconvert_to_tensor\u001b[0m\u001b[0;34m(\u001b[0m\u001b[0mnp\u001b[0m\u001b[0;34m.\u001b[0m\u001b[0matleast_2d\u001b[0m\u001b[0;34m(\u001b[0m\u001b[0ms\u001b[0m\u001b[0;34m)\u001b[0m\u001b[0;34m,\u001b[0m \u001b[0mdtype\u001b[0m\u001b[0;34m=\u001b[0m\u001b[0mtf\u001b[0m\u001b[0;34m.\u001b[0m\u001b[0mfloat32\u001b[0m\u001b[0;34m)\u001b[0m\u001b[0;34m\u001b[0m\u001b[0;34m\u001b[0m\u001b[0m\n\u001b[0;32m--> 202\u001b[0;31m         \u001b[0mout\u001b[0m \u001b[0;34m=\u001b[0m \u001b[0mself\u001b[0m\u001b[0;34m.\u001b[0m\u001b[0m__actor\u001b[0m\u001b[0;34m.\u001b[0m\u001b[0mpredict_on_batch\u001b[0m\u001b[0;34m(\u001b[0m\u001b[0ms\u001b[0m\u001b[0;34m)\u001b[0m\u001b[0;34m\u001b[0m\u001b[0;34m\u001b[0m\u001b[0m\n\u001b[0m\u001b[1;32m    203\u001b[0m \u001b[0;34m\u001b[0m\u001b[0m\n\u001b[1;32m    204\u001b[0m         \u001b[0;32mif\u001b[0m \u001b[0msqueeze\u001b[0m\u001b[0;34m:\u001b[0m\u001b[0;34m\u001b[0m\u001b[0;34m\u001b[0m\u001b[0m\n",
      "\u001b[0;32m~/miniconda3/envs/deep-tweezer/lib/python3.6/site-packages/keras/engine/training.py\u001b[0m in \u001b[0;36mpredict_on_batch\u001b[0;34m(self, x)\u001b[0m\n\u001b[1;32m   1945\u001b[0m       \u001b[0miterator\u001b[0m \u001b[0;34m=\u001b[0m \u001b[0mdata_adapter\u001b[0m\u001b[0;34m.\u001b[0m\u001b[0msingle_batch_iterator\u001b[0m\u001b[0;34m(\u001b[0m\u001b[0mself\u001b[0m\u001b[0;34m.\u001b[0m\u001b[0mdistribute_strategy\u001b[0m\u001b[0;34m,\u001b[0m \u001b[0mx\u001b[0m\u001b[0;34m)\u001b[0m\u001b[0;34m\u001b[0m\u001b[0;34m\u001b[0m\u001b[0m\n\u001b[1;32m   1946\u001b[0m       \u001b[0mself\u001b[0m\u001b[0;34m.\u001b[0m\u001b[0mpredict_function\u001b[0m \u001b[0;34m=\u001b[0m \u001b[0mself\u001b[0m\u001b[0;34m.\u001b[0m\u001b[0mmake_predict_function\u001b[0m\u001b[0;34m(\u001b[0m\u001b[0;34m)\u001b[0m\u001b[0;34m\u001b[0m\u001b[0;34m\u001b[0m\u001b[0m\n\u001b[0;32m-> 1947\u001b[0;31m       \u001b[0moutputs\u001b[0m \u001b[0;34m=\u001b[0m \u001b[0mself\u001b[0m\u001b[0;34m.\u001b[0m\u001b[0mpredict_function\u001b[0m\u001b[0;34m(\u001b[0m\u001b[0miterator\u001b[0m\u001b[0;34m)\u001b[0m\u001b[0;34m\u001b[0m\u001b[0;34m\u001b[0m\u001b[0m\n\u001b[0m\u001b[1;32m   1948\u001b[0m     \u001b[0;32mreturn\u001b[0m \u001b[0mtf_utils\u001b[0m\u001b[0;34m.\u001b[0m\u001b[0msync_to_numpy_or_python_type\u001b[0m\u001b[0;34m(\u001b[0m\u001b[0moutputs\u001b[0m\u001b[0;34m)\u001b[0m\u001b[0;34m\u001b[0m\u001b[0;34m\u001b[0m\u001b[0m\n\u001b[1;32m   1949\u001b[0m \u001b[0;34m\u001b[0m\u001b[0m\n",
      "\u001b[0;32m~/miniconda3/envs/deep-tweezer/lib/python3.6/site-packages/tensorflow/python/eager/def_function.py\u001b[0m in \u001b[0;36m__call__\u001b[0;34m(self, *args, **kwds)\u001b[0m\n\u001b[1;32m    883\u001b[0m \u001b[0;34m\u001b[0m\u001b[0m\n\u001b[1;32m    884\u001b[0m       \u001b[0;32mwith\u001b[0m \u001b[0mOptionalXlaContext\u001b[0m\u001b[0;34m(\u001b[0m\u001b[0mself\u001b[0m\u001b[0;34m.\u001b[0m\u001b[0m_jit_compile\u001b[0m\u001b[0;34m)\u001b[0m\u001b[0;34m:\u001b[0m\u001b[0;34m\u001b[0m\u001b[0;34m\u001b[0m\u001b[0m\n\u001b[0;32m--> 885\u001b[0;31m         \u001b[0mresult\u001b[0m \u001b[0;34m=\u001b[0m \u001b[0mself\u001b[0m\u001b[0;34m.\u001b[0m\u001b[0m_call\u001b[0m\u001b[0;34m(\u001b[0m\u001b[0;34m*\u001b[0m\u001b[0margs\u001b[0m\u001b[0;34m,\u001b[0m \u001b[0;34m**\u001b[0m\u001b[0mkwds\u001b[0m\u001b[0;34m)\u001b[0m\u001b[0;34m\u001b[0m\u001b[0;34m\u001b[0m\u001b[0m\n\u001b[0m\u001b[1;32m    886\u001b[0m \u001b[0;34m\u001b[0m\u001b[0m\n\u001b[1;32m    887\u001b[0m       \u001b[0mnew_tracing_count\u001b[0m \u001b[0;34m=\u001b[0m \u001b[0mself\u001b[0m\u001b[0;34m.\u001b[0m\u001b[0mexperimental_get_tracing_count\u001b[0m\u001b[0;34m(\u001b[0m\u001b[0;34m)\u001b[0m\u001b[0;34m\u001b[0m\u001b[0;34m\u001b[0m\u001b[0m\n",
      "\u001b[0;32m~/miniconda3/envs/deep-tweezer/lib/python3.6/site-packages/tensorflow/python/eager/def_function.py\u001b[0m in \u001b[0;36m_call\u001b[0;34m(self, *args, **kwds)\u001b[0m\n\u001b[1;32m    922\u001b[0m       \u001b[0;31m# In this case we have not created variables on the first call. So we can\u001b[0m\u001b[0;34m\u001b[0m\u001b[0;34m\u001b[0m\u001b[0;34m\u001b[0m\u001b[0m\n\u001b[1;32m    923\u001b[0m       \u001b[0;31m# run the first trace but we should fail if variables are created.\u001b[0m\u001b[0;34m\u001b[0m\u001b[0;34m\u001b[0m\u001b[0;34m\u001b[0m\u001b[0m\n\u001b[0;32m--> 924\u001b[0;31m       \u001b[0mresults\u001b[0m \u001b[0;34m=\u001b[0m \u001b[0mself\u001b[0m\u001b[0;34m.\u001b[0m\u001b[0m_stateful_fn\u001b[0m\u001b[0;34m(\u001b[0m\u001b[0;34m*\u001b[0m\u001b[0margs\u001b[0m\u001b[0;34m,\u001b[0m \u001b[0;34m**\u001b[0m\u001b[0mkwds\u001b[0m\u001b[0;34m)\u001b[0m\u001b[0;34m\u001b[0m\u001b[0;34m\u001b[0m\u001b[0m\n\u001b[0m\u001b[1;32m    925\u001b[0m       \u001b[0;32mif\u001b[0m \u001b[0mself\u001b[0m\u001b[0;34m.\u001b[0m\u001b[0m_created_variables\u001b[0m \u001b[0;32mand\u001b[0m \u001b[0;32mnot\u001b[0m \u001b[0mALLOW_DYNAMIC_VARIABLE_CREATION\u001b[0m\u001b[0;34m:\u001b[0m\u001b[0;34m\u001b[0m\u001b[0;34m\u001b[0m\u001b[0m\n\u001b[1;32m    926\u001b[0m         raise ValueError(\"Creating variables on a non-first call to a function\"\n",
      "\u001b[0;32m~/miniconda3/envs/deep-tweezer/lib/python3.6/site-packages/tensorflow/python/eager/function.py\u001b[0m in \u001b[0;36m__call__\u001b[0;34m(self, *args, **kwargs)\u001b[0m\n\u001b[1;32m   3036\u001b[0m     \u001b[0;32mwith\u001b[0m \u001b[0mself\u001b[0m\u001b[0;34m.\u001b[0m\u001b[0m_lock\u001b[0m\u001b[0;34m:\u001b[0m\u001b[0;34m\u001b[0m\u001b[0;34m\u001b[0m\u001b[0m\n\u001b[1;32m   3037\u001b[0m       (graph_function,\n\u001b[0;32m-> 3038\u001b[0;31m        filtered_flat_args) = self._maybe_define_function(args, kwargs)\n\u001b[0m\u001b[1;32m   3039\u001b[0m     return graph_function._call_flat(\n\u001b[1;32m   3040\u001b[0m         filtered_flat_args, captured_inputs=graph_function.captured_inputs)  # pylint: disable=protected-access\n",
      "\u001b[0;32m~/miniconda3/envs/deep-tweezer/lib/python3.6/site-packages/tensorflow/python/eager/function.py\u001b[0m in \u001b[0;36m_maybe_define_function\u001b[0;34m(self, args, kwargs)\u001b[0m\n\u001b[1;32m   3458\u001b[0m               call_context_key in self._function_cache.missed):\n\u001b[1;32m   3459\u001b[0m             return self._define_function_with_shape_relaxation(\n\u001b[0;32m-> 3460\u001b[0;31m                 args, kwargs, flat_args, filtered_flat_args, cache_key_context)\n\u001b[0m\u001b[1;32m   3461\u001b[0m \u001b[0;34m\u001b[0m\u001b[0m\n\u001b[1;32m   3462\u001b[0m           \u001b[0mself\u001b[0m\u001b[0;34m.\u001b[0m\u001b[0m_function_cache\u001b[0m\u001b[0;34m.\u001b[0m\u001b[0mmissed\u001b[0m\u001b[0;34m.\u001b[0m\u001b[0madd\u001b[0m\u001b[0;34m(\u001b[0m\u001b[0mcall_context_key\u001b[0m\u001b[0;34m)\u001b[0m\u001b[0;34m\u001b[0m\u001b[0;34m\u001b[0m\u001b[0m\n",
      "\u001b[0;32m~/miniconda3/envs/deep-tweezer/lib/python3.6/site-packages/tensorflow/python/eager/function.py\u001b[0m in \u001b[0;36m_define_function_with_shape_relaxation\u001b[0;34m(self, args, kwargs, flat_args, filtered_flat_args, cache_key_context)\u001b[0m\n\u001b[1;32m   3380\u001b[0m \u001b[0;34m\u001b[0m\u001b[0m\n\u001b[1;32m   3381\u001b[0m     graph_function = self._create_graph_function(\n\u001b[0;32m-> 3382\u001b[0;31m         args, kwargs, override_flat_arg_shapes=relaxed_arg_shapes)\n\u001b[0m\u001b[1;32m   3383\u001b[0m     \u001b[0mself\u001b[0m\u001b[0;34m.\u001b[0m\u001b[0m_function_cache\u001b[0m\u001b[0;34m.\u001b[0m\u001b[0marg_relaxed\u001b[0m\u001b[0;34m[\u001b[0m\u001b[0mrank_only_cache_key\u001b[0m\u001b[0;34m]\u001b[0m \u001b[0;34m=\u001b[0m \u001b[0mgraph_function\u001b[0m\u001b[0;34m\u001b[0m\u001b[0;34m\u001b[0m\u001b[0m\n\u001b[1;32m   3384\u001b[0m \u001b[0;34m\u001b[0m\u001b[0m\n",
      "\u001b[0;32m~/miniconda3/envs/deep-tweezer/lib/python3.6/site-packages/tensorflow/python/eager/function.py\u001b[0m in \u001b[0;36m_create_graph_function\u001b[0;34m(self, args, kwargs, override_flat_arg_shapes)\u001b[0m\n\u001b[1;32m   3306\u001b[0m             \u001b[0marg_names\u001b[0m\u001b[0;34m=\u001b[0m\u001b[0marg_names\u001b[0m\u001b[0;34m,\u001b[0m\u001b[0;34m\u001b[0m\u001b[0;34m\u001b[0m\u001b[0m\n\u001b[1;32m   3307\u001b[0m             \u001b[0moverride_flat_arg_shapes\u001b[0m\u001b[0;34m=\u001b[0m\u001b[0moverride_flat_arg_shapes\u001b[0m\u001b[0;34m,\u001b[0m\u001b[0;34m\u001b[0m\u001b[0;34m\u001b[0m\u001b[0m\n\u001b[0;32m-> 3308\u001b[0;31m             capture_by_value=self._capture_by_value),\n\u001b[0m\u001b[1;32m   3309\u001b[0m         \u001b[0mself\u001b[0m\u001b[0;34m.\u001b[0m\u001b[0m_function_attributes\u001b[0m\u001b[0;34m,\u001b[0m\u001b[0;34m\u001b[0m\u001b[0;34m\u001b[0m\u001b[0m\n\u001b[1;32m   3310\u001b[0m         \u001b[0mfunction_spec\u001b[0m\u001b[0;34m=\u001b[0m\u001b[0mself\u001b[0m\u001b[0;34m.\u001b[0m\u001b[0mfunction_spec\u001b[0m\u001b[0;34m,\u001b[0m\u001b[0;34m\u001b[0m\u001b[0;34m\u001b[0m\u001b[0m\n",
      "\u001b[0;32m~/miniconda3/envs/deep-tweezer/lib/python3.6/site-packages/tensorflow/python/framework/func_graph.py\u001b[0m in \u001b[0;36mfunc_graph_from_py_func\u001b[0;34m(name, python_func, args, kwargs, signature, func_graph, autograph, autograph_options, add_control_dependencies, arg_names, op_return_value, collections, capture_by_value, override_flat_arg_shapes, acd_record_initial_resource_uses)\u001b[0m\n\u001b[1;32m   1005\u001b[0m         \u001b[0m_\u001b[0m\u001b[0;34m,\u001b[0m \u001b[0moriginal_func\u001b[0m \u001b[0;34m=\u001b[0m \u001b[0mtf_decorator\u001b[0m\u001b[0;34m.\u001b[0m\u001b[0munwrap\u001b[0m\u001b[0;34m(\u001b[0m\u001b[0mpython_func\u001b[0m\u001b[0;34m)\u001b[0m\u001b[0;34m\u001b[0m\u001b[0;34m\u001b[0m\u001b[0m\n\u001b[1;32m   1006\u001b[0m \u001b[0;34m\u001b[0m\u001b[0m\n\u001b[0;32m-> 1007\u001b[0;31m       \u001b[0mfunc_outputs\u001b[0m \u001b[0;34m=\u001b[0m \u001b[0mpython_func\u001b[0m\u001b[0;34m(\u001b[0m\u001b[0;34m*\u001b[0m\u001b[0mfunc_args\u001b[0m\u001b[0;34m,\u001b[0m \u001b[0;34m**\u001b[0m\u001b[0mfunc_kwargs\u001b[0m\u001b[0;34m)\u001b[0m\u001b[0;34m\u001b[0m\u001b[0;34m\u001b[0m\u001b[0m\n\u001b[0m\u001b[1;32m   1008\u001b[0m \u001b[0;34m\u001b[0m\u001b[0m\n\u001b[1;32m   1009\u001b[0m       \u001b[0;31m# invariant: `func_outputs` contains only Tensors, CompositeTensors,\u001b[0m\u001b[0;34m\u001b[0m\u001b[0;34m\u001b[0m\u001b[0;34m\u001b[0m\u001b[0m\n",
      "\u001b[0;32m~/miniconda3/envs/deep-tweezer/lib/python3.6/site-packages/tensorflow/python/eager/def_function.py\u001b[0m in \u001b[0;36mwrapped_fn\u001b[0;34m(*args, **kwds)\u001b[0m\n\u001b[1;32m    666\u001b[0m         \u001b[0;31m# the function a weak reference to itself to avoid a reference cycle.\u001b[0m\u001b[0;34m\u001b[0m\u001b[0;34m\u001b[0m\u001b[0;34m\u001b[0m\u001b[0m\n\u001b[1;32m    667\u001b[0m         \u001b[0;32mwith\u001b[0m \u001b[0mOptionalXlaContext\u001b[0m\u001b[0;34m(\u001b[0m\u001b[0mcompile_with_xla\u001b[0m\u001b[0;34m)\u001b[0m\u001b[0;34m:\u001b[0m\u001b[0;34m\u001b[0m\u001b[0;34m\u001b[0m\u001b[0m\n\u001b[0;32m--> 668\u001b[0;31m           \u001b[0mout\u001b[0m \u001b[0;34m=\u001b[0m \u001b[0mweak_wrapped_fn\u001b[0m\u001b[0;34m(\u001b[0m\u001b[0;34m)\u001b[0m\u001b[0;34m.\u001b[0m\u001b[0m__wrapped__\u001b[0m\u001b[0;34m(\u001b[0m\u001b[0;34m*\u001b[0m\u001b[0margs\u001b[0m\u001b[0;34m,\u001b[0m \u001b[0;34m**\u001b[0m\u001b[0mkwds\u001b[0m\u001b[0;34m)\u001b[0m\u001b[0;34m\u001b[0m\u001b[0;34m\u001b[0m\u001b[0m\n\u001b[0m\u001b[1;32m    669\u001b[0m         \u001b[0;32mreturn\u001b[0m \u001b[0mout\u001b[0m\u001b[0;34m\u001b[0m\u001b[0;34m\u001b[0m\u001b[0m\n\u001b[1;32m    670\u001b[0m \u001b[0;34m\u001b[0m\u001b[0m\n",
      "\u001b[0;32m~/miniconda3/envs/deep-tweezer/lib/python3.6/site-packages/tensorflow/python/framework/func_graph.py\u001b[0m in \u001b[0;36mwrapper\u001b[0;34m(*args, **kwargs)\u001b[0m\n\u001b[1;32m    992\u001b[0m           \u001b[0;32mexcept\u001b[0m \u001b[0mException\u001b[0m \u001b[0;32mas\u001b[0m \u001b[0me\u001b[0m\u001b[0;34m:\u001b[0m  \u001b[0;31m# pylint:disable=broad-except\u001b[0m\u001b[0;34m\u001b[0m\u001b[0;34m\u001b[0m\u001b[0m\n\u001b[1;32m    993\u001b[0m             \u001b[0;32mif\u001b[0m \u001b[0mhasattr\u001b[0m\u001b[0;34m(\u001b[0m\u001b[0me\u001b[0m\u001b[0;34m,\u001b[0m \u001b[0;34m\"ag_error_metadata\"\u001b[0m\u001b[0;34m)\u001b[0m\u001b[0;34m:\u001b[0m\u001b[0;34m\u001b[0m\u001b[0;34m\u001b[0m\u001b[0m\n\u001b[0;32m--> 994\u001b[0;31m               \u001b[0;32mraise\u001b[0m \u001b[0me\u001b[0m\u001b[0;34m.\u001b[0m\u001b[0mag_error_metadata\u001b[0m\u001b[0;34m.\u001b[0m\u001b[0mto_exception\u001b[0m\u001b[0;34m(\u001b[0m\u001b[0me\u001b[0m\u001b[0;34m)\u001b[0m\u001b[0;34m\u001b[0m\u001b[0;34m\u001b[0m\u001b[0m\n\u001b[0m\u001b[1;32m    995\u001b[0m             \u001b[0;32melse\u001b[0m\u001b[0;34m:\u001b[0m\u001b[0;34m\u001b[0m\u001b[0;34m\u001b[0m\u001b[0m\n\u001b[1;32m    996\u001b[0m               \u001b[0;32mraise\u001b[0m\u001b[0;34m\u001b[0m\u001b[0;34m\u001b[0m\u001b[0m\n",
      "\u001b[0;31mValueError\u001b[0m: in user code:\n\n    /home/oscar.kremer/miniconda3/envs/deep-tweezer/lib/python3.6/site-packages/keras/engine/training.py:1586 predict_function  *\n        return step_function(self, iterator)\n    /home/oscar.kremer/miniconda3/envs/deep-tweezer/lib/python3.6/site-packages/keras/engine/training.py:1576 step_function  **\n        outputs = model.distribute_strategy.run(run_step, args=(data,))\n    /home/oscar.kremer/miniconda3/envs/deep-tweezer/lib/python3.6/site-packages/tensorflow/python/distribute/distribute_lib.py:1286 run\n        return self._extended.call_for_each_replica(fn, args=args, kwargs=kwargs)\n    /home/oscar.kremer/miniconda3/envs/deep-tweezer/lib/python3.6/site-packages/tensorflow/python/distribute/distribute_lib.py:2849 call_for_each_replica\n        return self._call_for_each_replica(fn, args, kwargs)\n    /home/oscar.kremer/miniconda3/envs/deep-tweezer/lib/python3.6/site-packages/tensorflow/python/distribute/distribute_lib.py:3632 _call_for_each_replica\n        return fn(*args, **kwargs)\n    /home/oscar.kremer/miniconda3/envs/deep-tweezer/lib/python3.6/site-packages/keras/engine/training.py:1569 run_step  **\n        outputs = model.predict_step(data)\n    /home/oscar.kremer/miniconda3/envs/deep-tweezer/lib/python3.6/site-packages/keras/engine/training.py:1537 predict_step\n        return self(x, training=False)\n    /home/oscar.kremer/miniconda3/envs/deep-tweezer/lib/python3.6/site-packages/keras/engine/base_layer.py:1037 __call__\n        outputs = call_fn(inputs, *args, **kwargs)\n    /home/oscar.kremer/miniconda3/envs/deep-tweezer/lib/python3.6/site-packages/keras/engine/functional.py:415 call\n        inputs, training=training, mask=mask)\n    /home/oscar.kremer/miniconda3/envs/deep-tweezer/lib/python3.6/site-packages/keras/engine/functional.py:550 _run_internal_graph\n        outputs = node.layer(*args, **kwargs)\n    /home/oscar.kremer/miniconda3/envs/deep-tweezer/lib/python3.6/site-packages/keras/engine/base_layer.py:1020 __call__\n        input_spec.assert_input_compatibility(self.input_spec, inputs, self.name)\n    /home/oscar.kremer/miniconda3/envs/deep-tweezer/lib/python3.6/site-packages/keras/engine/input_spec.py:254 assert_input_compatibility\n        ' but received input with shape ' + display_shape(x.shape))\n\n    ValueError: Input 0 of layer dense_48 is incompatible with the layer: expected axis -1 of input shape to have value 2 but received input with shape (2, 1)\n"
     ]
    }
   ],
   "source": [
    "rewards, ddpg, _ = ddpg_loop(Tweezer())"
   ]
  },
  {
   "cell_type": "code",
   "execution_count": 102,
   "metadata": {},
   "outputs": [
    {
     "data": {
      "image/png": "[encoded data removed]",
      "text/plain": [
       "<Figure size 1080x288 with 1 Axes>"
      ]
     },
     "metadata": {
      "needs_background": "light"
     },
     "output_type": "display_data"
    }
   ],
   "source": [
    "import matplotlib.pyplot as plt\n",
    "plt.figure(figsize=(15,4))\n",
    "#Picking only the first 100 points to have a similar graphic to the one on ex4.pdf\n",
    "plt.plot(rewards[:100], linewidth=2.5)\n",
    "plt.title(\"Reward during simulation DDPG\")\n",
    "plt.xlabel(\"Episode\")\n",
    "plt.ylabel(\"Reward\")\n",
    "plt.show()"
   ]
  },
  {
   "cell_type": "markdown",
   "metadata": {},
   "source": [
    "### Exercise 3.2.\n",
    "\n",
    "Measure the same statistics as for linear state-value actor-critic, and compare the results. Is it what you expected? Explain."
   ]
  },
  {
   "cell_type": "code",
   "execution_count": 99,
   "metadata": {},
   "outputs": [],
   "source": [
    "# Creating function to act on the system with no learning and exploration.\n",
    "\n",
    "def end_perf_ddpg(env, \n",
    "                  ddpg,\n",
    "                  episodes=200, \n",
    "                  steps=1000, \n",
    "                  render_step=0):\n",
    "    s = env.reset()\n",
    "    rewards = []\n",
    "    for e in tqdm(range(episodes)):\n",
    "        s = env.reset()\n",
    "        total_r = 0\n",
    "        for t in range(steps):\n",
    "            # Take an action and apply to the system\n",
    "            a = ddpg.actor(s)\n",
    "            sP, r, done, _ = env.step(a)\n",
    "            total_r+=r\n",
    "            if render_step and not t%render_step:\n",
    "                env.render()\n",
    "            if done:\n",
    "                break\n",
    "            s = sP\n",
    "        rewards.append(total_r) \n",
    "    return np.array(rewards) "
   ]
  },
  {
   "cell_type": "code",
   "execution_count": 101,
   "metadata": {},
   "outputs": [
    {
     "name": "stderr",
     "output_type": "stream",
     "text": [
      "100%|██████████| 200/200 [01:38<00:00,  2.03it/s]\n"
     ]
    }
   ],
   "source": [
    "# Testing function\n",
    "reward = end_perf_ddpg(environment, ddpg)"
   ]
  },
  {
   "cell_type": "code",
   "execution_count": 106,
   "metadata": {},
   "outputs": [
    {
     "name": "stderr",
     "output_type": "stream",
     "text": [
      "100%|██████████| 100/100 [07:59<00:00,  4.79s/it]\n",
      "100%|██████████| 100/100 [02:24<00:00,  1.45s/it]\n",
      "100%|██████████| 100/100 [11:04<00:00,  6.64s/it]\n",
      "100%|██████████| 100/100 [01:51<00:00,  1.12s/it]\n",
      "100%|██████████| 100/100 [11:15<00:00,  6.75s/it]\n",
      "100%|██████████| 100/100 [05:03<00:00,  3.03s/it]\n",
      "100%|██████████| 100/100 [07:20<00:00,  4.40s/it]\n",
      "100%|██████████| 100/100 [01:32<00:00,  1.09it/s]\n",
      "100%|██████████| 100/100 [06:31<00:00,  3.92s/it]\n",
      "100%|██████████| 100/100 [03:55<00:00,  2.36s/it]\n"
     ]
    }
   ],
   "source": [
    "# Running 5 different tests on the algorithm to evaluate the metrics with 100 episodes to consume less time\n",
    "\n",
    "num_tests = 5\n",
    "environment = Pendulum()\n",
    "perfs, trains, training_time = [], [], []\n",
    "for i in range(num_tests):\n",
    "    ddpg, train_reward, time_consumption = ddpg_loop(environment, episodes=100, plot=False)\n",
    "    perf_reward = end_perf_ddpg(environment, ddpg, episodes=100)\n",
    "    trains.append(train_reward)\n",
    "    perfs.append(perf_reward)\n",
    "    training_time.append(time_consumption)"
   ]
  },
  {
   "cell_type": "code",
   "execution_count": 126,
   "metadata": {},
   "outputs": [
    {
     "data": {
      "text/plain": [
       "(36.333333333333336, 30.0, 12.657891697365017)"
      ]
     },
     "execution_count": 126,
     "metadata": {},
     "output_type": "execute_result"
    }
   ],
   "source": [
    "number_episodes = np.array(list(map(lambda x: np.argwhere(np.array(x)>-500)[3][0], trains)))\n",
    "number_episodes.mean(), np.median(number_episodes), number_episodes.std()"
   ]
  },
  {
   "cell_type": "code",
   "execution_count": 127,
   "metadata": {},
   "outputs": [
    {
     "data": {
      "text/plain": [
       "(-1014.7041650936073, -977.6824290654102, 354.4362118926296)"
      ]
     },
     "execution_count": 127,
     "metadata": {},
     "output_type": "execute_result"
    }
   ],
   "source": [
    "end_performances = np.array(list(map(lambda x: x.mean(), perf_reward)))\n",
    "end_performances.mean(), np.median(end_performances), end_performances.std()"
   ]
  },
  {
   "cell_type": "code",
   "execution_count": 128,
   "metadata": {},
   "outputs": [
    {
     "data": {
      "text/plain": [
       "(530.2096154212952, 479.3325080871582, 117.30870358139215)"
      ]
     },
     "execution_count": 128,
     "metadata": {},
     "output_type": "execute_result"
    }
   ],
   "source": [
    "training_time = np.array(training_time)\n",
    "training_time.mean(), np.median(training_time), training_time.std()"
   ]
  },
  {
   "cell_type": "markdown",
   "metadata": {},
   "source": [
    "#### Results\n",
    "\n",
    "The results in table also include the ones encountered in the exercise 2.4.\n",
    "\n",
    "  | Model | Metric | Mean Value | Median Value | Standard Deviation |\n",
    "   |---|---|---|---|---|\n",
    "   |SVAC| Rise Time |  16.666| 12| 8.055|\n",
    "   |SVAC| End Performance| -210.6968 | -266.986 | 146.818 | \n",
    "   |SVAC| Computation Time (s)| 8.3750 | 8.336 | 0.3397|\n",
    "   |DDPG| Rise Time |  36.34| 30.00| 12.657|\n",
    "   |DDPG| End Performance| -1014.734 | -977.6824 | 354.436 | \n",
    "   |DDPG| Computation Time (s)| 530.209 | 479.3324 | 117.308|\n",
    "   \n",
    "As expected, the computation time of DDPG is much higher than SVAC, since the neural networks are much more complex and have a bigger of parameters to adjust in its training. It would be expected that the DDPG would be better since its a more complex model, however for the number of trials in all the parameters SVAC achieved better results. With this is possible to conclude that for inverse pendulum problem, the RBF estimator with SVAC is a better option than using DDPG.\n",
    "   "
   ]
  }
 ],
 "metadata": {
  "kernelspec": {
   "display_name": "Python 3",
   "language": "python",
   "name": "python3"
  },
  "language_info": {
   "codemirror_mode": {
    "name": "ipython",
    "version": 3
   },
   "file_extension": ".py",
   "mimetype": "text/x-python",
   "name": "python",
   "nbconvert_exporter": "python",
   "pygments_lexer": "ipython3",
   "version": "3.6.15"
  }
 },
 "nbformat": 4,
 "nbformat_minor": 4
}
