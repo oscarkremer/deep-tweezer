{
 "cells": [
  {
   "cell_type": "code",
   "execution_count": 1,
   "metadata": {},
   "outputs": [],
   "source": [
    "from collections import Counter\n",
    "from imblearn.over_sampling import ADASYN, BorderlineSMOTE, SMOTE\n",
    "from imblearn.under_sampling import RandomUnderSampler\n",
    "from imblearn.pipeline import Pipeline\n",
    "from matplotlib import pyplot\n",
    "import pandas as pd\n",
    "from numpy import where, mean\n",
    "from sklearn.datasets import make_classification\n",
    "from sklearn.model_selection import cross_val_score\n",
    "from sklearn.model_selection import RepeatedStratifiedKFold\n",
    "from sklearn.tree import DecisionTreeClassifier"
   ]
  },
  {
   "cell_type": "code",
   "execution_count": 2,
   "metadata": {},
   "outputs": [
    {
     "data": {
      "text/html": [
       "<div>\n",
       "<style scoped>\n",
       "    .dataframe tbody tr th:only-of-type {\n",
       "        vertical-align: middle;\n",
       "    }\n",
       "\n",
       "    .dataframe tbody tr th {\n",
       "        vertical-align: top;\n",
       "    }\n",
       "\n",
       "    .dataframe thead th {\n",
       "        text-align: right;\n",
       "    }\n",
       "</style>\n",
       "<table border=\"1\" class=\"dataframe\">\n",
       "  <thead>\n",
       "    <tr style=\"text-align: right;\">\n",
       "      <th></th>\n",
       "      <th>Patient.age.quantile</th>\n",
       "      <th>SARS.Cov.2.exam.result</th>\n",
       "      <th>Hematocrit</th>\n",
       "      <th>Hemoglobin</th>\n",
       "      <th>Platelets</th>\n",
       "      <th>Mean.platelet.volume</th>\n",
       "      <th>Red.blood.Cells</th>\n",
       "      <th>Lymphocytes</th>\n",
       "      <th>Mean.corpuscular.hemoglobin.concentration..MCHC.</th>\n",
       "      <th>Leukocytes</th>\n",
       "      <th>Basophils</th>\n",
       "      <th>Mean.corpuscular.hemoglobin..MCH.</th>\n",
       "      <th>Eosinophils</th>\n",
       "      <th>Mean.corpuscular.volume..MCV.</th>\n",
       "      <th>Monocytes</th>\n",
       "      <th>Red.blood.cell.distribution.width..RDW.</th>\n",
       "    </tr>\n",
       "  </thead>\n",
       "  <tbody>\n",
       "    <tr>\n",
       "      <th>0</th>\n",
       "      <td>2</td>\n",
       "      <td>1</td>\n",
       "      <td>0.991838</td>\n",
       "      <td>0.792188</td>\n",
       "      <td>-0.341548</td>\n",
       "      <td>1.469188</td>\n",
       "      <td>1.653476</td>\n",
       "      <td>-0.048383</td>\n",
       "      <td>-0.452899</td>\n",
       "      <td>-0.420197</td>\n",
       "      <td>1.303529</td>\n",
       "      <td>-1.442245</td>\n",
       "      <td>-0.498393</td>\n",
       "      <td>-1.396114</td>\n",
       "      <td>1.933339</td>\n",
       "      <td>0.967144</td>\n",
       "    </tr>\n",
       "    <tr>\n",
       "      <th>1</th>\n",
       "      <td>15</td>\n",
       "      <td>1</td>\n",
       "      <td>-0.495919</td>\n",
       "      <td>-0.398276</td>\n",
       "      <td>-0.718402</td>\n",
       "      <td>-0.438097</td>\n",
       "      <td>-0.567950</td>\n",
       "      <td>-0.935404</td>\n",
       "      <td>0.244149</td>\n",
       "      <td>-0.820919</td>\n",
       "      <td>-1.140144</td>\n",
       "      <td>0.334989</td>\n",
       "      <td>-0.666950</td>\n",
       "      <td>0.226280</td>\n",
       "      <td>-0.456613</td>\n",
       "      <td>-0.978899</td>\n",
       "    </tr>\n",
       "    <tr>\n",
       "      <th>2</th>\n",
       "      <td>14</td>\n",
       "      <td>1</td>\n",
       "      <td>-0.312811</td>\n",
       "      <td>-0.648900</td>\n",
       "      <td>-0.027502</td>\n",
       "      <td>-0.101517</td>\n",
       "      <td>-0.656101</td>\n",
       "      <td>-0.099557</td>\n",
       "      <td>-1.448681</td>\n",
       "      <td>-0.968407</td>\n",
       "      <td>-0.529226</td>\n",
       "      <td>0.021361</td>\n",
       "      <td>0.175837</td>\n",
       "      <td>0.807138</td>\n",
       "      <td>1.513128</td>\n",
       "      <td>0.347948</td>\n",
       "    </tr>\n",
       "    <tr>\n",
       "      <th>3</th>\n",
       "      <td>14</td>\n",
       "      <td>1</td>\n",
       "      <td>-0.518807</td>\n",
       "      <td>-0.272964</td>\n",
       "      <td>-0.215930</td>\n",
       "      <td>0.459449</td>\n",
       "      <td>-0.515058</td>\n",
       "      <td>-0.457777</td>\n",
       "      <td>0.941197</td>\n",
       "      <td>-0.573250</td>\n",
       "      <td>-0.223767</td>\n",
       "      <td>0.439533</td>\n",
       "      <td>-0.709090</td>\n",
       "      <td>0.066045</td>\n",
       "      <td>2.537393</td>\n",
       "      <td>-0.801985</td>\n",
       "    </tr>\n",
       "    <tr>\n",
       "      <th>4</th>\n",
       "      <td>7</td>\n",
       "      <td>1</td>\n",
       "      <td>0.694287</td>\n",
       "      <td>0.729532</td>\n",
       "      <td>-0.743526</td>\n",
       "      <td>0.235063</td>\n",
       "      <td>0.595655</td>\n",
       "      <td>-0.636887</td>\n",
       "      <td>0.343725</td>\n",
       "      <td>-0.606644</td>\n",
       "      <td>-0.223767</td>\n",
       "      <td>0.125903</td>\n",
       "      <td>-0.119138</td>\n",
       "      <td>-0.014074</td>\n",
       "      <td>0.882811</td>\n",
       "      <td>-0.713529</td>\n",
       "    </tr>\n",
       "  </tbody>\n",
       "</table>\n",
       "</div>"
      ],
      "text/plain": [
       "   Patient.age.quantile  SARS.Cov.2.exam.result  Hematocrit  Hemoglobin  \\\n",
       "0                     2                       1    0.991838    0.792188   \n",
       "1                    15                       1   -0.495919   -0.398276   \n",
       "2                    14                       1   -0.312811   -0.648900   \n",
       "3                    14                       1   -0.518807   -0.272964   \n",
       "4                     7                       1    0.694287    0.729532   \n",
       "\n",
       "   Platelets  Mean.platelet.volume  Red.blood.Cells  Lymphocytes  \\\n",
       "0  -0.341548              1.469188         1.653476    -0.048383   \n",
       "1  -0.718402             -0.438097        -0.567950    -0.935404   \n",
       "2  -0.027502             -0.101517        -0.656101    -0.099557   \n",
       "3  -0.215930              0.459449        -0.515058    -0.457777   \n",
       "4  -0.743526              0.235063         0.595655    -0.636887   \n",
       "\n",
       "   Mean.corpuscular.hemoglobin.concentration..MCHC.  Leukocytes  Basophils  \\\n",
       "0                                         -0.452899   -0.420197   1.303529   \n",
       "1                                          0.244149   -0.820919  -1.140144   \n",
       "2                                         -1.448681   -0.968407  -0.529226   \n",
       "3                                          0.941197   -0.573250  -0.223767   \n",
       "4                                          0.343725   -0.606644  -0.223767   \n",
       "\n",
       "   Mean.corpuscular.hemoglobin..MCH.  Eosinophils  \\\n",
       "0                          -1.442245    -0.498393   \n",
       "1                           0.334989    -0.666950   \n",
       "2                           0.021361     0.175837   \n",
       "3                           0.439533    -0.709090   \n",
       "4                           0.125903    -0.119138   \n",
       "\n",
       "   Mean.corpuscular.volume..MCV.  Monocytes  \\\n",
       "0                      -1.396114   1.933339   \n",
       "1                       0.226280  -0.456613   \n",
       "2                       0.807138   1.513128   \n",
       "3                       0.066045   2.537393   \n",
       "4                      -0.014074   0.882811   \n",
       "\n",
       "   Red.blood.cell.distribution.width..RDW.  \n",
       "0                                 0.967144  \n",
       "1                                -0.978899  \n",
       "2                                 0.347948  \n",
       "3                                -0.801985  \n",
       "4                                -0.713529  "
      ]
     },
     "execution_count": 2,
     "metadata": {},
     "output_type": "execute_result"
    }
   ],
   "source": [
    "df = pd.read_csv('corona_blood.csv', index_col=None)\n",
    "df.head(5)\n",
    "df = df.fillna(0)"
   ]
  },
  {
   "cell_type": "code",
   "execution_count": 5,
   "metadata": {},
   "outputs": [
    {
     "name": "stdout",
     "output_type": "stream",
     "text": [
      "Counter({0: 517, 1: 81})\n",
      "Counter({1: 517, 0: 517})\n"
     ]
    }
   ],
   "source": [
    "# Exemplo do Uso de SMOTE para oversampling\n",
    "\n",
    "X = df.drop(columns=[\"SARS.Cov.2.exam.result\"])\n",
    "y = df['SARS.Cov.2.exam.result'].values\n",
    "#X, y = make_classification(n_samples=10000, n_features=2, n_redundant=0,\n",
    "#n_clusters_per_class=1, weights=[0.99], flip_y=0, random_state=1)\n",
    "counter = Counter(y)\n",
    "print(counter)\n",
    "oversample = SMOTE()\n",
    "X, y = oversample.fit_resample(X, y)\n",
    "counter = Counter(y)\n",
    "print(counter)\n"
   ]
  },
  {
   "cell_type": "code",
   "execution_count": 7,
   "metadata": {},
   "outputs": [
    {
     "name": "stdout",
     "output_type": "stream",
     "text": [
      "Counter({0: 517, 1: 81})\n",
      "Counter({0: 206, 1: 103})\n"
     ]
    }
   ],
   "source": [
    "# Exemplo de SMOTE usado para oversampling seguido por subsampling, como proposto no artigo \n",
    "# (SMOTE: Synthetic Minority Over-sampling Technique, 2002.)\n",
    "X = df.drop(columns=[\"SARS.Cov.2.exam.result\"])\n",
    "y = df['SARS.Cov.2.exam.result'].values\n",
    "counter = Counter(y)\n",
    "print(counter)\n",
    "over = SMOTE(sampling_strategy=0.2) \n",
    "under = RandomUnderSampler(sampling_strategy=0.5)\n",
    "steps = [('o', over), ('u', under)]\n",
    "pipeline = Pipeline(steps=steps)\n",
    "X, y = pipeline.fit_resample(X, y)\n",
    "counter = Counter(y)\n",
    "print(counter)\n"
   ]
  },
  {
   "cell_type": "code",
   "execution_count": 10,
   "metadata": {},
   "outputs": [
    {
     "name": "stdout",
     "output_type": "stream",
     "text": [
      "Mean ROC AUC: 0.692\n"
     ]
    }
   ],
   "source": [
    "# Utilização de Smote para oversampling junto à Classificação por Árvores de Decisão\n",
    "# define dataset\n",
    "X = df.drop(columns=[\"SARS.Cov.2.exam.result\"])\n",
    "y = df['SARS.Cov.2.exam.result'].values\n",
    "steps = [('over', SMOTE()), ('model', DecisionTreeClassifier())]\n",
    "pipeline = Pipeline(steps=steps)\n",
    "cv = RepeatedStratifiedKFold(n_splits=10, n_repeats=3, random_state=1)\n",
    "scores = cross_val_score(pipeline, X, y, scoring='roc_auc', cv=cv, n_jobs=-1)\n",
    "print('Mean ROC AUC: %.3f' % mean(scores))"
   ]
  },
  {
   "cell_type": "code",
   "execution_count": 18,
   "metadata": {},
   "outputs": [
    {
     "name": "stdout",
     "output_type": "stream",
     "text": [
      "Mean ROC AUC: 0.679\n"
     ]
    }
   ],
   "source": [
    "# Utilização de Smote para oversampling junto à Classificação por Árvores de Decisão com subsampling\n",
    "\n",
    "X = df.drop(columns=[\"SARS.Cov.2.exam.result\"])\n",
    "y = df['SARS.Cov.2.exam.result'].values\n",
    "model = DecisionTreeClassifier()\n",
    "over = SMOTE(sampling_strategy=0.4)\n",
    "under = RandomUnderSampler(sampling_strategy=0.5)\n",
    "steps = [('over', over), ('under', under), ('model', model)]\n",
    "pipeline = Pipeline(steps=steps)\n",
    "cv = RepeatedStratifiedKFold(n_splits=10, n_repeats=3, random_state=1)\n",
    "scores = cross_val_score(pipeline, X, y, scoring='roc_auc', cv=cv, n_jobs=-1)\n",
    "print('Mean ROC AUC: %.3f' % mean(scores))"
   ]
  },
  {
   "cell_type": "code",
   "execution_count": 20,
   "metadata": {},
   "outputs": [
    {
     "name": "stdout",
     "output_type": "stream",
     "text": [
      "> k=1, Mean ROC AUC: 0.657\n",
      "> k=2, Mean ROC AUC: 0.687\n",
      "> k=3, Mean ROC AUC: 0.662\n",
      "> k=4, Mean ROC AUC: 0.641\n",
      "> k=5, Mean ROC AUC: 0.702\n",
      "> k=6, Mean ROC AUC: 0.683\n",
      "> k=7, Mean ROC AUC: 0.689\n"
     ]
    }
   ],
   "source": [
    "#Análise de KNN e influência na curva ROC\n",
    "\n",
    "X = df.drop(columns=[\"SARS.Cov.2.exam.result\"])\n",
    "y = df['SARS.Cov.2.exam.result'].values\n",
    "\n",
    "k_values = [1, 2, 3, 4, 5, 6, 7]\n",
    "for k in k_values:\n",
    "    model = DecisionTreeClassifier()\n",
    "    over = SMOTE(sampling_strategy=0.5, k_neighbors=k)\n",
    "    under = RandomUnderSampler(sampling_strategy=0.5)\n",
    "    steps = [('over', over), ('under', under), ('model', model)]\n",
    "    pipeline = Pipeline(steps=steps)\n",
    "    cv = RepeatedStratifiedKFold(n_splits=10, n_repeats=3, random_state=1)\n",
    "    scores = cross_val_score(pipeline, X, y, scoring='roc_auc', cv=cv, n_jobs=-1)\n",
    "    score = mean(scores)\n",
    "    print('> k=%d, Mean ROC AUC: %.3f' % (k, score))"
   ]
  },
  {
   "cell_type": "code",
   "execution_count": 27,
   "metadata": {},
   "outputs": [
    {
     "name": "stdout",
     "output_type": "stream",
     "text": [
      "Mean ROC AUC: 0.699\n"
     ]
    }
   ],
   "source": [
    "X = df.drop(columns=[\"SARS.Cov.2.exam.result\"])\n",
    "y = df['SARS.Cov.2.exam.result'].values\n",
    "model = DecisionTreeClassifier()\n",
    "over = BorderlineSMOTE(sampling_strategy=0.4)\n",
    "under = RandomUnderSampler(sampling_strategy=0.5)\n",
    "steps = [('over', over), ('under', under), ('model', model)]\n",
    "pipeline = Pipeline(steps=steps)\n",
    "cv = RepeatedStratifiedKFold(n_splits=10, n_repeats=3, random_state=1)\n",
    "scores = cross_val_score(pipeline, X, y, scoring='roc_auc', cv=cv, n_jobs=-1)\n",
    "print('Mean ROC AUC: %.3f' % mean(scores))\n"
   ]
  },
  {
   "cell_type": "code",
   "execution_count": 25,
   "metadata": {},
   "outputs": [
    {
     "name": "stdout",
     "output_type": "stream",
     "text": [
      "Mean ROC AUC: 0.675\n"
     ]
    }
   ],
   "source": [
    "# Análise com Adaptive Synthetic Sampling para criação de novos dados\n",
    "\n",
    "X = df.drop(columns=[\"SARS.Cov.2.exam.result\"])\n",
    "y = df['SARS.Cov.2.exam.result'].values\n",
    "model = DecisionTreeClassifier()\n",
    "over = ADASYN(sampling_strategy=0.4)\n",
    "under = RandomUnderSampler(sampling_strategy=0.5)\n",
    "steps = [('over', over), ('under', under), ('model', model)]\n",
    "pipeline = Pipeline(steps=steps)\n",
    "cv = RepeatedStratifiedKFold(n_splits=10, n_repeats=3, random_state=1)\n",
    "scores = cross_val_score(pipeline, X, y, scoring='roc_auc', cv=cv, n_jobs=-1)\n",
    "print('Mean ROC AUC: %.3f' % mean(scores))"
   ]
  },
  {
   "cell_type": "code",
   "execution_count": null,
   "metadata": {},
   "outputs": [],
   "source": []
  }
 ],
 "metadata": {
  "kernelspec": {
   "display_name": "Python 3",
   "language": "python",
   "name": "python3"
  },
  "language_info": {
   "codemirror_mode": {
    "name": "ipython",
    "version": 3
   },
   "file_extension": ".py",
   "mimetype": "text/x-python",
   "name": "python",
   "nbconvert_exporter": "python",
   "pygments_lexer": "ipython3",
   "version": "3.6.13"
  }
 },
 "nbformat": 4,
 "nbformat_minor": 4
}
